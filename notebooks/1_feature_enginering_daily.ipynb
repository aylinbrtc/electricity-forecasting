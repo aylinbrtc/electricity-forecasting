{
 "cells": [
  {
   "cell_type": "code",
   "execution_count": 1,
   "id": "142d0d51-8f91-4cf1-9abd-8dbbd5a12d1d",
   "metadata": {},
   "outputs": [],
   "source": [
    "import pandas as pd\n",
    "import numpy as np\n",
    "import matplotlib.pyplot as plt\n",
    "import seaborn as sns\n",
    "import warnings\n",
    "warnings.filterwarnings('ignore')\n",
    "\n",
    "\n",
    "energy = pd.read_csv('../data/raw/energy_dataset.csv')\n",
    "weather = pd.read_csv('../data/raw/weather_features.csv')"
   ]
  },
  {
   "cell_type": "markdown",
   "id": "9a4fe975-d9f5-4942-8aaf-f935f1e160fb",
   "metadata": {},
   "source": [
    "Bu projede tahmin etmek istediğim şey, bir sonraki günün (24 saat sonrası) ortalama elektrik fiyatı. Bunu oluşturmak için, veri setindeki `price actual` sütununu 24 saat ileri kaydırıp ardından 24 saatlik ortalamasını alıyorum.\n",
    "\n",
    "Bu işlem, modelin bugünkü verilere bakarak yarınki ortalama fiyatı tahmin etmesini sağlıyor. Ayrıca bu yöntem, gelecek veriyi kullanmadan oluşturulduğu için veri sızıntısı (data leakage) riski taşımıyor."
   ]
  },
  {
   "cell_type": "code",
   "execution_count": 2,
   "id": "f1fce298-7484-4142-955e-0b54ddfed624",
   "metadata": {},
   "outputs": [],
   "source": [
    "energy = energy.sort_values('time').reset_index(drop=True)\n",
    "# 1 gün sonrası ortalama fiyat hedefi (sızıntısız)\n",
    "energy['target_price'] = (\n",
    "    energy['price actual']\n",
    "    .shift(-24)\n",
    "    .rolling(window=24)\n",
    "    .mean()\n",
    ")\n",
    "\n",
    "# Hedefin tanımlanmadığı (son 24 satır) veriler çıkarılır\n",
    "energy = energy.dropna(subset=['target_price'])\n",
    "\n",
    "# Tarih formatına çevirme\n",
    "energy['time'] = pd.to_datetime(energy['time'], utc=True)"
   ]
  },
  {
   "cell_type": "code",
   "execution_count": 3,
   "id": "f91c037b-567e-4705-ac78-3ab87db7ca25",
   "metadata": {},
   "outputs": [],
   "source": [
    "energy['weekday'] = energy['time'].dt.weekday\n",
    "energy['month'] = energy['time'].dt.month\n",
    "energy['day'] = energy['time'].dt.day\n",
    "energy['hour'] = energy['time'].dt.hour\n",
    "\n",
    "\n",
    "energy['hour_sin'] = np.sin(2 * np.pi * energy['hour'] / 24)\n",
    "energy['hour_cos'] = np.cos(2 * np.pi * energy['hour'] / 24)\n",
    "\n",
    "energy['month_sin'] = np.sin(2 * np.pi * energy['month'] / 12)\n",
    "energy['month_cos'] = np.cos(2 * np.pi * energy['month'] / 12)\n",
    "\n",
    "#sadece gece 00:00 için\n",
    "energy['is_midnight'] = (energy['hour'] == 0).astype(int)\n",
    "\n",
    "#hafta sonu bilgisi\n",
    "energy['is_weekend'] = energy['weekday'].isin([5, 6]).astype(int)\n",
    "energy['is_weekday'] = (energy['weekday'] < 5).astype(int)\n",
    "\n",
    "# 1: kış, 2: ilkbahar, 3: yaz, 4: sonbahar\n",
    "def get_season(month):\n",
    "    return (month % 12 + 3) // 3\n",
    "energy['season'] = energy['month'].apply(get_season)\n",
    "\n",
    "energy['weekofyear'] = energy['time'].dt.isocalendar().week\n",
    "energy['year'] = energy['time'].dt.year"
   ]
  },
  {
   "cell_type": "code",
   "execution_count": 4,
   "id": "464c368a-e2c7-400f-b8a6-d8d71f7cca64",
   "metadata": {},
   "outputs": [],
   "source": [
    "# 1 Gün Sonrası Tahmini için anlamlı lag listesi\n",
    "meaningful_lags = [1, 2, 3, 24, 48, 72, 96, 120, 144]\n",
    "\n",
    "for lag in meaningful_lags:\n",
    "    energy[f'price_lag_{lag}'] = energy['price actual'].shift(lag)\n",
    "    energy[f'load_lag_{lag}'] = energy['total load actual'].shift(lag)"
   ]
  },
  {
   "cell_type": "markdown",
   "id": "ab639eea-2ca8-4ed2-a8c3-46c42c884aed",
   "metadata": {},
   "source": [
    "Fiyatlarda gün içi veya günler arası genel eğilimleri yakalayabilmek için kaydırmalı ortalama ve standart sapma gibi istatistiksel öznitelikler oluşturdum.\n",
    "\n",
    "Burada 1, 2 ve 3 günlük pencereler (saat cinsinden 24, 48, 72) kullandım. Bu sayede model, geçmiş birkaç gün içindeki fiyat hareketliliği hakkında fikir sahibi olacak. Ayrıca `shift(1)` ile sadece geçmiş veriye bakılmasını sağladım, böylece sızıntı riski de önlenmiş oldu."
   ]
  },
  {
   "cell_type": "code",
   "execution_count": 5,
   "id": "23162ace-4592-45b6-97bb-ab822d581884",
   "metadata": {},
   "outputs": [],
   "source": [
    "# 1 gün sonrası için anlamlı olabilecek pencere boyutları (1–3 gün)\n",
    "rolling_windows = [24, 48, 72]  #1, 2 ve 3 gün\n",
    "\n",
    "for window in rolling_windows:\n",
    "    energy[f'price_roll_mean_{window}'] = (\n",
    "        energy['price actual'].shift(1).rolling(window=window).mean()\n",
    "    )\n",
    "    energy[f'price_roll_std_{window}'] = (\n",
    "        energy['price actual'].shift(1).rolling(window=window).std()\n",
    "    )\n",
    "    energy[f'load_roll_mean_{window}'] = (\n",
    "        energy['total load actual'].shift(1).rolling(window=window).mean()\n",
    "    )\n",
    "    energy[f'load_roll_std_{window}'] = (\n",
    "        energy['total load actual'].shift(1).rolling(window=window).std()\n",
    "    )\n"
   ]
  },
  {
   "cell_type": "markdown",
   "id": "1486825b-a303-4332-883a-c4c813ce2edd",
   "metadata": {},
   "source": [
    "Elektrik fiyatları genellikle sağa çarpık bir dağılıma sahiptir. Bu durumu biraz düzeltmek ve modelin daha dengeli öğrenmesini sağlamak için log dönüşümü (`log1p`) uyguladım.\n",
    "\n",
    "Ayrıca aykırı değerleri belirleyebilmek için 7 günlük (168 saatlik) kaydırmalı pencere ile IQR (interquartile range) hesapladım. Bu yöntemle fiyatın alışılmadık derecede arttığı veya düştüğü noktaları tespit edebiliyorum. Bu tür uc noktalar, modelin tahmin performansını bozabileceği için önemli."
   ]
  },
  {
   "cell_type": "code",
   "execution_count": 6,
   "id": "33fb9daa-9d14-4f2f-9c04-3a48a3ac0110",
   "metadata": {},
   "outputs": [],
   "source": [
    "# Log dönüşüm\n",
    "energy['log_price'] = np.log1p(energy['price actual'])\n",
    "\n",
    "#outlier belirlemek için 7 günlük (168 saat) rolling IQR kullanımı – geçmişe dayalı\n",
    "q1 = energy['price actual'].shift(1).rolling(window=168).quantile(0.25)\n",
    "q3 = energy['price actual'].shift(1).rolling(window=168).quantile(0.75)\n",
    "iqr = q3 - q1\n",
    "\n",
    "lower = q1 - 1.5 * iqr\n",
    "upper = q3 + 1.5 * iqr\n",
    "\n",
    "#şu anki fiyat, geçmişe göre aykırı mı\n",
    "energy['is_price_outlier'] = (\n",
    "    ((energy['price actual'] < lower) | (energy['price actual'] > upper)).astype(int)\n",
    ")"
   ]
  },
  {
   "cell_type": "markdown",
   "id": "18b78343-68e8-4c47-8486-7c56d32f421b",
   "metadata": {},
   "source": [
    "Bazı desenler zaman serisinde sadece zaman aralığına değil, frekansına da bağlı olabilir. Özellikle periyodik dalgalanmaları yakalayabilmek için fiyat serisinin frekans bileşenlerini (FFT - Fast Fourier Transform) hesapladım.\n",
    "\n",
    "Bu analizle belirli bir zaman diliminde (örneğin 1 hafta) fiyatların ne kadar düzenli dalgalandığını görebiliyorum. Elde ettiğim öznitelikler; ortalama frekans, maksimum frekans ve standart sapma gibi özetler içeriyor. Bunlar modelin, sezonsal veya tekrar eden davranışları yakalamasına yardımcı olabilir."
   ]
  },
  {
   "cell_type": "code",
   "execution_count": 7,
   "id": "e450381d-7ce3-4f94-bb55-b336f9af360b",
   "metadata": {},
   "outputs": [],
   "source": [
    "def compute_rolling_fft(series, window):\n",
    "    result = {'fft_mean': [], 'fft_std': [], 'fft_max': []}\n",
    "    for i in range(len(series)):\n",
    "        if i< window + 1:  # 1 adım geçmişe kaydırmak için +1\n",
    "            result['fft_mean'].append(np.nan)\n",
    "            result['fft_std'].append(np.nan)\n",
    "            result['fft_max'].append(np.nan)\n",
    "        else:\n",
    "            window_data = series.iloc[i - window - 1:i - 1]  # GELECEK VERİ YOK\n",
    "            fft_vals = np.fft.fft(window_data.fillna(0).values)\n",
    "            fft_mag = np.abs(fft_vals)\n",
    "            result['fft_mean'].append(fft_mag.mean())\n",
    "            result['fft_std'].append(fft_mag.std())\n",
    "            result['fft_max'].append(fft_mag.max())\n",
    "    return result\n",
    "\n",
    "\n",
    "\n",
    "fft_hourly = compute_rolling_fft(energy['price actual'], window=72)\n",
    "\n",
    "energy['fft_mean'] = fft_hourly['fft_mean']\n",
    "energy['fft_std'] = fft_hourly['fft_std']\n",
    "energy['fft_max'] = fft_hourly['fft_max']"
   ]
  },
  {
   "cell_type": "code",
   "execution_count": 8,
   "id": "a6696de1-5d9f-44bf-a7bd-e4e9e8060c46",
   "metadata": {},
   "outputs": [],
   "source": [
    "fossil_cols = [\n",
    "    'generation fossil gas',\n",
    "    'generation fossil hard coal',\n",
    "    'generation fossil brown coal/lignite',\n",
    "    'generation fossil oil',\n",
    "    'generation fossil oil shale',\n",
    "    'generation fossil coal-derived gas',\n",
    "    'generation fossil peat'\n",
    "]\n",
    "\n",
    "renewable_cols = [\n",
    "    'generation hydro water reservoir',\n",
    "    'generation hydro run-of-river and poundage',\n",
    "    'generation hydro pumped storage consumption',\n",
    "    'generation wind onshore',\n",
    "    'generation wind offshore',\n",
    "    'generation solar',\n",
    "    'generation biomass',\n",
    "    'generation geothermal',\n",
    "    'generation marine',\n",
    "    'generation other renewable'\n",
    "]\n",
    "\n",
    "other_cols = ['generation nuclear', 'generation waste', 'generation other']\n"
   ]
  },
  {
   "cell_type": "markdown",
   "id": "54941556-e4db-4808-b9b2-2b276db45fd9",
   "metadata": {},
   "source": [
    "Zaman serilerinde geçmiş değerler genellikle geleceği tahmin etmede işe yarar. Bu yüzden hem fiyat (`price actual`) hem de tüketim (`total load actual`) için geçmişe yönelik çeşitli gecikmeli öznitelikler (lag features) oluşturdum.\n",
    "\n",
    "Burada kullandığım gecikmeler 1 saatten başlayıp 6 güne kadar (144 saat) uzanıyor. Bu sayede hem kısa vadeli etkileri hem de birkaç gün önceki fiyatların yarattığı etkileri modele tanıtmayı amaçlıyorum."
   ]
  },
  {
   "cell_type": "code",
   "execution_count": 9,
   "id": "3f210d24-cd9f-43e4-9f76-9235d8de6198",
   "metadata": {},
   "outputs": [],
   "source": [
    "#üretim verilerini 1 saat gecikmeli alıyoruz sızıntı riskine karşı\n",
    "for col in fossil_cols + renewable_cols + other_cols:\n",
    "    energy[f'{col}_lag1'] = energy[col].shift(1)\n",
    "\n",
    "# Toplam üretim\n",
    "energy['generation_total'] = energy[[f'{col}_lag1' for col in fossil_cols + renewable_cols + other_cols]].sum(axis=1)\n",
    "\n",
    "energy['fossil_total'] = energy[[f'{col}_lag1' for col in fossil_cols]].sum(axis=1)\n",
    "energy['renewable_total'] = energy[[f'{col}_lag1' for col in renewable_cols]].sum(axis=1)\n",
    "\n",
    "# Oranlar\n",
    "energy['fossil_ratio'] = energy['fossil_total'] / (energy['generation_total'] + 1e-6)\n",
    "energy['renewable_ratio'] = energy['renewable_total'] / (energy['generation_total'] + 1e-6)\n",
    "\n",
    "# Entropi\n",
    "def entropy(row):\n",
    "    p = row / (row.sum() + 1e-6)\n",
    "    return -(p * np.log(p + 1e-6)).sum()\n",
    "\n",
    "def entropy(row):\n",
    "    p = row / (row.sum() + 1e-6)\n",
    "    return -(p * np.log(p + 1e-6)).sum()\n",
    "\n",
    "entropy_cols = [f'{col}_lag1' for col in fossil_cols + renewable_cols + other_cols]\n",
    "energy['generation_entropy'] = energy[entropy_cols].apply(entropy, axis=1)"
   ]
  },
  {
   "cell_type": "code",
   "execution_count": 10,
   "id": "9abfd18e-c4aa-437f-9ee9-f4dfd91186d3",
   "metadata": {},
   "outputs": [
    {
     "name": "stdout",
     "output_type": "stream",
     "text": [
      "target_price ile en yüksek korelasyonlu ilk 40 değişken:\n"
     ]
    },
    {
     "data": {
      "text/plain": [
       "target_price                                 1.000000\n",
       "price_roll_mean_24                           0.867450\n",
       "price_roll_mean_48                           0.842271\n",
       "price_roll_mean_72                           0.836635\n",
       "fft_std                                      0.834841\n",
       "fft_max                                      0.833541\n",
       "price actual                                 0.811131\n",
       "price_lag_1                                  0.803046\n",
       "log_price                                    0.797094\n",
       "price_lag_2                                  0.795387\n",
       "price_lag_3                                  0.788132\n",
       "price_lag_24                                 0.679159\n",
       "price_lag_144                                0.663750\n",
       "price_lag_48                                 0.631157\n",
       "price_lag_120                                0.625031\n",
       "price_lag_72                                 0.624813\n",
       "price_lag_96                                 0.614811\n",
       "price day ahead                              0.600382\n",
       "fft_mean                                     0.569532\n",
       "generation fossil hard coal                  0.430577\n",
       "fossil_ratio                                 0.427526\n",
       "generation fossil hard coal_lag1             0.427251\n",
       "fossil_total                                 0.422040\n",
       "generation fossil brown coal/lignite         0.356338\n",
       "generation fossil brown coal/lignite_lag1    0.353734\n",
       "weekofyear                                   0.328690\n",
       "month                                        0.328637\n",
       "generation fossil gas                        0.321928\n",
       "generation fossil gas_lag1                   0.317766\n",
       "month_cos                                    0.226238\n",
       "generation other renewable                   0.211031\n",
       "generation other renewable_lag1              0.208493\n",
       "is_weekday                                   0.202734\n",
       "load_roll_std_72                             0.188874\n",
       "generation waste                             0.185329\n",
       "generation waste_lag1                        0.184480\n",
       "generation fossil oil                        0.174237\n",
       "year                                         0.170341\n",
       "generation fossil oil_lag1                   0.169419\n",
       "season                                       0.165876\n",
       "Name: target_price, dtype: float64"
      ]
     },
     "metadata": {},
     "output_type": "display_data"
    }
   ],
   "source": [
    "constant_cols = [col for col in energy.columns if energy[col].nunique() <= 1]\n",
    "\n",
    "numeric_cols = energy.drop(columns=constant_cols, errors='ignore').select_dtypes(include=[np.number])\n",
    "# Sadece sayısal sütunlar içinden korelasyon analizi\n",
    "correlations = numeric_cols.corr()\n",
    "if 'target_price' in correlations.columns:\n",
    "    target_corr = correlations['target_price'].sort_values(ascending=False)\n",
    "    print(\"target_price ile en yüksek korelasyonlu ilk 40 değişken:\")\n",
    "    display(target_corr.head(40))"
   ]
  },
  {
   "cell_type": "code",
   "execution_count": 11,
   "id": "3ed82e7f-96ed-4744-8ed5-8dbdd7935b58",
   "metadata": {},
   "outputs": [],
   "source": [
    "weather['dt_iso'] = pd.to_datetime(weather['dt_iso'], utc=True)"
   ]
  },
  {
   "cell_type": "code",
   "execution_count": 12,
   "id": "50cbaed7-d4a7-4a55-9f28-250d08f8274b",
   "metadata": {},
   "outputs": [],
   "source": [
    "madrid_weather = weather[weather['city_name'] == 'Madrid'].copy()\n",
    "madrid_weather['dt_iso'] = pd.to_datetime(madrid_weather['dt_iso'], utc=True)\n",
    "\n",
    "#prefix\n",
    "madrid_weather = madrid_weather.add_prefix('madrid_')\n",
    "madrid_weather = madrid_weather.rename(columns={'madrid_dt_iso': 'time'})\n",
    "\n",
    "merged_data= pd.merge(\n",
    "    energy,\n",
    "    madrid_weather,\n",
    "    on='time',\n",
    "    how='left'\n",
    ")\n"
   ]
  },
  {
   "cell_type": "code",
   "execution_count": 13,
   "id": "27c22bfb-993b-4b1c-9cbe-f989848724d0",
   "metadata": {},
   "outputs": [
    {
     "name": "stdout",
     "output_type": "stream",
     "text": [
      "Yeni shape: (35017, 105)\n",
      "Eklenen weather sütunları:\n",
      "{'madrid_wind_deg', 'madrid_temp_min', 'madrid_weather_main', 'madrid_temp', 'madrid_weather_icon', 'madrid_pressure', 'madrid_humidity', 'madrid_wind_speed', 'madrid_rain_1h', 'madrid_rain_3h', 'madrid_clouds_all', 'madrid_weather_id', 'madrid_weather_description', 'madrid_city_name', 'madrid_temp_max', 'time', 'madrid_snow_3h'}\n"
     ]
    }
   ],
   "source": [
    "print(\"Yeni shape:\", energy.shape)\n",
    "print(\"Eklenen weather sütunları:\")\n",
    "print(set(madrid_weather.columns) - {'dt_iso', 'city_name'})"
   ]
  },
  {
   "cell_type": "code",
   "execution_count": 14,
   "id": "22bd600b-c399-4b81-b150-cb2f988f22f7",
   "metadata": {},
   "outputs": [],
   "source": [
    "#geçmişe göre flagli yağmur kar durumu\n",
    "merged_data['madrid_is_rainy'] = (merged_data['madrid_rain_3h'].shift(1) > 0).astype(int)\n",
    "merged_data['madrid_is_snowy'] = (merged_data['madrid_snow_3h'].shift(1) > 0).astype(int)\n",
    "\n",
    "# 3 saat öncesine göre fark sıcaklık\n",
    "merged_data['madrid_temp_diff_3h'] = merged_data['madrid_temp'] - merged_data['madrid_temp'].shift(3)\n",
    "\n",
    "# trend yakalama\n",
    "merged_data['madrid_temp_roll3_mean'] = merged_data['madrid_temp'].shift(1).rolling(window=3).mean()\n",
    "\n",
    "# 1 haftalık nem dalgalanması\n",
    "merged_data['madrid_humidity_roll24_std'] = merged_data['madrid_humidity'].shift(1).rolling(window=24).std()\n"
   ]
  },
  {
   "cell_type": "code",
   "execution_count": 15,
   "id": "7c778095-6e90-401e-96fa-803fe5f27f95",
   "metadata": {},
   "outputs": [
    {
     "data": {
      "text/plain": [
       "madrid_wind_speed             0.272554\n",
       "madrid_clouds_all             0.086438\n",
       "madrid_wind_deg               0.077254\n",
       "madrid_rain_1h                0.050934\n",
       "madrid_is_rainy               0.031915\n",
       "madrid_rain_3h                0.026725\n",
       "madrid_weather_id             0.025445\n",
       "madrid_pressure               0.023418\n",
       "madrid_temp                   0.015032\n",
       "madrid_temp_roll3_mean        0.015021\n",
       "madrid_temp_max               0.012240\n",
       "madrid_snow_3h                0.009673\n",
       "madrid_is_snowy               0.009631\n",
       "madrid_temp_min               0.006878\n",
       "madrid_humidity_roll24_std    0.006059\n",
       "madrid_temp_diff_3h           0.001237\n",
       "madrid_humidity               0.000468\n",
       "dtype: float64"
      ]
     },
     "metadata": {},
     "output_type": "display_data"
    }
   ],
   "source": [
    "weather_cols = [\n",
    "    col for col in merged_data.columns \n",
    "    if col.startswith('madrid_') and np.issubdtype(merged_data[col].dtype, np.number)\n",
    "]\n",
    "\n",
    "# Korelasyon\n",
    "corrs = merged_data[weather_cols].corrwith(merged_data['target_price']).abs().sort_values(ascending=False)\n",
    "display(corrs)"
   ]
  },
  {
   "cell_type": "code",
   "execution_count": 16,
   "id": "e90be7ec-c428-40a7-b74c-4252fec485e4",
   "metadata": {},
   "outputs": [],
   "source": [
    "from scipy.fftpack import fft\n",
    "import numpy as np\n",
    "\n",
    "def compute_fft_features(series, n_freq=5):\n",
    "    fft_vals = np.abs(fft(series.fillna(0).values))\n",
    "    fft_energy = np.sum(fft_vals**2)\n",
    "    top_freqs = np.sort(fft_vals)[-n_freq:]\n",
    "    return list(top_freqs) + [fft_energy]\n",
    "\n",
    "\n",
    "fft_features = []\n",
    "window_size = 24\n",
    "\n",
    "#veriyi önceden kaydırıyoruz sızıntıya karşı\n",
    "shifted_series = merged_data['price actual'].shift(1)\n",
    "\n",
    "for i in range(window_size, len(merged_data)):\n",
    "    window = shifted_series.iloc[i - window_size:i]\n",
    "    window = window.fillna(method=\"ffill\").fillna(method=\"bfill\")  # Eksik verileri doldur\n",
    "    features = compute_fft_features(window)\n",
    "\n",
    "    fft_features.append(features)\n",
    "\n",
    "fft_cols = [f'fft_peak_{i+1}' for i in range(5)] + ['fft_energy']\n",
    "fft_df = pd.DataFrame(fft_features, columns=fft_cols, index=merged_data.index[window_size:])\n",
    "merged_data = merged_data.join(fft_df)"
   ]
  },
  {
   "cell_type": "code",
   "execution_count": 17,
   "id": "c666904a-989b-4841-be08-a9cac6c31085",
   "metadata": {},
   "outputs": [],
   "source": [
    "def haar_transform(series):\n",
    "    n = len(series) // 2 * 2  # çift uzunluk\n",
    "    series = series[:n]\n",
    "    approx = [(series[i] + series[i+1]) / 2 for i in range(0, n, 2)]\n",
    "    detail = [(series[i] - series[i+1]) / 2 for i in range(0, n, 2)]\n",
    "    return np.mean(approx), np.std(approx), np.mean(detail), np.std(detail)\n",
    "\n",
    "haar_features = []\n",
    "window_size = 24\n",
    "\n",
    "#sızıntı riskini önlemek için geçmiş veri ile pencere oluştur\n",
    "shifted_series = merged_data['price actual'].shift(1)\n",
    "\n",
    "for i in range(window_size, len(merged_data)):\n",
    "    window = shifted_series.iloc[i - window_size:i]\n",
    "    window = window.fillna(method=\"ffill\").fillna(method=\"bfill\")  # Eksikleri doldur\n",
    "\n",
    "    features = haar_transform(window.values)\n",
    "    haar_features.append(features)\n",
    "\n",
    "haar_cols = ['dwt_approx_mean', 'dwt_approx_std', 'dwt_detail_mean', 'dwt_detail_std']\n",
    "haar_df = pd.DataFrame(haar_features, columns=haar_cols, index=merged_data.index[window_size:])\n",
    "merged_data = merged_data.join(haar_df)\n"
   ]
  },
  {
   "cell_type": "code",
   "execution_count": 42,
   "id": "ffe859a9-b6ac-4027-9f07-22145caa1d70",
   "metadata": {},
   "outputs": [
    {
     "name": "stdout",
     "output_type": "stream",
     "text": [
      "Sayısal Feature Listesi:\n",
      "01. generation biomass\n",
      "02. generation fossil brown coal/lignite\n",
      "03. generation fossil coal-derived gas\n",
      "04. generation fossil gas\n",
      "05. generation fossil hard coal\n",
      "06. generation fossil oil\n",
      "07. generation fossil oil shale\n",
      "08. generation fossil peat\n",
      "09. generation geothermal\n",
      "10. generation hydro pumped storage aggregated\n",
      "11. generation hydro pumped storage consumption\n",
      "12. generation hydro run-of-river and poundage\n",
      "13. generation hydro water reservoir\n",
      "14. generation marine\n",
      "15. generation nuclear\n",
      "16. generation other\n",
      "17. generation other renewable\n",
      "18. generation solar\n",
      "19. generation waste\n",
      "20. generation wind offshore\n",
      "21. generation wind onshore\n",
      "22. forecast solar day ahead\n",
      "23. forecast wind offshore eday ahead\n",
      "24. forecast wind onshore day ahead\n",
      "25. total load forecast\n",
      "26. total load actual\n",
      "27. price day ahead\n",
      "28. price actual\n",
      "29. target_price\n",
      "30. weekday\n",
      "31. month\n",
      "32. day\n",
      "33. hour\n",
      "34. hour_sin\n",
      "35. hour_cos\n",
      "36. month_sin\n",
      "37. month_cos\n",
      "38. is_midnight\n",
      "39. is_weekend\n",
      "40. is_weekday\n",
      "41. season\n",
      "42. weekofyear\n",
      "43. year\n",
      "44. price_lag_1\n",
      "45. load_lag_1\n",
      "46. price_lag_2\n",
      "47. load_lag_2\n",
      "48. price_lag_3\n",
      "49. load_lag_3\n",
      "50. price_lag_24\n",
      "51. load_lag_24\n",
      "52. price_lag_48\n",
      "53. load_lag_48\n",
      "54. price_lag_72\n",
      "55. load_lag_72\n",
      "56. price_lag_96\n",
      "57. load_lag_96\n",
      "58. price_lag_120\n",
      "59. load_lag_120\n",
      "60. price_lag_144\n",
      "61. load_lag_144\n",
      "62. price_roll_mean_24\n",
      "63. price_roll_std_24\n",
      "64. load_roll_mean_24\n",
      "65. load_roll_std_24\n",
      "66. price_roll_mean_48\n",
      "67. price_roll_std_48\n",
      "68. load_roll_mean_48\n",
      "69. load_roll_std_48\n",
      "70. price_roll_mean_72\n",
      "71. price_roll_std_72\n",
      "72. load_roll_mean_72\n",
      "73. load_roll_std_72\n",
      "74. log_price\n",
      "75. is_price_outlier\n",
      "76. fft_mean\n",
      "77. fft_std\n",
      "78. fft_max\n",
      "79. generation fossil gas_lag1\n",
      "80. generation fossil hard coal_lag1\n",
      "81. generation fossil brown coal/lignite_lag1\n",
      "82. generation fossil oil_lag1\n",
      "83. generation fossil oil shale_lag1\n",
      "84. generation fossil coal-derived gas_lag1\n",
      "85. generation fossil peat_lag1\n",
      "86. generation hydro water reservoir_lag1\n",
      "87. generation hydro run-of-river and poundage_lag1\n",
      "88. generation hydro pumped storage consumption_lag1\n",
      "89. generation wind onshore_lag1\n",
      "90. generation wind offshore_lag1\n",
      "91. generation solar_lag1\n",
      "92. generation biomass_lag1\n",
      "93. generation geothermal_lag1\n",
      "94. generation marine_lag1\n",
      "95. generation other renewable_lag1\n",
      "96. generation nuclear_lag1\n",
      "97. generation waste_lag1\n",
      "98. generation other_lag1\n",
      "99. generation_total\n",
      "100. fossil_total\n",
      "101. renewable_total\n",
      "102. fossil_ratio\n",
      "103. renewable_ratio\n",
      "104. generation_entropy\n",
      "105. madrid_temp\n",
      "106. madrid_temp_min\n",
      "107. madrid_temp_max\n",
      "108. madrid_pressure\n",
      "109. madrid_humidity\n",
      "110. madrid_wind_speed\n",
      "111. madrid_wind_deg\n",
      "112. madrid_rain_1h\n",
      "113. madrid_rain_3h\n",
      "114. madrid_snow_3h\n",
      "115. madrid_clouds_all\n",
      "116. madrid_weather_id\n",
      "117. madrid_is_rainy\n",
      "118. madrid_is_snowy\n",
      "119. madrid_temp_diff_3h\n",
      "120. madrid_temp_roll3_mean\n",
      "121. madrid_humidity_roll24_std\n",
      "122. fft_peak_1\n",
      "123. fft_peak_2\n",
      "124. fft_peak_3\n",
      "125. fft_peak_4\n",
      "126. fft_peak_5\n",
      "127. fft_energy\n",
      "128. dwt_approx_mean\n",
      "129. dwt_approx_std\n",
      "130. dwt_detail_mean\n",
      "131. dwt_detail_std\n"
     ]
    }
   ],
   "source": [
    "numeric_features = merged_data.select_dtypes(include=[np.number]).columns.tolist()\n",
    "\n",
    "print(\"Sayısal Feature Listesi:\")\n",
    "for i, col in enumerate(numeric_features):\n",
    "    print(f\"{i+1:02d}. {col}\")\n"
   ]
  },
  {
   "cell_type": "code",
   "execution_count": 44,
   "id": "f1f417aa-72b7-4b6b-aacb-1423575c05e4",
   "metadata": {},
   "outputs": [
    {
     "name": "stdout",
     "output_type": "stream",
     "text": [
      "Rolling Korelasyon Sonuçları:\n",
      "\n",
      "price_lag_24:\n",
      "  - mean: en iyi pencere = 72, korelasyon = 0.7837\n",
      "  - std: en iyi pencere = 24, korelasyon = 0.1351\n",
      "\n",
      "price_lag_48:\n",
      "  - mean: en iyi pencere = 72, korelasyon = 0.7688\n",
      "  - std: en iyi pencere = 24, korelasyon = 0.1253\n",
      "\n",
      "load_lag_24:\n",
      "  - mean: en iyi pencere = 72, korelasyon = 0.0848\n",
      "  - std: en iyi pencere = 72, korelasyon = 0.1685\n",
      "\n",
      "load_lag_48:\n",
      "  - mean: en iyi pencere = 72, korelasyon = 0.0837\n",
      "  - std: en iyi pencere = 72, korelasyon = 0.1467\n",
      "\n",
      "generation fossil gas_lag1:\n",
      "  - mean: en iyi pencere = 24, korelasyon = 0.3399\n",
      "  - std: en iyi pencere = 24, korelasyon = 0.2451\n",
      "\n",
      "generation wind onshore_lag1:\n",
      "  - mean: en iyi pencere = 6, korelasyon = -0.1872\n",
      "  - std: en iyi pencere = 36, korelasyon = -0.1023\n",
      "\n",
      "generation nuclear_lag1:\n",
      "  - mean: en iyi pencere = 72, korelasyon = -0.1101\n",
      "  - std: en iyi pencere = 72, korelasyon = -0.0080\n",
      "\n",
      "madrid_temp:\n",
      "  - mean: en iyi pencere = 72, korelasyon = 0.0230\n",
      "  - std: en iyi pencere = 24, korelasyon = 0.0951\n",
      "\n",
      "madrid_humidity:\n",
      "  - mean: en iyi pencere = 36, korelasyon = -0.0082\n",
      "  - std: en iyi pencere = 72, korelasyon = -0.0368\n",
      "\n",
      "total load actual:\n",
      "  - mean: en iyi pencere = 24, korelasyon = 0.1579\n",
      "  - std: en iyi pencere = 72, korelasyon = 0.1797\n",
      "\n",
      "price day ahead:\n",
      "  - mean: en iyi pencere = 72, korelasyon = 0.6450\n",
      "  - std: en iyi pencere = 72, korelasyon = -0.0493\n"
     ]
    }
   ],
   "source": [
    "selected_features = [\n",
    "    'price_lag_24',\n",
    "    'price_lag_48',\n",
    "    'load_lag_24',\n",
    "    'load_lag_48',\n",
    "    'generation fossil gas_lag1',\n",
    "    'generation wind onshore_lag1',\n",
    "    'generation nuclear_lag1',\n",
    "    'madrid_temp',\n",
    "    'madrid_humidity',\n",
    "    'total load actual',\n",
    "    'price day ahead'\n",
    "]\n",
    "\n",
    "target_series = merged_data['target_price']\n",
    "\n",
    "candidate_windows = [6, 12, 24, 36, 48, 72]\n",
    "rolling_stats = {'mean': lambda s: s.mean(), 'std': lambda s: s.std()}\n",
    "\n",
    "# Korelasyon sonuçları\n",
    "print(\"Rolling Korelasyon Sonuçları:\")\n",
    "for col in selected_features:\n",
    "    print(f\"\\n{col}:\")\n",
    "    for stat_name, stat_func in rolling_stats.items():\n",
    "        best_corr = (None, 0)\n",
    "        for w in candidate_windows:\n",
    "            roll = merged_data[col].shift(1).rolling(window=w).apply(stat_func, raw=True)\n",
    "            corr = roll.corr(target_series)\n",
    "            if abs(corr) > abs(best_corr[1]):\n",
    "                best_corr = (w, corr)\n",
    "        print(f\"  - {stat_name}: en iyi pencere = {best_corr[0]}, korelasyon = {best_corr[1]:.4f}\")\n"
   ]
  },
  {
   "cell_type": "code",
   "execution_count": 46,
   "id": "bdda109a-1ab3-438c-82ae-a2a6a470d63a",
   "metadata": {},
   "outputs": [],
   "source": [
    "# Rolling işlemleri için tanım\n",
    "rolling_features = {\n",
    "    'price_lag_24': {'mean': 72, 'std': 24},\n",
    "    'price_lag_48': {'mean': 72, 'std': 24},\n",
    "    'load_lag_24': {'std': 72},\n",
    "    'load_lag_48': {'std': 72},\n",
    "    'generation fossil gas_lag1': {'mean': 24, 'std': 24},\n",
    "    'generation wind onshore_lag1': {'mean': 6, 'std': 36},\n",
    "    'generation nuclear_lag1': {'mean': 72},\n",
    "    'madrid_temp': {'std': 24},\n",
    "    'total load actual': {'mean': 24, 'std': 72},\n",
    "    'price day ahead': {'mean': 72}\n",
    "}\n",
    "\n",
    "# Rolling feature oluşturma\n",
    "for feature, stats in rolling_features.items():\n",
    "    for stat_name, window in stats.items():\n",
    "        col_name = f\"{feature}_roll{window}_{stat_name}\"\n",
    "        merged_data[col_name] = (\n",
    "            merged_data[feature]\n",
    "            .shift(1)  # Gelecek bilgi sızıntısını önlemek için\n",
    "            .rolling(window=window)\n",
    "            .agg(stat_name)\n",
    "        )"
   ]
  },
  {
   "cell_type": "code",
   "execution_count": 48,
   "id": "e7f76238-9258-4006-bb46-1eba016e419f",
   "metadata": {},
   "outputs": [
    {
     "name": "stdout",
     "output_type": "stream",
     "text": [
      "NaN oranı en yüksek 15 kolon:\n"
     ]
    },
    {
     "data": {
      "text/plain": [
       "generation hydro pumped storage aggregated    1.000000\n",
       "forecast wind offshore eday ahead             1.000000\n",
       "load_lag_48_roll72_std                        0.039895\n",
       "load_lag_24_roll72_std                        0.039232\n",
       "load_roll_std_72                              0.038680\n",
       "load_roll_mean_72                             0.038680\n",
       "total load actual_roll72_std                  0.038570\n",
       "load_roll_mean_48                             0.026091\n",
       "load_roll_std_48                              0.026091\n",
       "generation nuclear_lag1_roll72_mean           0.020817\n",
       "load_roll_std_24                              0.013418\n",
       "load_roll_mean_24                             0.013418\n",
       "total load actual_roll24_mean                 0.013390\n",
       "generation wind onshore_lag1_roll36_std       0.011872\n",
       "generation fossil gas_lag1_roll24_mean        0.008227\n",
       "dtype: float64"
      ]
     },
     "metadata": {},
     "output_type": "display_data"
    },
    {
     "name": "stdout",
     "output_type": "stream",
     "text": [
      "\n",
      "2 kolonun %30'dan fazlası eksik.\n"
     ]
    }
   ],
   "source": [
    "nan_ratios = merged_data.isna().mean().sort_values(ascending=False)\n",
    "print(\"NaN oranı en yüksek 15 kolon:\")\n",
    "display(nan_ratios.head(15))\n",
    "\n",
    "high_nan_cols = nan_ratios[nan_ratios > 0.3].index.tolist()\n",
    "print(f\"\\n{len(high_nan_cols)} kolonun %30'dan fazlası eksik.\")\n"
   ]
  },
  {
   "cell_type": "code",
   "execution_count": 50,
   "id": "4c8edeae-be9e-4ce8-9189-2c713e20277a",
   "metadata": {},
   "outputs": [],
   "source": [
    "cols_to_drop_nan = [\n",
    "    'forecast wind offshore eday ahead',\n",
    "    'generation hydro pumped storage aggregated'\n",
    "]"
   ]
  },
  {
   "cell_type": "code",
   "execution_count": 52,
   "id": "1e6009ec-c4e9-4380-9dfd-0280e1a89d45",
   "metadata": {},
   "outputs": [
    {
     "name": "stdout",
     "output_type": "stream",
     "text": [
      "15 kolon sabit veya tekil değere sahip.\n"
     ]
    }
   ],
   "source": [
    "constant_cols = [col for col in merged_data.columns if merged_data[col].nunique() <= 1]\n",
    "print(f\"{len(constant_cols)} kolon sabit veya tekil değere sahip.\")"
   ]
  },
  {
   "cell_type": "code",
   "execution_count": 54,
   "id": "2bfea212-6c78-4835-91b5-3d85920947ab",
   "metadata": {},
   "outputs": [],
   "source": [
    "merged_data.drop(columns=constant_cols, inplace=True)"
   ]
  },
  {
   "cell_type": "markdown",
   "id": "ee5b03a4-6b0f-4645-8fed-4fdde9d2f5b1",
   "metadata": {},
   "source": [
    "Modeli eğitirken anlamlı bilgi taşımayan değişkenleri çıkarmak önemli. Bu yüzden önce sabit olan sütunları (tüm satırlarda aynı değere sahip olanlar) tespit edip veri setinden çıkardım.\n",
    "\n",
    "Sonrasında, kalan sayısal sütunlar arasında korelasyon matrisini hesaplayarak değişkenler arası ilişkileri görselleştirdim. Bu analiz sayesinde birbirine çok benzeyen (yüksek korelasyonlu) sütunlar olup olmadığını da inceleyebiliyorum."
   ]
  },
  {
   "cell_type": "code",
   "execution_count": 56,
   "id": "c484b826-230f-4d5b-a7a6-db7af2cbb22c",
   "metadata": {},
   "outputs": [
    {
     "name": "stdout",
     "output_type": "stream",
     "text": [
      "Yüksek korelasyonlu kolon çiftleri:\n",
      "forecast solar day ahead ve generation solar → r = 0.9931\n",
      "forecast wind onshore day ahead ve generation wind onshore → r = 0.9943\n",
      "total load actual ve total load forecast → r = 0.9951\n",
      "is_weekday ve is_weekend → r = -1.0000\n",
      "weekofyear ve month → r = 0.9812\n",
      "price_lag_1 ve price actual → r = 0.9667\n",
      "load_lag_1 ve total load actual → r = 0.9515\n",
      "price_lag_2 ve price_lag_1 → r = 0.9666\n",
      "load_lag_2 ve load_lag_1 → r = 0.9512\n",
      "price_lag_3 ve price_lag_2 → r = 0.9665\n",
      "load_lag_3 ve load_lag_2 → r = 0.9511\n",
      "price_roll_mean_48 ve price_roll_mean_24 → r = 0.9677\n",
      "price_roll_mean_72 ve price_roll_mean_48 → r = 0.9819\n",
      "log_price ve price actual → r = 0.9707\n",
      "fft_std ve price_roll_mean_48 → r = 0.9799\n",
      "fft_std ve price_roll_mean_72 → r = 0.9995\n",
      "fft_max ve price_roll_mean_48 → r = 0.9802\n",
      "fft_max ve price_roll_mean_72 → r = 0.9999\n",
      "fft_max ve fft_std → r = 0.9996\n",
      "generation fossil gas_lag1 ve generation fossil gas → r = 0.9697\n",
      "generation fossil hard coal_lag1 ve generation fossil hard coal → r = 0.9841\n",
      "generation fossil brown coal/lignite_lag1 ve generation fossil brown coal/lignite → r = 0.9830\n",
      "generation fossil oil_lag1 ve generation fossil oil → r = 0.9619\n",
      "generation hydro run-of-river and poundage_lag1 ve generation hydro run-of-river and poundage → r = 0.9905\n",
      "generation wind onshore_lag1 ve generation wind onshore → r = 0.9794\n",
      "generation wind onshore_lag1 ve forecast wind onshore day ahead → r = 0.9772\n",
      "generation solar_lag1 ve generation solar → r = 0.9515\n",
      "generation biomass_lag1 ve generation biomass → r = 0.9878\n",
      "generation other renewable_lag1 ve generation other renewable → r = 0.9742\n",
      "generation nuclear_lag1 ve generation nuclear → r = 0.9815\n",
      "generation waste_lag1 ve generation waste → r = 0.9835\n",
      "generation other_lag1 ve generation other → r = 0.9832\n",
      "madrid_temp_min ve madrid_temp → r = 0.9771\n",
      "madrid_temp_max ve madrid_temp → r = 0.9887\n",
      "madrid_temp_roll3_mean ve madrid_temp → r = 0.9672\n",
      "madrid_temp_roll3_mean ve madrid_temp_min → r = 0.9500\n",
      "fft_peak_2 ve fft_peak_1 → r = 1.0000\n",
      "fft_peak_4 ve fft_peak_3 → r = 1.0000\n",
      "fft_peak_5 ve price_roll_mean_24 → r = 0.9970\n",
      "fft_peak_5 ve price_roll_mean_48 → r = 0.9671\n",
      "fft_energy ve price_roll_mean_24 → r = 0.9810\n",
      "fft_energy ve price_roll_mean_48 → r = 0.9535\n",
      "fft_energy ve fft_peak_5 → r = 0.9842\n",
      "dwt_approx_mean ve price_roll_mean_24 → r = 0.9970\n",
      "dwt_approx_mean ve price_roll_mean_48 → r = 0.9671\n",
      "dwt_approx_mean ve fft_peak_5 → r = 1.0000\n",
      "dwt_approx_mean ve fft_energy → r = 0.9842\n",
      "dwt_approx_std ve price_roll_std_24 → r = 0.9701\n",
      "dwt_approx_std ve fft_peak_3 → r = 0.9716\n",
      "dwt_approx_std ve fft_peak_4 → r = 0.9716\n",
      "price_lag_24_roll72_mean ve price_roll_mean_72 → r = 0.9686\n",
      "price_lag_24_roll72_mean ve fft_std → r = 0.9711\n",
      "price_lag_24_roll72_mean ve fft_max → r = 0.9709\n",
      "price_lag_48_roll72_mean ve price_lag_24_roll72_mean → r = 0.9640\n",
      "total load actual_roll24_mean ve load_roll_mean_24 → r = 0.9857\n",
      "total load actual_roll72_std ve load_roll_std_72 → r = 0.9645\n"
     ]
    }
   ],
   "source": [
    "import seaborn as sns\n",
    "import matplotlib.pyplot as plt\n",
    "\n",
    "# Sayısal kolonlar arasında korelasyon\n",
    "numeric_cols = merged_data.select_dtypes(include=[np.number]).drop(columns=constant_cols, errors='ignore')\n",
    "corr_matrix = numeric_cols.corr()\n",
    "\n",
    "# Yüksek korelasyonlu çiftleri belirle\n",
    "high_corr_pairs = []\n",
    "threshold = 0.95\n",
    "\n",
    "for i in range(len(corr_matrix.columns)):\n",
    "    for j in range(i):\n",
    "        corr = corr_matrix.iloc[i, j]\n",
    "        if abs(corr) > threshold:\n",
    "            high_corr_pairs.append((corr_matrix.columns[i], corr_matrix.columns[j], corr))\n",
    "\n",
    "print(\"Yüksek korelasyonlu kolon çiftleri:\")\n",
    "for a, b, c in high_corr_pairs:\n",
    "    print(f\"{a} ve {b} → r = {c:.4f}\")\n"
   ]
  },
  {
   "cell_type": "code",
   "execution_count": 58,
   "id": "03f2a2a7-a0b8-4ad0-acad-e99b42fa208f",
   "metadata": {},
   "outputs": [],
   "source": [
    "cols_to_drop_corr = [\n",
    "    # Forecast yerine gerçek generation verisi tercih edilecek\n",
    "    'forecast solar day ahead',\n",
    "    'forecast wind onshore day ahead',\n",
    "    'total load forecast',\n",
    "\n",
    "    # İkili redundant ilişkiler\n",
    "    'is_weekend',  # is_weekday zaten var ve tersi\n",
    "    'month',       # weekofyear daha ince granülerlik sağlar\n",
    "\n",
    "    # price actual ile güçlü ilişkili olanlar\n",
    "    'price actual',\n",
    "    'log_price',\n",
    "\n",
    "    # redundant lag'lar (ilk olanlar tutuluyor)\n",
    "    'price_lag_2', 'price_lag_3',\n",
    "    'load_lag_2', 'load_lag_3',\n",
    "\n",
    "    # çok yakın rolling ortalamalar – sadece biri tutulur\n",
    "    'price_roll_mean_48',\n",
    "    'price_roll_mean_72',\n",
    "    \n",
    "    # fft serileri çok benzer – birkaçı yeterli\n",
    "    'fft_std', 'fft_max',\n",
    "    \n",
    "    # generation verileri – lag1 tercih edilir\n",
    "    'generation fossil gas',\n",
    "    'generation fossil hard coal',\n",
    "    'generation fossil brown coal/lignite',\n",
    "    'generation fossil oil',\n",
    "    'generation hydro run-of-river and poundage',\n",
    "    'generation wind onshore',\n",
    "    'generation solar',\n",
    "    'generation biomass',\n",
    "    'generation other renewable',\n",
    "    'generation nuclear',\n",
    "    'generation waste',\n",
    "    'generation other',\n",
    "\n",
    "    # sıcaklık türevleri redundant\n",
    "    'madrid_temp',\n",
    "    'madrid_temp_min',\n",
    "    'madrid_temp_max',\n",
    "    \n",
    "    # fft/dwt yoğun tekrar\n",
    "    'fft_peak_1', 'fft_peak_2', 'fft_peak_3', 'fft_peak_4',\n",
    "    'price_roll_mean_48',\n",
    "    'dwt_approx_mean',\n",
    "    'dwt_approx_std',\n",
    "]\n"
   ]
  },
  {
   "cell_type": "code",
   "execution_count": 60,
   "id": "179b621e-c675-467c-a47f-947913ea0f66",
   "metadata": {},
   "outputs": [],
   "source": [
    "leaky_cols = [\n",
    "    \"target_price\",                    # hedefin kendisi\n",
    "    \"price actual\",                   # direkt hedefle ilgili\n",
    "    \"log_price\",                      # türevi\n",
    "    'target_price_roll6_mean'\n",
    "    \"target_price_roll24_mean\",       # geleceğe dair bilgi içeriyor\n",
    "    \"target_price_roll24_std\",        # aynı şekilde\n",
    "]"
   ]
  },
  {
   "cell_type": "code",
   "execution_count": 62,
   "id": "e20b66ed-e827-4998-bf3b-d2d73685316f",
   "metadata": {},
   "outputs": [],
   "source": [
    "merged_data.drop(columns=cols_to_drop_nan + cols_to_drop_corr, errors='ignore', inplace=True)\n",
    "X = (\n",
    "    merged_data\n",
    "    .drop(columns=leaky_cols, errors='ignore')\n",
    "    .select_dtypes(include=[np.number])\n",
    "    .fillna(0)\n",
    ")\n",
    "y = merged_data['target_price'].fillna(0)\n"
   ]
  },
  {
   "cell_type": "markdown",
   "id": "db80af28-923b-41e7-ac1e-36ae51336de6",
   "metadata": {},
   "source": [
    "Veri setinde çok sayıda öznitelik olduğu için, hangi değişkenlerin tahmin açısından daha etkili olduğunu görmek istedim. Bunun için hızlıca bir LightGBM modeli eğitip öznitelik önemlerine baktım."
   ]
  },
  {
   "cell_type": "code",
   "execution_count": 64,
   "id": "caeaa76b-a6a6-4e3f-8cc4-87b09f1bc3a3",
   "metadata": {},
   "outputs": [
    {
     "data": {
      "image/png": "[encoded data removed]",
      "text/plain": [
       "<Figure size 1000x800 with 1 Axes>"
      ]
     },
     "metadata": {},
     "output_type": "display_data"
    }
   ],
   "source": [
    "import lightgbm as lgb\n",
    "from sklearn.model_selection import train_test_split\n",
    "import matplotlib.pyplot as plt\n",
    "import pandas as pd\n",
    "\n",
    "\n",
    "X_train, X_test, y_train, y_test = train_test_split(\n",
    "    X, y, test_size=0.2, random_state=42\n",
    ")\n",
    "\n",
    "model = lgb.LGBMRegressor(\n",
    "    n_estimators=50,\n",
    "    learning_rate=0.1,\n",
    "    max_bin=255,\n",
    "    importance_type='gain',\n",
    "    n_jobs=-1,     \n",
    "    random_state=42,\n",
    "    verbose=-1\n",
    ")\n",
    "\n",
    "model.fit(X_train, y_train)\n",
    "\n",
    "#önem dereceleri\n",
    "importances = pd.Series(model.feature_importances_, index=X.columns)\n",
    "importances = importances[importances > 0].sort_values(ascending=True)\n",
    "\n",
    "plt.figure(figsize=(10, 8))\n",
    "importances.tail(30).plot(kind='barh')\n",
    "plt.title(\"LightGBM Feature Importance (Gain)\")\n",
    "plt.xlabel(\"Gain\")\n",
    "plt.tight_layout()\n",
    "plt.show()\n",
    "\n"
   ]
  },
  {
   "cell_type": "code",
   "execution_count": 66,
   "id": "f68699e4-1474-437e-a2a8-918af88acae0",
   "metadata": {},
   "outputs": [],
   "source": [
    "important_features = importances.sort_values(ascending=False).head(30).index.tolist()\n",
    "\n",
    "with open(\"models/important_features.txt\", \"w\") as f:\n",
    "    for col in important_features:\n",
    "        f.write(f\"{col}\\n\")"
   ]
  },
  {
   "cell_type": "code",
   "execution_count": 68,
   "id": "edd43d9a-3eff-4cda-bb3d-c7a4197b10ec",
   "metadata": {},
   "outputs": [],
   "source": [
    "with open(\"models/important_features.txt\", \"r\") as f:\n",
    "    selected_features = [line.strip() for line in f if line.strip()]"
   ]
  },
  {
   "cell_type": "code",
   "execution_count": 70,
   "id": "f5d70900-f452-4e3d-8031-d861a9fb3e8f",
   "metadata": {},
   "outputs": [
    {
     "name": "stdout",
     "output_type": "stream",
     "text": [
      "NaN kontrolü:\n",
      "Train: 0\n",
      "Val:   0\n",
      "Test:  0\n"
     ]
    }
   ],
   "source": [
    "final_dataset = merged_data[selected_features + ['target_price']].copy()\n",
    "final_dataset = final_dataset.dropna(axis=1, how='all')\n",
    "\n",
    "#eğitim setinden mean alınarak doldurarak sızıntı engellenir\n",
    "n_total = len(final_dataset)\n",
    "n_train = int(n_total * 0.7)\n",
    "n_val = int(n_total * 0.15)\n",
    "\n",
    "df_train = final_dataset.iloc[:n_train].copy()\n",
    "df_val   = final_dataset.iloc[n_train:n_train + n_val].copy()\n",
    "df_test  = final_dataset.iloc[n_train + n_val:].copy()\n",
    "\n",
    "#sadece feature kolonlarını kullanarak ortalama ile doldur\n",
    "feature_cols = selected_features\n",
    "\n",
    "fill_values = df_train[feature_cols].mean()\n",
    "\n",
    "df_train[feature_cols] = df_train[feature_cols].fillna(fill_values)\n",
    "df_val[feature_cols]   = df_val[feature_cols].fillna(fill_values)\n",
    "df_test[feature_cols]  = df_test[feature_cols].fillna(fill_values)\n",
    "\n",
    "# Eksiklik kontrolü\n",
    "print(\"NaN kontrolü:\")\n",
    "print(\"Train:\", df_train[feature_cols].isnull().sum().sum())\n",
    "print(\"Val:  \", df_val[feature_cols].isnull().sum().sum())\n",
    "print(\"Test: \", df_test[feature_cols].isnull().sum().sum())\n"
   ]
  },
  {
   "cell_type": "code",
   "execution_count": 72,
   "id": "2c8c1e29-c36d-4bdb-9f8b-019a7b034aab",
   "metadata": {},
   "outputs": [],
   "source": [
    "# time sütunu dahil edilerek günlük veri kaydedilir\n",
    "final_dataset['time'] = merged_data['time']\n",
    "final_dataset.to_csv(\"../data/processed/final_daily_dataset.csv\", index=False)"
   ]
  },
  {
   "cell_type": "code",
   "execution_count": 78,
   "id": "edb64eaa-ffba-4be9-a4e2-e6b484d2d4f7",
   "metadata": {},
   "outputs": [
    {
     "name": "stdout",
     "output_type": "stream",
     "text": [
      "<Daily veri yüklendi.\n",
      "Toplam satır: 36220\n",
      "Zaman aralığı: 2015-01-01 22:00:00+00:00 → 2018-12-30 22:00:00+00:00\n"
     ]
    }
   ],
   "source": [
    "import pandas as pd\n",
    "import numpy as np\n",
    "\n",
    "daily_df = pd.read_csv(\"../data/processed/final_daily_dataset.csv\", parse_dates=[\"time\"])\n",
    "daily_df= daily_df.sort_values(\"time\").reset_index(drop=True)\n",
    "\n",
    "print(\"<Daily veri yüklendi.\")\n",
    "print(f\"Toplam satır: {len(daily_df)}\")\n",
    "print(f\"Zaman aralığı: {daily_df['time'].min()} → {daily_df['time'].max()}\")\n"
   ]
  },
  {
   "cell_type": "code",
   "execution_count": 80,
   "id": "649d7a6e-eee3-46f8-92d6-1407c7796a74",
   "metadata": {},
   "outputs": [],
   "source": [
    "train_ratio = 0.7\n",
    "val_ratio = 0.15\n",
    "test_ratio = 0.15\n",
    "\n",
    "n = len(daily_df)\n",
    "n_train = int(n * train_ratio)\n",
    "n_val = int(n * val_ratio)\n",
    "\n",
    "df_train = daily_df.iloc[:n_train].copy()\n",
    "df_val   = daily_df.iloc[n_train:n_train + n_val].copy()\n",
    "df_test  = daily_df.iloc[n_train + n_val:].copy()\n"
   ]
  },
  {
   "cell_type": "code",
   "execution_count": 82,
   "id": "2626a720-b593-4682-b67f-650d51365793",
   "metadata": {},
   "outputs": [],
   "source": [
    "#target ve feature listeleri\n",
    "target_col = \"target_price\"\n",
    "feature_cols = list(daily_df.drop(columns=[\"target_price\", \"time\"]).columns)\n",
    "\n",
    "X_train = df_train[feature_cols].copy()\n",
    "X_val   = df_val[feature_cols].copy()\n",
    "X_test  = df_test[feature_cols].copy()\n",
    "\n",
    "y_train = df_train[target_col].copy()\n",
    "y_val   = df_val[target_col].copy()\n",
    "y_test  = df_test[target_col].copy()\n",
    "\n",
    "#eksik doldurma\n",
    "fill_values = X_train.mean()\n",
    "X_train = X_train.fillna(fill_values)\n",
    "X_val   = X_val.fillna(fill_values)\n",
    "X_test  = X_test.fillna(fill_values)\n",
    "\n",
    "numeric_cols = X_train.select_dtypes(include=[\"float64\", \"int64\"]).columns.tolist()\n",
    "categorical_cols = list(set(feature_cols) - set(numeric_cols))\n",
    "\n",
    "X_train = X_train.drop(columns=categorical_cols)\n",
    "X_val   = X_val.drop(columns=categorical_cols)\n",
    "X_test  = X_test.drop(columns=categorical_cols)"
   ]
  },
  {
   "cell_type": "code",
   "execution_count": 84,
   "id": "7bce0bec-9ebc-4dd6-a83c-bc63ed6c4522",
   "metadata": {},
   "outputs": [],
   "source": [
    "from sklearn.preprocessing import StandardScaler\n",
    "scaler = StandardScaler()\n",
    "\n",
    "X_train_scaled = scaler.fit_transform(X_train)\n",
    "X_val_scaled   = scaler.transform(X_val)\n",
    "X_test_scaled  = scaler.transform(X_test)\n"
   ]
  },
  {
   "cell_type": "code",
   "execution_count": 86,
   "id": "546ffc40-bc1a-4d60-80cf-ca9de6399567",
   "metadata": {},
   "outputs": [
    {
     "name": "stdout",
     "output_type": "stream",
     "text": [
      "NaN kontrolü:\n",
      "X_train_scaled NaN var mı? False\n",
      "X_val_scaled   NaN var mı? False\n",
      "X_test_scaled  NaN var mı? False\n"
     ]
    }
   ],
   "source": [
    "print(\"NaN kontrolü:\")\n",
    "print(f\"X_train_scaled NaN var mı? {np.isnan(X_train_scaled).any()}\")\n",
    "print(f\"X_val_scaled   NaN var mı? {np.isnan(X_val_scaled).any()}\")\n",
    "print(f\"X_test_scaled  NaN var mı? {np.isnan(X_test_scaled).any()}\")\n"
   ]
  },
  {
   "cell_type": "code",
   "execution_count": 88,
   "id": "857e78c4-b70f-4b41-9ae7-738f125ad170",
   "metadata": {},
   "outputs": [
    {
     "name": "stdout",
     "output_type": "stream",
     "text": [
      "Eksik kalan sütunlar (train):\n",
      "Index([], dtype='object')\n"
     ]
    }
   ],
   "source": [
    "print(\"Eksik kalan sütunlar (train):\")\n",
    "print(X_train.columns[X_train.isnull().any()])"
   ]
  },
  {
   "cell_type": "code",
   "execution_count": 90,
   "id": "81d52368-440e-4748-86e5-c419360e315e",
   "metadata": {},
   "outputs": [
    {
     "data": {
      "text/plain": [
       "price_roll_mean_24                           0.0\n",
       "price_lag_1                                  0.0\n",
       "fft_energy                                   0.0\n",
       "weekday                                      0.0\n",
       "price_lag_24_roll72_mean                     0.0\n",
       "price_lag_48_roll72_mean                     0.0\n",
       "hour                                         0.0\n",
       "madrid_pressure                              0.0\n",
       "year                                         0.0\n",
       "month_sin                                    0.0\n",
       "weekofyear                                   0.0\n",
       "day                                          0.0\n",
       "price day ahead                              0.0\n",
       "price day ahead_roll72_mean                  0.0\n",
       "fft_mean                                     0.0\n",
       "generation fossil hard coal_lag1             0.0\n",
       "generation nuclear_lag1_roll72_mean          0.0\n",
       "generation nuclear_lag1                      0.0\n",
       "load_lag_24                                  0.0\n",
       "generation fossil brown coal/lignite_lag1    0.0\n",
       "load_roll_mean_48                            0.0\n",
       "fossil_ratio                                 0.0\n",
       "price_roll_std_24                            0.0\n",
       "generation biomass_lag1                      0.0\n",
       "price_roll_std_72                            0.0\n",
       "madrid_temp_roll24_std                       0.0\n",
       "load_lag_48_roll72_std                       0.0\n",
       "price_lag_144                                0.0\n",
       "load_roll_mean_24                            0.0\n",
       "price_roll_std_48                            0.0\n",
       "dtype: float64"
      ]
     },
     "execution_count": 90,
     "metadata": {},
     "output_type": "execute_result"
    }
   ],
   "source": [
    "(X_train.isnull().mean() * 100).sort_values(ascending=False).head(100)\n"
   ]
  },
  {
   "cell_type": "code",
   "execution_count": 92,
   "id": "24ba054a-d097-4039-a885-300291607a7e",
   "metadata": {},
   "outputs": [
    {
     "name": "stdout",
     "output_type": "stream",
     "text": [
      "Tüm günlük veriler 'models_daily/' klasörüne başarıyla kaydedildi.\n"
     ]
    }
   ],
   "source": [
    "import joblib\n",
    "import os\n",
    "\n",
    "model_dir = \"models_daily\"\n",
    "os.makedirs(model_dir, exist_ok=True)\n",
    "\n",
    "joblib.dump(X_train_scaled, os.path.join(model_dir, \"X_train_scaled.pkl\"))\n",
    "joblib.dump(X_val_scaled,   os.path.join(model_dir, \"X_val_scaled.pkl\"))\n",
    "joblib.dump(X_test_scaled,  os.path.join(model_dir, \"X_test_scaled.pkl\"))\n",
    "\n",
    "joblib.dump(X_train, os.path.join(model_dir, \"X_train.pkl\"))\n",
    "joblib.dump(X_val,   os.path.join(model_dir, \"X_val.pkl\"))\n",
    "joblib.dump(X_test,  os.path.join(model_dir, \"X_test.pkl\"))\n",
    "\n",
    "joblib.dump(y_train, os.path.join(model_dir, \"y_train.pkl\"))\n",
    "joblib.dump(y_val,   os.path.join(model_dir, \"y_val.pkl\"))\n",
    "joblib.dump(y_test,  os.path.join(model_dir, \"y_test.pkl\"))\n",
    "\n",
    "joblib.dump(scaler, os.path.join(model_dir, \"scaler.pkl\"))\n",
    "\n",
    "print(\"Tüm günlük veriler 'models_daily/' klasörüne başarıyla kaydedildi.\")\n"
   ]
  },
  {
   "cell_type": "markdown",
   "id": "e352cfb3-8459-4e1f-b96e-50ad1a88e98e",
   "metadata": {},
   "source": [
    "Bu bölümde, elektrik fiyatı zaman serisi verisini kullanarak bir sonraki günün ortalama fiyatını tahmin edebilmek için öznitelik mühendisliği yaptım. Önce hedef değişkeni dikkatlice tanımladım ve sızıntı olmaması için ileri kaydırma ile günlük ortalamayı oluşturdum.\n",
    "\n",
    "Daha sonra zaman, lag, rolling, üretim ve frekans tabanlı birçok öznitelik oluşturdum. Ayrıca aykırı değerleri analiz ettim ve gereksiz/sabit sütunları veri setinden çıkardım. LightGBM ile yaptığım ön analiz sayesinde, hangi özniteliklerin model açısından daha önemli olduğunu da belirlemiş oldum.\n",
    "\n",
    "Bu işlemler sonucunda, hem kapsamlı hem de anlamlı bir öznitelik seti oluşturuldu. "
   ]
  },
  {
   "cell_type": "code",
   "execution_count": null,
   "id": "e5c148d4-b2a5-4ff0-b8e8-032f39c2ac60",
   "metadata": {},
   "outputs": [],
   "source": []
  }
 ],
 "metadata": {
  "kernelspec": {
   "display_name": "Python (tf-env)",
   "language": "python",
   "name": "tf-env"
  },
  "language_info": {
   "codemirror_mode": {
    "name": "ipython",
    "version": 3
   },
   "file_extension": ".py",
   "mimetype": "text/x-python",
   "name": "python",
   "nbconvert_exporter": "python",
   "pygments_lexer": "ipython3",
   "version": "3.10.18"
  }
 },
 "nbformat": 4,
 "nbformat_minor": 5
}
