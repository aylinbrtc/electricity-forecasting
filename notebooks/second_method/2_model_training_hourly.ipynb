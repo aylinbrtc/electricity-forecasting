{
 "cells": [
  {
   "cell_type": "markdown",
   "id": "6afd32a6",
   "metadata": {},
   "source": [
    "# Yöntem 2: Saatlik Fiyat Tahmini için RNN Model Eğitimi\n",
    "\n",
    "Bu notebook, bir önceki `feature_engineering` adımında saatlik tahmin hedefi (`target_price_1h`) için hazırlanan verileri kullanarak bir sonraki saatin elektrik fiyatını tahmin edecek bir RNN modeli geliştirmeyi amaçlamaktadır.\n",
    "\n",
    "Süreç, günlük model eğitimine benzer şekilde ilerleyecektir:\n",
    "1.  Gerekli kütüphanelerin yüklenmesi.\n",
    "2.  İşlenmiş saatlik verilerin ve öznitelik ölçekleyicisinin yüklenmesi.\n",
    "3.  Hedef değişken için özel bir ölçekleyici oluşturulması.\n",
    "4.  Bir başlangıç (baseline) modeli oluşturulup eğitilmesi ve performansının değerlendirilmesi.\n",
    "5.  Keras Tuner ile hiperparametre optimizasyonu yaparak en iyi modelin bulunması.\n",
    "6.  Optimize edilmiş modelin nihai performansının değerlendirilmesi ve diske kaydedilmesi.\n",
    "\n",
    "### 1. Kütüphanelerin Yüklenmesi ve Ortam Hazırlığı\n",
    "\n",
    "Gerekli olan `TensorFlow`, `Keras`, `scikit-learn` gibi kütüphaneleri yüklüyor ve veri/model yollarını tanımlıyoruz."
   ]
  },
  {
   "cell_type": "code",
   "execution_count": null,
   "id": "61b05dc9",
   "metadata": {},
   "outputs": [],
   "source": [
    "import numpy as np\n",
    "import pandas as pd\n",
    "import joblib\n",
    "import os\n",
    "import matplotlib.pyplot as plt\n",
    "import seaborn as sns\n",
    "\n",
    "from sklearn.preprocessing import MinMaxScaler\n",
    "from sklearn.metrics import mean_absolute_error, mean_squared_error\n",
    "\n",
    "import tensorflow as tf\n",
    "from tensorflow.keras.models import Model, load_model\n",
    "from tensorflow.keras.layers import Input, GRU, Dense, Dropout, Attention\n",
    "from tensorflow.keras.callbacks import ModelCheckpoint, EarlyStopping\n",
    "\n",
    "sns.set_style('whitegrid')\n",
    "plt.rcParams['figure.figsize'] = (15, 6)\n",
    "\n",
    "DATA_PATH = '../../data/processed/'\n",
    "MODEL_PATH = '../../models/'\n",
    "os.makedirs(MODEL_PATH, exist_ok=True)"
   ]
  },
  {
   "cell_type": "markdown",
   "id": "9fb05c65",
   "metadata": {},
   "source": [
    "### 2. İşlenmiş Verilerin Yüklenmesi\n",
    "\n",
    "Önceki adımda oluşturulan saatlik model verilerini yüklüyoruz.\n",
    "\n",
    "- **`hourly_model_data.npz`**: Saatlik tahmin için hazırlanmış eğitim, validasyon ve test dizilerini içerir. Dizi uzunluğu burada 24 saat olarak belirlenmiştir.\n",
    "- **`scaler_1h.joblib`**: Saatlik modelin özniteliklerini [0, 1] aralığına ölçeklendirmek için kullanılan `MinMaxScaler` nesnesidir."
   ]
  },
  {
   "cell_type": "code",
   "execution_count": null,
   "id": "952f3e52",
   "metadata": {},
   "outputs": [
    {
     "name": "stdout",
     "output_type": "stream",
     "text": [
      "Veri Seti Boyutları:\n",
      "X_train: (24221, 24, 111), y_train: (24221,)\n",
      "X_val: (5171, 24, 111), y_val: (5171,)\n",
      "X_test: (5172, 24, 111), y_test: (5172,)\n"
     ]
    }
   ],
   "source": [
    "processed_data = np.load(os.path.join(DATA_PATH, 'hourly_model_data.npz'))\n",
    "X_train = processed_data['X_train']\n",
    "y_train = processed_data['y_train']\n",
    "X_val = processed_data['X_val']\n",
    "y_val = processed_data['y_val']\n",
    "X_test = processed_data['X_test']\n",
    "y_test = processed_data['y_test']\n",
    "\n",
    "scaler_features = joblib.load(os.path.join(DATA_PATH, 'scaler_1h.joblib'))\n",
    "\n",
    "print(\"Veri Seti Boyutları:\")\n",
    "print(f\"X_train: {X_train.shape}, y_train: {y_train.shape}\")\n",
    "print(f\"X_val: {X_val.shape}, y_val: {y_val.shape}\")\n",
    "print(f\"X_test: {X_test.shape}, y_test: {y_test.shape}\")"
   ]
  },
  {
   "cell_type": "markdown",
   "id": "6ed5192e",
   "metadata": {},
   "source": [
    "### 3. Hedef Değişken için Ölçekleyici (Target Scaler) Oluşturma\n",
    "\n",
    "Öznitelik mühendisliği aşamasında, her iki modelin de öznitelikleri ölçeklendirilmişti. Ancak hedef değişkenler (`target_price_1h` ve `target_price_next_day`) farklı dağılımlara sahip olduğu için her birine özel bir ölçekleyici kullanmak daha doğru sonuçlar verir.\n",
    "\n",
    "Bu adımda, saatlik hedefe (`y_train`) özel yeni bir `MinMaxScaler` oluşturuyor, eğitiyor ve tüm hedef setlerini (train, val, test) bu ölçekleyici ile dönüştürüyoruz.\n",
    "- **Kaydedilen Dosya**: Bu ölçekleyici, daha sonra tahminleri orijinal birime çevirmek için `MODEL_PATH` altında **`scaler_target_1h.joblib`** adıyla kaydedilir."
   ]
  },
  {
   "cell_type": "code",
   "execution_count": null,
   "id": "200b3141",
   "metadata": {},
   "outputs": [
    {
     "name": "stdout",
     "output_type": "stream",
     "text": [
      "Hedef değişken (y) başarıyla ölçeklendirildi ve scaler kaydedildi.\n"
     ]
    }
   ],
   "source": [
    "scaler_target = MinMaxScaler()\n",
    "\n",
    "y_train_scaled = scaler_target.fit_transform(y_train.reshape(-1, 1))\n",
    "\n",
    "y_val_scaled = scaler_target.transform(y_val.reshape(-1, 1))\n",
    "y_test_scaled = scaler_target.transform(y_test.reshape(-1, 1))\n",
    "\n",
    "joblib.dump(scaler_target, os.path.join(MODEL_PATH, 'scaler_target_1h.joblib'))\n",
    "\n",
    "print(\"Hedef değişken (y) başarıyla ölçeklendirildi ve scaler kaydedildi.\")"
   ]
  },
  {
   "cell_type": "markdown",
   "id": "04144ff2",
   "metadata": {},
   "source": [
    "### 4. Başlangıç Modelinin Oluşturulması ve Eğitimi\n",
    "\n",
    "Hiperparametre optimizasyonu öncesi bir referans noktası oluşturmak amacıyla, günlük modele benzer bir mimariye sahip başlangıç modeli tanımlanır.\n",
    "\n",
    "#### 4.1. Model Mimarisi\n",
    "- **`Input` Katmanı**: `(24, 111)` boyutunda, yani 24 saatlik dizileri ve 111 özniteliği kabul eder.\n",
    "- **`GRU`, `Attention`, `Dense` ve `Dropout` katmanları**: Zaman içindeki desenleri öğrenmek, önemli anlara odaklanmak ve tahmini üretmek için kullanılır."
   ]
  },
  {
   "cell_type": "code",
   "execution_count": null,
   "id": "a1674dd8",
   "metadata": {},
   "outputs": [
    {
     "data": {
      "text/html": [
       "<pre style=\"white-space:pre;overflow-x:auto;line-height:normal;font-family:Menlo,'DejaVu Sans Mono',consolas,'Courier New',monospace\"><span style=\"font-weight: bold\">Model: \"functional_9\"</span>\n",
       "</pre>\n"
      ],
      "text/plain": [
       "\u001b[1mModel: \"functional_9\"\u001b[0m\n"
      ]
     },
     "metadata": {},
     "output_type": "display_data"
    },
    {
     "data": {
      "text/html": [
       "<pre style=\"white-space:pre;overflow-x:auto;line-height:normal;font-family:Menlo,'DejaVu Sans Mono',consolas,'Courier New',monospace\">┏━━━━━━━━━━━━━━━━━━━━━┳━━━━━━━━━━━━━━━━━━━┳━━━━━━━━━━━━┳━━━━━━━━━━━━━━━━━━━┓\n",
       "┃<span style=\"font-weight: bold\"> Layer (type)        </span>┃<span style=\"font-weight: bold\"> Output Shape      </span>┃<span style=\"font-weight: bold\">    Param # </span>┃<span style=\"font-weight: bold\"> Connected to      </span>┃\n",
       "┡━━━━━━━━━━━━━━━━━━━━━╇━━━━━━━━━━━━━━━━━━━╇━━━━━━━━━━━━╇━━━━━━━━━━━━━━━━━━━┩\n",
       "│ input_layer         │ (<span style=\"color: #00d7ff; text-decoration-color: #00d7ff\">None</span>, <span style=\"color: #00af00; text-decoration-color: #00af00\">24</span>, <span style=\"color: #00af00; text-decoration-color: #00af00\">111</span>)   │          <span style=\"color: #00af00; text-decoration-color: #00af00\">0</span> │ -                 │\n",
       "│ (<span style=\"color: #0087ff; text-decoration-color: #0087ff\">InputLayer</span>)        │                   │            │                   │\n",
       "├─────────────────────┼───────────────────┼────────────┼───────────────────┤\n",
       "│ gru_layer (<span style=\"color: #0087ff; text-decoration-color: #0087ff\">GRU</span>)     │ (<span style=\"color: #00d7ff; text-decoration-color: #00d7ff\">None</span>, <span style=\"color: #00af00; text-decoration-color: #00af00\">24</span>, <span style=\"color: #00af00; text-decoration-color: #00af00\">128</span>)   │     <span style=\"color: #00af00; text-decoration-color: #00af00\">92,544</span> │ input_layer[<span style=\"color: #00af00; text-decoration-color: #00af00\">0</span>][<span style=\"color: #00af00; text-decoration-color: #00af00\">0</span>] │\n",
       "├─────────────────────┼───────────────────┼────────────┼───────────────────┤\n",
       "│ attention_layer     │ (<span style=\"color: #00d7ff; text-decoration-color: #00d7ff\">None</span>, <span style=\"color: #00af00; text-decoration-color: #00af00\">24</span>, <span style=\"color: #00af00; text-decoration-color: #00af00\">128</span>)   │          <span style=\"color: #00af00; text-decoration-color: #00af00\">0</span> │ gru_layer[<span style=\"color: #00af00; text-decoration-color: #00af00\">0</span>][<span style=\"color: #00af00; text-decoration-color: #00af00\">0</span>],  │\n",
       "│ (<span style=\"color: #0087ff; text-decoration-color: #0087ff\">Attention</span>)         │                   │            │ gru_layer[<span style=\"color: #00af00; text-decoration-color: #00af00\">0</span>][<span style=\"color: #00af00; text-decoration-color: #00af00\">0</span>]   │\n",
       "├─────────────────────┼───────────────────┼────────────┼───────────────────┤\n",
       "│ pooling_layer       │ (<span style=\"color: #00d7ff; text-decoration-color: #00d7ff\">None</span>, <span style=\"color: #00af00; text-decoration-color: #00af00\">128</span>)       │          <span style=\"color: #00af00; text-decoration-color: #00af00\">0</span> │ attention_layer[<span style=\"color: #00af00; text-decoration-color: #00af00\">…</span> │\n",
       "│ (<span style=\"color: #0087ff; text-decoration-color: #0087ff\">GlobalAveragePool…</span> │                   │            │                   │\n",
       "├─────────────────────┼───────────────────┼────────────┼───────────────────┤\n",
       "│ dense_1 (<span style=\"color: #0087ff; text-decoration-color: #0087ff\">Dense</span>)     │ (<span style=\"color: #00d7ff; text-decoration-color: #00d7ff\">None</span>, <span style=\"color: #00af00; text-decoration-color: #00af00\">64</span>)        │      <span style=\"color: #00af00; text-decoration-color: #00af00\">8,256</span> │ pooling_layer[<span style=\"color: #00af00; text-decoration-color: #00af00\">0</span>]… │\n",
       "├─────────────────────┼───────────────────┼────────────┼───────────────────┤\n",
       "│ dropout_1 (<span style=\"color: #0087ff; text-decoration-color: #0087ff\">Dropout</span>) │ (<span style=\"color: #00d7ff; text-decoration-color: #00d7ff\">None</span>, <span style=\"color: #00af00; text-decoration-color: #00af00\">64</span>)        │          <span style=\"color: #00af00; text-decoration-color: #00af00\">0</span> │ dense_1[<span style=\"color: #00af00; text-decoration-color: #00af00\">0</span>][<span style=\"color: #00af00; text-decoration-color: #00af00\">0</span>]     │\n",
       "├─────────────────────┼───────────────────┼────────────┼───────────────────┤\n",
       "│ dense_2 (<span style=\"color: #0087ff; text-decoration-color: #0087ff\">Dense</span>)     │ (<span style=\"color: #00d7ff; text-decoration-color: #00d7ff\">None</span>, <span style=\"color: #00af00; text-decoration-color: #00af00\">32</span>)        │      <span style=\"color: #00af00; text-decoration-color: #00af00\">2,080</span> │ dropout_1[<span style=\"color: #00af00; text-decoration-color: #00af00\">0</span>][<span style=\"color: #00af00; text-decoration-color: #00af00\">0</span>]   │\n",
       "├─────────────────────┼───────────────────┼────────────┼───────────────────┤\n",
       "│ dropout_2 (<span style=\"color: #0087ff; text-decoration-color: #0087ff\">Dropout</span>) │ (<span style=\"color: #00d7ff; text-decoration-color: #00d7ff\">None</span>, <span style=\"color: #00af00; text-decoration-color: #00af00\">32</span>)        │          <span style=\"color: #00af00; text-decoration-color: #00af00\">0</span> │ dense_2[<span style=\"color: #00af00; text-decoration-color: #00af00\">0</span>][<span style=\"color: #00af00; text-decoration-color: #00af00\">0</span>]     │\n",
       "├─────────────────────┼───────────────────┼────────────┼───────────────────┤\n",
       "│ output_layer        │ (<span style=\"color: #00d7ff; text-decoration-color: #00d7ff\">None</span>, <span style=\"color: #00af00; text-decoration-color: #00af00\">1</span>)         │         <span style=\"color: #00af00; text-decoration-color: #00af00\">33</span> │ dropout_2[<span style=\"color: #00af00; text-decoration-color: #00af00\">0</span>][<span style=\"color: #00af00; text-decoration-color: #00af00\">0</span>]   │\n",
       "│ (<span style=\"color: #0087ff; text-decoration-color: #0087ff\">Dense</span>)             │                   │            │                   │\n",
       "└─────────────────────┴───────────────────┴────────────┴───────────────────┘\n",
       "</pre>\n"
      ],
      "text/plain": [
       "┏━━━━━━━━━━━━━━━━━━━━━┳━━━━━━━━━━━━━━━━━━━┳━━━━━━━━━━━━┳━━━━━━━━━━━━━━━━━━━┓\n",
       "┃\u001b[1m \u001b[0m\u001b[1mLayer (type)       \u001b[0m\u001b[1m \u001b[0m┃\u001b[1m \u001b[0m\u001b[1mOutput Shape     \u001b[0m\u001b[1m \u001b[0m┃\u001b[1m \u001b[0m\u001b[1m   Param #\u001b[0m\u001b[1m \u001b[0m┃\u001b[1m \u001b[0m\u001b[1mConnected to     \u001b[0m\u001b[1m \u001b[0m┃\n",
       "┡━━━━━━━━━━━━━━━━━━━━━╇━━━━━━━━━━━━━━━━━━━╇━━━━━━━━━━━━╇━━━━━━━━━━━━━━━━━━━┩\n",
       "│ input_layer         │ (\u001b[38;5;45mNone\u001b[0m, \u001b[38;5;34m24\u001b[0m, \u001b[38;5;34m111\u001b[0m)   │          \u001b[38;5;34m0\u001b[0m │ -                 │\n",
       "│ (\u001b[38;5;33mInputLayer\u001b[0m)        │                   │            │                   │\n",
       "├─────────────────────┼───────────────────┼────────────┼───────────────────┤\n",
       "│ gru_layer (\u001b[38;5;33mGRU\u001b[0m)     │ (\u001b[38;5;45mNone\u001b[0m, \u001b[38;5;34m24\u001b[0m, \u001b[38;5;34m128\u001b[0m)   │     \u001b[38;5;34m92,544\u001b[0m │ input_layer[\u001b[38;5;34m0\u001b[0m][\u001b[38;5;34m0\u001b[0m] │\n",
       "├─────────────────────┼───────────────────┼────────────┼───────────────────┤\n",
       "│ attention_layer     │ (\u001b[38;5;45mNone\u001b[0m, \u001b[38;5;34m24\u001b[0m, \u001b[38;5;34m128\u001b[0m)   │          \u001b[38;5;34m0\u001b[0m │ gru_layer[\u001b[38;5;34m0\u001b[0m][\u001b[38;5;34m0\u001b[0m],  │\n",
       "│ (\u001b[38;5;33mAttention\u001b[0m)         │                   │            │ gru_layer[\u001b[38;5;34m0\u001b[0m][\u001b[38;5;34m0\u001b[0m]   │\n",
       "├─────────────────────┼───────────────────┼────────────┼───────────────────┤\n",
       "│ pooling_layer       │ (\u001b[38;5;45mNone\u001b[0m, \u001b[38;5;34m128\u001b[0m)       │          \u001b[38;5;34m0\u001b[0m │ attention_layer[\u001b[38;5;34m…\u001b[0m │\n",
       "│ (\u001b[38;5;33mGlobalAveragePool…\u001b[0m │                   │            │                   │\n",
       "├─────────────────────┼───────────────────┼────────────┼───────────────────┤\n",
       "│ dense_1 (\u001b[38;5;33mDense\u001b[0m)     │ (\u001b[38;5;45mNone\u001b[0m, \u001b[38;5;34m64\u001b[0m)        │      \u001b[38;5;34m8,256\u001b[0m │ pooling_layer[\u001b[38;5;34m0\u001b[0m]… │\n",
       "├─────────────────────┼───────────────────┼────────────┼───────────────────┤\n",
       "│ dropout_1 (\u001b[38;5;33mDropout\u001b[0m) │ (\u001b[38;5;45mNone\u001b[0m, \u001b[38;5;34m64\u001b[0m)        │          \u001b[38;5;34m0\u001b[0m │ dense_1[\u001b[38;5;34m0\u001b[0m][\u001b[38;5;34m0\u001b[0m]     │\n",
       "├─────────────────────┼───────────────────┼────────────┼───────────────────┤\n",
       "│ dense_2 (\u001b[38;5;33mDense\u001b[0m)     │ (\u001b[38;5;45mNone\u001b[0m, \u001b[38;5;34m32\u001b[0m)        │      \u001b[38;5;34m2,080\u001b[0m │ dropout_1[\u001b[38;5;34m0\u001b[0m][\u001b[38;5;34m0\u001b[0m]   │\n",
       "├─────────────────────┼───────────────────┼────────────┼───────────────────┤\n",
       "│ dropout_2 (\u001b[38;5;33mDropout\u001b[0m) │ (\u001b[38;5;45mNone\u001b[0m, \u001b[38;5;34m32\u001b[0m)        │          \u001b[38;5;34m0\u001b[0m │ dense_2[\u001b[38;5;34m0\u001b[0m][\u001b[38;5;34m0\u001b[0m]     │\n",
       "├─────────────────────┼───────────────────┼────────────┼───────────────────┤\n",
       "│ output_layer        │ (\u001b[38;5;45mNone\u001b[0m, \u001b[38;5;34m1\u001b[0m)         │         \u001b[38;5;34m33\u001b[0m │ dropout_2[\u001b[38;5;34m0\u001b[0m][\u001b[38;5;34m0\u001b[0m]   │\n",
       "│ (\u001b[38;5;33mDense\u001b[0m)             │                   │            │                   │\n",
       "└─────────────────────┴───────────────────┴────────────┴───────────────────┘\n"
      ]
     },
     "metadata": {},
     "output_type": "display_data"
    },
    {
     "data": {
      "text/html": [
       "<pre style=\"white-space:pre;overflow-x:auto;line-height:normal;font-family:Menlo,'DejaVu Sans Mono',consolas,'Courier New',monospace\"><span style=\"font-weight: bold\"> Total params: </span><span style=\"color: #00af00; text-decoration-color: #00af00\">102,913</span> (402.00 KB)\n",
       "</pre>\n"
      ],
      "text/plain": [
       "\u001b[1m Total params: \u001b[0m\u001b[38;5;34m102,913\u001b[0m (402.00 KB)\n"
      ]
     },
     "metadata": {},
     "output_type": "display_data"
    },
    {
     "data": {
      "text/html": [
       "<pre style=\"white-space:pre;overflow-x:auto;line-height:normal;font-family:Menlo,'DejaVu Sans Mono',consolas,'Courier New',monospace\"><span style=\"font-weight: bold\"> Trainable params: </span><span style=\"color: #00af00; text-decoration-color: #00af00\">102,913</span> (402.00 KB)\n",
       "</pre>\n"
      ],
      "text/plain": [
       "\u001b[1m Trainable params: \u001b[0m\u001b[38;5;34m102,913\u001b[0m (402.00 KB)\n"
      ]
     },
     "metadata": {},
     "output_type": "display_data"
    },
    {
     "data": {
      "text/html": [
       "<pre style=\"white-space:pre;overflow-x:auto;line-height:normal;font-family:Menlo,'DejaVu Sans Mono',consolas,'Courier New',monospace\"><span style=\"font-weight: bold\"> Non-trainable params: </span><span style=\"color: #00af00; text-decoration-color: #00af00\">0</span> (0.00 B)\n",
       "</pre>\n"
      ],
      "text/plain": [
       "\u001b[1m Non-trainable params: \u001b[0m\u001b[38;5;34m0\u001b[0m (0.00 B)\n"
      ]
     },
     "metadata": {},
     "output_type": "display_data"
    }
   ],
   "source": [
    "from tensorflow.keras.layers import GlobalAveragePooling1D\n",
    "\n",
    "SEQUENCE_LENGTH = X_train.shape[1]\n",
    "NUM_FEATURES = X_train.shape[2]\n",
    "\n",
    "# onksiyonel API ile model oluşturma\n",
    "input_layer = Input(shape=(SEQUENCE_LENGTH, NUM_FEATURES), name='input_layer')\n",
    "\n",
    "# GRU katmanı\n",
    "gru_layer = GRU(units=128, return_sequences=True, name='gru_layer')(input_layer)\n",
    "\n",
    "#attention katmanı\n",
    "attention_layer = Attention(name='attention_layer')([gru_layer, gru_layer])\n",
    "\n",
    "pooling_layer= GlobalAveragePooling1D(name='pooling_layer')(attention_layer)\n",
    "\n",
    "# MLP başlığı artık bu tek vektör üzerinden çalışacak\n",
    "dense_1 = Dense(64, activation='relu', name='dense_1')(pooling_layer)\n",
    "dropout_1 = Dropout(0.3, name='dropout_1')(dense_1)\n",
    "dense_2 = Dense(32, activation='relu', name='dense_2')(dropout_1)\n",
    "dropout_2 = Dropout(0.3, name='dropout_2')(dense_2)\n",
    "\n",
    "# Çıkış katmanı\n",
    "output_layer = Dense(1, name='output_layer')(dropout_2)\n",
    "\n",
    "# Modeli tanımla\n",
    "model = Model(inputs=input_layer, outputs=output_layer)\n",
    "\n",
    "model.summary()"
   ]
  },
  {
   "cell_type": "markdown",
   "id": "6729b8ee",
   "metadata": {},
   "source": [
    "#### 4.2. Modelin Derlenmesi ve Geri Çağrıların (Callbacks) Tanımlanması\n",
    "\n",
    "Model, `adam` optimize edici ve `mean_squared_error` kayıp fonksiyonu ile derlenir. Eğitim sürecini yönetmek için `ModelCheckpoint` ve `EarlyStopping` kullanılır.\n",
    "- **Kaydedilen Dosya**: Bu adımda, eğitim sırasındaki en iyi performansı gösteren model, `MODEL_PATH` altında **`best_hourly_model.keras`** adıyla kaydedilir. (Not: kodunuzda `.h5` kullanılmış, bu da geçerlidir ancak `.keras` daha modern bir formattır)."
   ]
  },
  {
   "cell_type": "code",
   "execution_count": null,
   "id": "0f4a760d",
   "metadata": {},
   "outputs": [],
   "source": [
    "# En iyi modeli kaydetmek için ModelCheckpoint\n",
    "checkpoint_path = os.path.join(MODEL_PATH, 'best_hourly_model.keras') # .keras formatı önerilir\n",
    "model_checkpoint = ModelCheckpoint(\n",
    "    filepath=checkpoint_path,\n",
    "    monitor='val_loss',\n",
    "    save_best_only=True,\n",
    "    verbose=1\n",
    ")\n",
    "\n",
    "# Aşırı öğrenmeyi önlemek için EarlyStopping\n",
    "early_stopping = EarlyStopping(\n",
    "    monitor='val_loss',\n",
    "    patience=10, # 10 epoch boyunca iyileşme olmazsa durur\n",
    "    restore_best_weights=True,\n",
    "    verbose=1\n",
    ")\n",
    "\n",
    "model.compile(\n",
    "    optimizer='adam',\n",
    "    loss='mean_squared_error',\n",
    "    metrics=['mean_absolute_error']\n",
    ")"
   ]
  },
  {
   "cell_type": "markdown",
   "id": "3b5ea674",
   "metadata": {},
   "source": [
    "#### 4.2. Modelin Derlenmesi ve Geri Çağrıların (Callbacks) Tanımlanması\n",
    "\n",
    "Model, `adam` optimize edici ve `mean_squared_error` kayıp fonksiyonu ile derlenir. Eğitim sürecini yönetmek için `ModelCheckpoint` ve `EarlyStopping` kullanılır.\n",
    "- **Kaydedilen Dosya**: Bu adımda, eğitim sırasındaki en iyi performansı gösteren model, `MODEL_PATH` altında **`best_hourly_model.keras`** adıyla kaydedilir. (Not: kodunuzda `.h5` kullanılmış, bu da geçerlidir ancak `.keras` daha modern bir formattır)."
   ]
  },
  {
   "cell_type": "code",
   "execution_count": 14,
   "id": "3b785909",
   "metadata": {},
   "outputs": [
    {
     "name": "stdout",
     "output_type": "stream",
     "text": [
      "Epoch 1/100\n",
      "\u001b[1m379/379\u001b[0m \u001b[32m━━━━━━━━━━━━━━━━━━━━\u001b[0m\u001b[37m\u001b[0m \u001b[1m6s\u001b[0m 13ms/step - loss: 0.0382 - mean_absolute_error: 0.1413 - val_loss: 0.0083 - val_mean_absolute_error: 0.0727\n",
      "Epoch 2/100\n",
      "\u001b[1m379/379\u001b[0m \u001b[32m━━━━━━━━━━━━━━━━━━━━\u001b[0m\u001b[37m\u001b[0m \u001b[1m5s\u001b[0m 14ms/step - loss: 0.0091 - mean_absolute_error: 0.0736 - val_loss: 0.0072 - val_mean_absolute_error: 0.0674\n",
      "Epoch 3/100\n",
      "\u001b[1m379/379\u001b[0m \u001b[32m━━━━━━━━━━━━━━━━━━━━\u001b[0m\u001b[37m\u001b[0m \u001b[1m6s\u001b[0m 17ms/step - loss: 0.0064 - mean_absolute_error: 0.0616 - val_loss: 0.0051 - val_mean_absolute_error: 0.0537\n",
      "Epoch 4/100\n",
      "\u001b[1m379/379\u001b[0m \u001b[32m━━━━━━━━━━━━━━━━━━━━\u001b[0m\u001b[37m\u001b[0m \u001b[1m8s\u001b[0m 20ms/step - loss: 0.0050 - mean_absolute_error: 0.0536 - val_loss: 0.0049 - val_mean_absolute_error: 0.0529\n",
      "Epoch 5/100\n",
      "\u001b[1m379/379\u001b[0m \u001b[32m━━━━━━━━━━━━━━━━━━━━\u001b[0m\u001b[37m\u001b[0m \u001b[1m8s\u001b[0m 21ms/step - loss: 0.0039 - mean_absolute_error: 0.0470 - val_loss: 0.0055 - val_mean_absolute_error: 0.0572\n",
      "Epoch 6/100\n",
      "\u001b[1m379/379\u001b[0m \u001b[32m━━━━━━━━━━━━━━━━━━━━\u001b[0m\u001b[37m\u001b[0m \u001b[1m8s\u001b[0m 21ms/step - loss: 0.0034 - mean_absolute_error: 0.0434 - val_loss: 0.0044 - val_mean_absolute_error: 0.0493\n",
      "Epoch 7/100\n",
      "\u001b[1m379/379\u001b[0m \u001b[32m━━━━━━━━━━━━━━━━━━━━\u001b[0m\u001b[37m\u001b[0m \u001b[1m8s\u001b[0m 22ms/step - loss: 0.0032 - mean_absolute_error: 0.0423 - val_loss: 0.0047 - val_mean_absolute_error: 0.0513\n",
      "Epoch 8/100\n",
      "\u001b[1m379/379\u001b[0m \u001b[32m━━━━━━━━━━━━━━━━━━━━\u001b[0m\u001b[37m\u001b[0m \u001b[1m8s\u001b[0m 20ms/step - loss: 0.0028 - mean_absolute_error: 0.0397 - val_loss: 0.0047 - val_mean_absolute_error: 0.0505\n",
      "Epoch 9/100\n",
      "\u001b[1m379/379\u001b[0m \u001b[32m━━━━━━━━━━━━━━━━━━━━\u001b[0m\u001b[37m\u001b[0m \u001b[1m8s\u001b[0m 21ms/step - loss: 0.0029 - mean_absolute_error: 0.0398 - val_loss: 0.0045 - val_mean_absolute_error: 0.0495\n",
      "Epoch 10/100\n",
      "\u001b[1m379/379\u001b[0m \u001b[32m━━━━━━━━━━━━━━━━━━━━\u001b[0m\u001b[37m\u001b[0m \u001b[1m8s\u001b[0m 21ms/step - loss: 0.0028 - mean_absolute_error: 0.0387 - val_loss: 0.0038 - val_mean_absolute_error: 0.0465\n",
      "Epoch 11/100\n",
      "\u001b[1m379/379\u001b[0m \u001b[32m━━━━━━━━━━━━━━━━━━━━\u001b[0m\u001b[37m\u001b[0m \u001b[1m10s\u001b[0m 27ms/step - loss: 0.0025 - mean_absolute_error: 0.0369 - val_loss: 0.0041 - val_mean_absolute_error: 0.0468\n",
      "Epoch 12/100\n",
      "\u001b[1m379/379\u001b[0m \u001b[32m━━━━━━━━━━━━━━━━━━━━\u001b[0m\u001b[37m\u001b[0m \u001b[1m11s\u001b[0m 29ms/step - loss: 0.0025 - mean_absolute_error: 0.0374 - val_loss: 0.0043 - val_mean_absolute_error: 0.0505\n",
      "Epoch 13/100\n",
      "\u001b[1m379/379\u001b[0m \u001b[32m━━━━━━━━━━━━━━━━━━━━\u001b[0m\u001b[37m\u001b[0m \u001b[1m11s\u001b[0m 29ms/step - loss: 0.0027 - mean_absolute_error: 0.0382 - val_loss: 0.0035 - val_mean_absolute_error: 0.0434\n",
      "Epoch 14/100\n",
      "\u001b[1m379/379\u001b[0m \u001b[32m━━━━━━━━━━━━━━━━━━━━\u001b[0m\u001b[37m\u001b[0m \u001b[1m10s\u001b[0m 26ms/step - loss: 0.0023 - mean_absolute_error: 0.0352 - val_loss: 0.0035 - val_mean_absolute_error: 0.0431\n",
      "Epoch 15/100\n",
      "\u001b[1m379/379\u001b[0m \u001b[32m━━━━━━━━━━━━━━━━━━━━\u001b[0m\u001b[37m\u001b[0m \u001b[1m8s\u001b[0m 22ms/step - loss: 0.0024 - mean_absolute_error: 0.0354 - val_loss: 0.0032 - val_mean_absolute_error: 0.0405\n",
      "Epoch 16/100\n",
      "\u001b[1m379/379\u001b[0m \u001b[32m━━━━━━━━━━━━━━━━━━━━\u001b[0m\u001b[37m\u001b[0m \u001b[1m8s\u001b[0m 22ms/step - loss: 0.0023 - mean_absolute_error: 0.0347 - val_loss: 0.0037 - val_mean_absolute_error: 0.0444\n",
      "Epoch 17/100\n",
      "\u001b[1m379/379\u001b[0m \u001b[32m━━━━━━━━━━━━━━━━━━━━\u001b[0m\u001b[37m\u001b[0m \u001b[1m9s\u001b[0m 24ms/step - loss: 0.0022 - mean_absolute_error: 0.0345 - val_loss: 0.0032 - val_mean_absolute_error: 0.0429\n",
      "Epoch 18/100\n",
      "\u001b[1m379/379\u001b[0m \u001b[32m━━━━━━━━━━━━━━━━━━━━\u001b[0m\u001b[37m\u001b[0m \u001b[1m9s\u001b[0m 23ms/step - loss: 0.0023 - mean_absolute_error: 0.0347 - val_loss: 0.0033 - val_mean_absolute_error: 0.0431\n",
      "Epoch 19/100\n",
      "\u001b[1m379/379\u001b[0m \u001b[32m━━━━━━━━━━━━━━━━━━━━\u001b[0m\u001b[37m\u001b[0m \u001b[1m8s\u001b[0m 21ms/step - loss: 0.0021 - mean_absolute_error: 0.0333 - val_loss: 0.0030 - val_mean_absolute_error: 0.0412\n",
      "Epoch 20/100\n",
      "\u001b[1m379/379\u001b[0m \u001b[32m━━━━━━━━━━━━━━━━━━━━\u001b[0m\u001b[37m\u001b[0m \u001b[1m8s\u001b[0m 22ms/step - loss: 0.0021 - mean_absolute_error: 0.0332 - val_loss: 0.0033 - val_mean_absolute_error: 0.0445\n",
      "Epoch 21/100\n",
      "\u001b[1m379/379\u001b[0m \u001b[32m━━━━━━━━━━━━━━━━━━━━\u001b[0m\u001b[37m\u001b[0m \u001b[1m9s\u001b[0m 23ms/step - loss: 0.0022 - mean_absolute_error: 0.0335 - val_loss: 0.0033 - val_mean_absolute_error: 0.0432\n",
      "Epoch 22/100\n",
      "\u001b[1m379/379\u001b[0m \u001b[32m━━━━━━━━━━━━━━━━━━━━\u001b[0m\u001b[37m\u001b[0m \u001b[1m8s\u001b[0m 22ms/step - loss: 0.0020 - mean_absolute_error: 0.0323 - val_loss: 0.0033 - val_mean_absolute_error: 0.0434\n",
      "Epoch 23/100\n",
      "\u001b[1m379/379\u001b[0m \u001b[32m━━━━━━━━━━━━━━━━━━━━\u001b[0m\u001b[37m\u001b[0m \u001b[1m9s\u001b[0m 24ms/step - loss: 0.0021 - mean_absolute_error: 0.0335 - val_loss: 0.0029 - val_mean_absolute_error: 0.0391\n",
      "Epoch 24/100\n",
      "\u001b[1m379/379\u001b[0m \u001b[32m━━━━━━━━━━━━━━━━━━━━\u001b[0m\u001b[37m\u001b[0m \u001b[1m9s\u001b[0m 24ms/step - loss: 0.0021 - mean_absolute_error: 0.0330 - val_loss: 0.0030 - val_mean_absolute_error: 0.0395\n",
      "Epoch 25/100\n",
      "\u001b[1m379/379\u001b[0m \u001b[32m━━━━━━━━━━━━━━━━━━━━\u001b[0m\u001b[37m\u001b[0m \u001b[1m8s\u001b[0m 20ms/step - loss: 0.0020 - mean_absolute_error: 0.0324 - val_loss: 0.0027 - val_mean_absolute_error: 0.0375\n",
      "Epoch 26/100\n",
      "\u001b[1m379/379\u001b[0m \u001b[32m━━━━━━━━━━━━━━━━━━━━\u001b[0m\u001b[37m\u001b[0m \u001b[1m8s\u001b[0m 20ms/step - loss: 0.0021 - mean_absolute_error: 0.0324 - val_loss: 0.0032 - val_mean_absolute_error: 0.0423\n",
      "Epoch 27/100\n",
      "\u001b[1m379/379\u001b[0m \u001b[32m━━━━━━━━━━━━━━━━━━━━\u001b[0m\u001b[37m\u001b[0m \u001b[1m8s\u001b[0m 20ms/step - loss: 0.0020 - mean_absolute_error: 0.0320 - val_loss: 0.0031 - val_mean_absolute_error: 0.0426\n",
      "Epoch 28/100\n",
      "\u001b[1m379/379\u001b[0m \u001b[32m━━━━━━━━━━━━━━━━━━━━\u001b[0m\u001b[37m\u001b[0m \u001b[1m8s\u001b[0m 20ms/step - loss: 0.0019 - mean_absolute_error: 0.0312 - val_loss: 0.0035 - val_mean_absolute_error: 0.0424\n",
      "Epoch 29/100\n",
      "\u001b[1m379/379\u001b[0m \u001b[32m━━━━━━━━━━━━━━━━━━━━\u001b[0m\u001b[37m\u001b[0m \u001b[1m7s\u001b[0m 19ms/step - loss: 0.0020 - mean_absolute_error: 0.0323 - val_loss: 0.0028 - val_mean_absolute_error: 0.0399\n",
      "Epoch 30/100\n",
      "\u001b[1m379/379\u001b[0m \u001b[32m━━━━━━━━━━━━━━━━━━━━\u001b[0m\u001b[37m\u001b[0m \u001b[1m7s\u001b[0m 19ms/step - loss: 0.0019 - mean_absolute_error: 0.0322 - val_loss: 0.0030 - val_mean_absolute_error: 0.0409\n",
      "Epoch 31/100\n",
      "\u001b[1m379/379\u001b[0m \u001b[32m━━━━━━━━━━━━━━━━━━━━\u001b[0m\u001b[37m\u001b[0m \u001b[1m7s\u001b[0m 19ms/step - loss: 0.0018 - mean_absolute_error: 0.0310 - val_loss: 0.0033 - val_mean_absolute_error: 0.0446\n",
      "Epoch 32/100\n",
      "\u001b[1m379/379\u001b[0m \u001b[32m━━━━━━━━━━━━━━━━━━━━\u001b[0m\u001b[37m\u001b[0m \u001b[1m7s\u001b[0m 19ms/step - loss: 0.0019 - mean_absolute_error: 0.0313 - val_loss: 0.0031 - val_mean_absolute_error: 0.0412\n",
      "Epoch 33/100\n",
      "\u001b[1m379/379\u001b[0m \u001b[32m━━━━━━━━━━━━━━━━━━━━\u001b[0m\u001b[37m\u001b[0m \u001b[1m7s\u001b[0m 19ms/step - loss: 0.0019 - mean_absolute_error: 0.0312 - val_loss: 0.0030 - val_mean_absolute_error: 0.0418\n",
      "Epoch 34/100\n",
      "\u001b[1m379/379\u001b[0m \u001b[32m━━━━━━━━━━━━━━━━━━━━\u001b[0m\u001b[37m\u001b[0m \u001b[1m7s\u001b[0m 19ms/step - loss: 0.0018 - mean_absolute_error: 0.0303 - val_loss: 0.0028 - val_mean_absolute_error: 0.0394\n",
      "Epoch 35/100\n",
      "\u001b[1m379/379\u001b[0m \u001b[32m━━━━━━━━━━━━━━━━━━━━\u001b[0m\u001b[37m\u001b[0m \u001b[1m7s\u001b[0m 19ms/step - loss: 0.0018 - mean_absolute_error: 0.0308 - val_loss: 0.0033 - val_mean_absolute_error: 0.0436\n",
      "Epoch 36/100\n",
      "\u001b[1m379/379\u001b[0m \u001b[32m━━━━━━━━━━━━━━━━━━━━\u001b[0m\u001b[37m\u001b[0m \u001b[1m7s\u001b[0m 18ms/step - loss: 0.0018 - mean_absolute_error: 0.0307 - val_loss: 0.0027 - val_mean_absolute_error: 0.0386\n",
      "Epoch 37/100\n",
      "\u001b[1m379/379\u001b[0m \u001b[32m━━━━━━━━━━━━━━━━━━━━\u001b[0m\u001b[37m\u001b[0m \u001b[1m7s\u001b[0m 19ms/step - loss: 0.0018 - mean_absolute_error: 0.0304 - val_loss: 0.0030 - val_mean_absolute_error: 0.0393\n",
      "Epoch 38/100\n",
      "\u001b[1m379/379\u001b[0m \u001b[32m━━━━━━━━━━━━━━━━━━━━\u001b[0m\u001b[37m\u001b[0m \u001b[1m7s\u001b[0m 19ms/step - loss: 0.0018 - mean_absolute_error: 0.0306 - val_loss: 0.0031 - val_mean_absolute_error: 0.0420\n",
      "Epoch 39/100\n",
      "\u001b[1m379/379\u001b[0m \u001b[32m━━━━━━━━━━━━━━━━━━━━\u001b[0m\u001b[37m\u001b[0m \u001b[1m7s\u001b[0m 19ms/step - loss: 0.0018 - mean_absolute_error: 0.0303 - val_loss: 0.0030 - val_mean_absolute_error: 0.0404\n",
      "Epoch 40/100\n",
      "\u001b[1m379/379\u001b[0m \u001b[32m━━━━━━━━━━━━━━━━━━━━\u001b[0m\u001b[37m\u001b[0m \u001b[1m7s\u001b[0m 19ms/step - loss: 0.0018 - mean_absolute_error: 0.0308 - val_loss: 0.0034 - val_mean_absolute_error: 0.0439\n",
      "Epoch 41/100\n",
      "\u001b[1m379/379\u001b[0m \u001b[32m━━━━━━━━━━━━━━━━━━━━\u001b[0m\u001b[37m\u001b[0m \u001b[1m7s\u001b[0m 19ms/step - loss: 0.0017 - mean_absolute_error: 0.0303 - val_loss: 0.0030 - val_mean_absolute_error: 0.0414\n",
      "Epoch 42/100\n",
      "\u001b[1m379/379\u001b[0m \u001b[32m━━━━━━━━━━━━━━━━━━━━\u001b[0m\u001b[37m\u001b[0m \u001b[1m7s\u001b[0m 19ms/step - loss: 0.0017 - mean_absolute_error: 0.0302 - val_loss: 0.0037 - val_mean_absolute_error: 0.0461\n",
      "Epoch 43/100\n",
      "\u001b[1m379/379\u001b[0m \u001b[32m━━━━━━━━━━━━━━━━━━━━\u001b[0m\u001b[37m\u001b[0m \u001b[1m7s\u001b[0m 20ms/step - loss: 0.0018 - mean_absolute_error: 0.0304 - val_loss: 0.0031 - val_mean_absolute_error: 0.0432\n",
      "Epoch 44/100\n",
      "\u001b[1m379/379\u001b[0m \u001b[32m━━━━━━━━━━━━━━━━━━━━\u001b[0m\u001b[37m\u001b[0m \u001b[1m8s\u001b[0m 20ms/step - loss: 0.0017 - mean_absolute_error: 0.0296 - val_loss: 0.0032 - val_mean_absolute_error: 0.0437\n",
      "Epoch 45/100\n",
      "\u001b[1m379/379\u001b[0m \u001b[32m━━━━━━━━━━━━━━━━━━━━\u001b[0m\u001b[37m\u001b[0m \u001b[1m8s\u001b[0m 21ms/step - loss: 0.0018 - mean_absolute_error: 0.0302 - val_loss: 0.0031 - val_mean_absolute_error: 0.0414\n",
      "Epoch 46/100\n",
      "\u001b[1m379/379\u001b[0m \u001b[32m━━━━━━━━━━━━━━━━━━━━\u001b[0m\u001b[37m\u001b[0m \u001b[1m8s\u001b[0m 20ms/step - loss: 0.0017 - mean_absolute_error: 0.0298 - val_loss: 0.0032 - val_mean_absolute_error: 0.0411\n",
      "Epoch 47/100\n",
      "\u001b[1m379/379\u001b[0m \u001b[32m━━━━━━━━━━━━━━━━━━━━\u001b[0m\u001b[37m\u001b[0m \u001b[1m7s\u001b[0m 19ms/step - loss: 0.0018 - mean_absolute_error: 0.0298 - val_loss: 0.0033 - val_mean_absolute_error: 0.0443\n",
      "Epoch 48/100\n",
      "\u001b[1m379/379\u001b[0m \u001b[32m━━━━━━━━━━━━━━━━━━━━\u001b[0m\u001b[37m\u001b[0m \u001b[1m7s\u001b[0m 20ms/step - loss: 0.0017 - mean_absolute_error: 0.0294 - val_loss: 0.0033 - val_mean_absolute_error: 0.0422\n",
      "Epoch 49/100\n",
      "\u001b[1m379/379\u001b[0m \u001b[32m━━━━━━━━━━━━━━━━━━━━\u001b[0m\u001b[37m\u001b[0m \u001b[1m7s\u001b[0m 19ms/step - loss: 0.0017 - mean_absolute_error: 0.0296 - val_loss: 0.0034 - val_mean_absolute_error: 0.0450\n",
      "Epoch 50/100\n",
      "\u001b[1m379/379\u001b[0m \u001b[32m━━━━━━━━━━━━━━━━━━━━\u001b[0m\u001b[37m\u001b[0m \u001b[1m7s\u001b[0m 19ms/step - loss: 0.0017 - mean_absolute_error: 0.0294 - val_loss: 0.0032 - val_mean_absolute_error: 0.0413\n",
      "Epoch 51/100\n",
      "\u001b[1m379/379\u001b[0m \u001b[32m━━━━━━━━━━━━━━━━━━━━\u001b[0m\u001b[37m\u001b[0m \u001b[1m7s\u001b[0m 20ms/step - loss: 0.0016 - mean_absolute_error: 0.0290 - val_loss: 0.0036 - val_mean_absolute_error: 0.0462\n",
      "Epoch 52/100\n",
      "\u001b[1m379/379\u001b[0m \u001b[32m━━━━━━━━━━━━━━━━━━━━\u001b[0m\u001b[37m\u001b[0m \u001b[1m7s\u001b[0m 19ms/step - loss: 0.0017 - mean_absolute_error: 0.0294 - val_loss: 0.0031 - val_mean_absolute_error: 0.0415\n",
      "Epoch 53/100\n",
      "\u001b[1m379/379\u001b[0m \u001b[32m━━━━━━━━━━━━━━━━━━━━\u001b[0m\u001b[37m\u001b[0m \u001b[1m7s\u001b[0m 20ms/step - loss: 0.0018 - mean_absolute_error: 0.0296 - val_loss: 0.0034 - val_mean_absolute_error: 0.0452\n",
      "Epoch 54/100\n",
      "\u001b[1m379/379\u001b[0m \u001b[32m━━━━━━━━━━━━━━━━━━━━\u001b[0m\u001b[37m\u001b[0m \u001b[1m7s\u001b[0m 19ms/step - loss: 0.0017 - mean_absolute_error: 0.0292 - val_loss: 0.0030 - val_mean_absolute_error: 0.0396\n",
      "Epoch 55/100\n",
      "\u001b[1m379/379\u001b[0m \u001b[32m━━━━━━━━━━━━━━━━━━━━\u001b[0m\u001b[37m\u001b[0m \u001b[1m7s\u001b[0m 20ms/step - loss: 0.0017 - mean_absolute_error: 0.0297 - val_loss: 0.0030 - val_mean_absolute_error: 0.0397\n",
      "Epoch 56/100\n",
      "\u001b[1m379/379\u001b[0m \u001b[32m━━━━━━━━━━━━━━━━━━━━\u001b[0m\u001b[37m\u001b[0m \u001b[1m7s\u001b[0m 19ms/step - loss: 0.0016 - mean_absolute_error: 0.0287 - val_loss: 0.0038 - val_mean_absolute_error: 0.0471\n",
      "Epoch 57/100\n",
      "\u001b[1m379/379\u001b[0m \u001b[32m━━━━━━━━━━━━━━━━━━━━\u001b[0m\u001b[37m\u001b[0m \u001b[1m7s\u001b[0m 19ms/step - loss: 0.0017 - mean_absolute_error: 0.0295 - val_loss: 0.0035 - val_mean_absolute_error: 0.0461\n",
      "Epoch 58/100\n",
      "\u001b[1m379/379\u001b[0m \u001b[32m━━━━━━━━━━━━━━━━━━━━\u001b[0m\u001b[37m\u001b[0m \u001b[1m7s\u001b[0m 19ms/step - loss: 0.0016 - mean_absolute_error: 0.0284 - val_loss: 0.0033 - val_mean_absolute_error: 0.0436\n",
      "Epoch 59/100\n",
      "\u001b[1m379/379\u001b[0m \u001b[32m━━━━━━━━━━━━━━━━━━━━\u001b[0m\u001b[37m\u001b[0m \u001b[1m7s\u001b[0m 20ms/step - loss: 0.0016 - mean_absolute_error: 0.0284 - val_loss: 0.0034 - val_mean_absolute_error: 0.0448\n",
      "Epoch 60/100\n",
      "\u001b[1m379/379\u001b[0m \u001b[32m━━━━━━━━━━━━━━━━━━━━\u001b[0m\u001b[37m\u001b[0m \u001b[1m7s\u001b[0m 19ms/step - loss: 0.0015 - mean_absolute_error: 0.0283 - val_loss: 0.0031 - val_mean_absolute_error: 0.0407\n",
      "Epoch 61/100\n",
      "\u001b[1m379/379\u001b[0m \u001b[32m━━━━━━━━━━━━━━━━━━━━\u001b[0m\u001b[37m\u001b[0m \u001b[1m7s\u001b[0m 20ms/step - loss: 0.0016 - mean_absolute_error: 0.0289 - val_loss: 0.0035 - val_mean_absolute_error: 0.0462\n",
      "Epoch 62/100\n",
      "\u001b[1m379/379\u001b[0m \u001b[32m━━━━━━━━━━━━━━━━━━━━\u001b[0m\u001b[37m\u001b[0m \u001b[1m10s\u001b[0m 25ms/step - loss: 0.0016 - mean_absolute_error: 0.0284 - val_loss: 0.0032 - val_mean_absolute_error: 0.0427\n",
      "Epoch 63/100\n",
      "\u001b[1m379/379\u001b[0m \u001b[32m━━━━━━━━━━━━━━━━━━━━\u001b[0m\u001b[37m\u001b[0m \u001b[1m9s\u001b[0m 24ms/step - loss: 0.0016 - mean_absolute_error: 0.0282 - val_loss: 0.0034 - val_mean_absolute_error: 0.0431\n",
      "Epoch 64/100\n",
      "\u001b[1m379/379\u001b[0m \u001b[32m━━━━━━━━━━━━━━━━━━━━\u001b[0m\u001b[37m\u001b[0m \u001b[1m9s\u001b[0m 23ms/step - loss: 0.0016 - mean_absolute_error: 0.0288 - val_loss: 0.0038 - val_mean_absolute_error: 0.0479\n",
      "Epoch 65/100\n",
      "\u001b[1m379/379\u001b[0m \u001b[32m━━━━━━━━━━━━━━━━━━━━\u001b[0m\u001b[37m\u001b[0m \u001b[1m9s\u001b[0m 22ms/step - loss: 0.0015 - mean_absolute_error: 0.0277 - val_loss: 0.0032 - val_mean_absolute_error: 0.0430\n",
      "Epoch 66/100\n",
      "\u001b[1m379/379\u001b[0m \u001b[32m━━━━━━━━━━━━━━━━━━━━\u001b[0m\u001b[37m\u001b[0m \u001b[1m9s\u001b[0m 23ms/step - loss: 0.0016 - mean_absolute_error: 0.0286 - val_loss: 0.0033 - val_mean_absolute_error: 0.0441\n",
      "Epoch 67/100\n",
      "\u001b[1m379/379\u001b[0m \u001b[32m━━━━━━━━━━━━━━━━━━━━\u001b[0m\u001b[37m\u001b[0m \u001b[1m9s\u001b[0m 23ms/step - loss: 0.0015 - mean_absolute_error: 0.0284 - val_loss: 0.0033 - val_mean_absolute_error: 0.0429\n",
      "Epoch 68/100\n",
      "\u001b[1m379/379\u001b[0m \u001b[32m━━━━━━━━━━━━━━━━━━━━\u001b[0m\u001b[37m\u001b[0m \u001b[1m9s\u001b[0m 23ms/step - loss: 0.0015 - mean_absolute_error: 0.0280 - val_loss: 0.0033 - val_mean_absolute_error: 0.0430\n",
      "Epoch 69/100\n",
      "\u001b[1m379/379\u001b[0m \u001b[32m━━━━━━━━━━━━━━━━━━━━\u001b[0m\u001b[37m\u001b[0m \u001b[1m9s\u001b[0m 23ms/step - loss: 0.0016 - mean_absolute_error: 0.0287 - val_loss: 0.0034 - val_mean_absolute_error: 0.0432\n",
      "Epoch 70/100\n",
      "\u001b[1m379/379\u001b[0m \u001b[32m━━━━━━━━━━━━━━━━━━━━\u001b[0m\u001b[37m\u001b[0m \u001b[1m9s\u001b[0m 23ms/step - loss: 0.0015 - mean_absolute_error: 0.0280 - val_loss: 0.0033 - val_mean_absolute_error: 0.0418\n",
      "Epoch 71/100\n",
      "\u001b[1m379/379\u001b[0m \u001b[32m━━━━━━━━━━━━━━━━━━━━\u001b[0m\u001b[37m\u001b[0m \u001b[1m9s\u001b[0m 23ms/step - loss: 0.0016 - mean_absolute_error: 0.0282 - val_loss: 0.0034 - val_mean_absolute_error: 0.0439\n",
      "Epoch 72/100\n",
      "\u001b[1m379/379\u001b[0m \u001b[32m━━━━━━━━━━━━━━━━━━━━\u001b[0m\u001b[37m\u001b[0m \u001b[1m8s\u001b[0m 22ms/step - loss: 0.0016 - mean_absolute_error: 0.0280 - val_loss: 0.0034 - val_mean_absolute_error: 0.0440\n",
      "Epoch 73/100\n",
      "\u001b[1m379/379\u001b[0m \u001b[32m━━━━━━━━━━━━━━━━━━━━\u001b[0m\u001b[37m\u001b[0m \u001b[1m9s\u001b[0m 23ms/step - loss: 0.0015 - mean_absolute_error: 0.0276 - val_loss: 0.0034 - val_mean_absolute_error: 0.0452\n",
      "Epoch 74/100\n",
      "\u001b[1m379/379\u001b[0m \u001b[32m━━━━━━━━━━━━━━━━━━━━\u001b[0m\u001b[37m\u001b[0m \u001b[1m9s\u001b[0m 23ms/step - loss: 0.0015 - mean_absolute_error: 0.0276 - val_loss: 0.0032 - val_mean_absolute_error: 0.0434\n",
      "Epoch 75/100\n",
      "\u001b[1m379/379\u001b[0m \u001b[32m━━━━━━━━━━━━━━━━━━━━\u001b[0m\u001b[37m\u001b[0m \u001b[1m9s\u001b[0m 22ms/step - loss: 0.0016 - mean_absolute_error: 0.0282 - val_loss: 0.0036 - val_mean_absolute_error: 0.0442\n",
      "Epoch 76/100\n",
      "\u001b[1m379/379\u001b[0m \u001b[32m━━━━━━━━━━━━━━━━━━━━\u001b[0m\u001b[37m\u001b[0m \u001b[1m9s\u001b[0m 23ms/step - loss: 0.0015 - mean_absolute_error: 0.0277 - val_loss: 0.0032 - val_mean_absolute_error: 0.0428\n",
      "Epoch 77/100\n",
      "\u001b[1m379/379\u001b[0m \u001b[32m━━━━━━━━━━━━━━━━━━━━\u001b[0m\u001b[37m\u001b[0m \u001b[1m8s\u001b[0m 22ms/step - loss: 0.0014 - mean_absolute_error: 0.0268 - val_loss: 0.0035 - val_mean_absolute_error: 0.0455\n",
      "Epoch 78/100\n",
      "\u001b[1m379/379\u001b[0m \u001b[32m━━━━━━━━━━━━━━━━━━━━\u001b[0m\u001b[37m\u001b[0m \u001b[1m9s\u001b[0m 23ms/step - loss: 0.0016 - mean_absolute_error: 0.0279 - val_loss: 0.0035 - val_mean_absolute_error: 0.0455\n",
      "Epoch 79/100\n",
      "\u001b[1m379/379\u001b[0m \u001b[32m━━━━━━━━━━━━━━━━━━━━\u001b[0m\u001b[37m\u001b[0m \u001b[1m8s\u001b[0m 21ms/step - loss: 0.0015 - mean_absolute_error: 0.0272 - val_loss: 0.0031 - val_mean_absolute_error: 0.0417\n",
      "Epoch 80/100\n",
      "\u001b[1m379/379\u001b[0m \u001b[32m━━━━━━━━━━━━━━━━━━━━\u001b[0m\u001b[37m\u001b[0m \u001b[1m7s\u001b[0m 19ms/step - loss: 0.0015 - mean_absolute_error: 0.0273 - val_loss: 0.0030 - val_mean_absolute_error: 0.0404\n",
      "Epoch 81/100\n",
      "\u001b[1m379/379\u001b[0m \u001b[32m━━━━━━━━━━━━━━━━━━━━\u001b[0m\u001b[37m\u001b[0m \u001b[1m8s\u001b[0m 20ms/step - loss: 0.0015 - mean_absolute_error: 0.0279 - val_loss: 0.0033 - val_mean_absolute_error: 0.0427\n",
      "Epoch 82/100\n",
      "\u001b[1m379/379\u001b[0m \u001b[32m━━━━━━━━━━━━━━━━━━━━\u001b[0m\u001b[37m\u001b[0m \u001b[1m7s\u001b[0m 20ms/step - loss: 0.0015 - mean_absolute_error: 0.0275 - val_loss: 0.0032 - val_mean_absolute_error: 0.0422\n",
      "Epoch 83/100\n",
      "\u001b[1m379/379\u001b[0m \u001b[32m━━━━━━━━━━━━━━━━━━━━\u001b[0m\u001b[37m\u001b[0m \u001b[1m8s\u001b[0m 20ms/step - loss: 0.0015 - mean_absolute_error: 0.0270 - val_loss: 0.0037 - val_mean_absolute_error: 0.0448\n",
      "Epoch 84/100\n",
      "\u001b[1m379/379\u001b[0m \u001b[32m━━━━━━━━━━━━━━━━━━━━\u001b[0m\u001b[37m\u001b[0m \u001b[1m7s\u001b[0m 19ms/step - loss: 0.0015 - mean_absolute_error: 0.0279 - val_loss: 0.0033 - val_mean_absolute_error: 0.0434\n",
      "Epoch 85/100\n",
      "\u001b[1m379/379\u001b[0m \u001b[32m━━━━━━━━━━━━━━━━━━━━\u001b[0m\u001b[37m\u001b[0m \u001b[1m7s\u001b[0m 19ms/step - loss: 0.0015 - mean_absolute_error: 0.0270 - val_loss: 0.0036 - val_mean_absolute_error: 0.0440\n",
      "Epoch 86/100\n",
      "\u001b[1m379/379\u001b[0m \u001b[32m━━━━━━━━━━━━━━━━━━━━\u001b[0m\u001b[37m\u001b[0m \u001b[1m7s\u001b[0m 20ms/step - loss: 0.0015 - mean_absolute_error: 0.0273 - val_loss: 0.0036 - val_mean_absolute_error: 0.0453\n",
      "Epoch 87/100\n",
      "\u001b[1m379/379\u001b[0m \u001b[32m━━━━━━━━━━━━━━━━━━━━\u001b[0m\u001b[37m\u001b[0m \u001b[1m8s\u001b[0m 20ms/step - loss: 0.0015 - mean_absolute_error: 0.0272 - val_loss: 0.0036 - val_mean_absolute_error: 0.0438\n",
      "Epoch 88/100\n",
      "\u001b[1m379/379\u001b[0m \u001b[32m━━━━━━━━━━━━━━━━━━━━\u001b[0m\u001b[37m\u001b[0m \u001b[1m7s\u001b[0m 20ms/step - loss: 0.0014 - mean_absolute_error: 0.0269 - val_loss: 0.0036 - val_mean_absolute_error: 0.0450\n",
      "Epoch 89/100\n",
      "\u001b[1m379/379\u001b[0m \u001b[32m━━━━━━━━━━━━━━━━━━━━\u001b[0m\u001b[37m\u001b[0m \u001b[1m8s\u001b[0m 21ms/step - loss: 0.0014 - mean_absolute_error: 0.0265 - val_loss: 0.0034 - val_mean_absolute_error: 0.0442\n",
      "Epoch 90/100\n",
      "\u001b[1m379/379\u001b[0m \u001b[32m━━━━━━━━━━━━━━━━━━━━\u001b[0m\u001b[37m\u001b[0m \u001b[1m8s\u001b[0m 20ms/step - loss: 0.0014 - mean_absolute_error: 0.0269 - val_loss: 0.0040 - val_mean_absolute_error: 0.0475\n",
      "Epoch 91/100\n",
      "\u001b[1m379/379\u001b[0m \u001b[32m━━━━━━━━━━━━━━━━━━━━\u001b[0m\u001b[37m\u001b[0m \u001b[1m7s\u001b[0m 20ms/step - loss: 0.0015 - mean_absolute_error: 0.0273 - val_loss: 0.0035 - val_mean_absolute_error: 0.0446\n",
      "Epoch 92/100\n",
      "\u001b[1m379/379\u001b[0m \u001b[32m━━━━━━━━━━━━━━━━━━━━\u001b[0m\u001b[37m\u001b[0m \u001b[1m7s\u001b[0m 20ms/step - loss: 0.0015 - mean_absolute_error: 0.0271 - val_loss: 0.0037 - val_mean_absolute_error: 0.0465\n",
      "Epoch 93/100\n",
      "\u001b[1m379/379\u001b[0m \u001b[32m━━━━━━━━━━━━━━━━━━━━\u001b[0m\u001b[37m\u001b[0m \u001b[1m7s\u001b[0m 20ms/step - loss: 0.0014 - mean_absolute_error: 0.0266 - val_loss: 0.0038 - val_mean_absolute_error: 0.0472\n",
      "Epoch 94/100\n",
      "\u001b[1m379/379\u001b[0m \u001b[32m━━━━━━━━━━━━━━━━━━━━\u001b[0m\u001b[37m\u001b[0m \u001b[1m9s\u001b[0m 15ms/step - loss: 0.0014 - mean_absolute_error: 0.0263 - val_loss: 0.0034 - val_mean_absolute_error: 0.0434\n",
      "Epoch 95/100\n",
      "\u001b[1m379/379\u001b[0m \u001b[32m━━━━━━━━━━━━━━━━━━━━\u001b[0m\u001b[37m\u001b[0m \u001b[1m8s\u001b[0m 20ms/step - loss: 0.0015 - mean_absolute_error: 0.0273 - val_loss: 0.0039 - val_mean_absolute_error: 0.0481\n",
      "Epoch 96/100\n",
      "\u001b[1m379/379\u001b[0m \u001b[32m━━━━━━━━━━━━━━━━━━━━\u001b[0m\u001b[37m\u001b[0m \u001b[1m8s\u001b[0m 20ms/step - loss: 0.0015 - mean_absolute_error: 0.0273 - val_loss: 0.0034 - val_mean_absolute_error: 0.0440\n",
      "Epoch 97/100\n",
      "\u001b[1m379/379\u001b[0m \u001b[32m━━━━━━━━━━━━━━━━━━━━\u001b[0m\u001b[37m\u001b[0m \u001b[1m8s\u001b[0m 20ms/step - loss: 0.0014 - mean_absolute_error: 0.0269 - val_loss: 0.0034 - val_mean_absolute_error: 0.0443\n",
      "Epoch 98/100\n",
      "\u001b[1m379/379\u001b[0m \u001b[32m━━━━━━━━━━━━━━━━━━━━\u001b[0m\u001b[37m\u001b[0m \u001b[1m7s\u001b[0m 19ms/step - loss: 0.0014 - mean_absolute_error: 0.0267 - val_loss: 0.0030 - val_mean_absolute_error: 0.0407\n",
      "Epoch 99/100\n",
      "\u001b[1m379/379\u001b[0m \u001b[32m━━━━━━━━━━━━━━━━━━━━\u001b[0m\u001b[37m\u001b[0m \u001b[1m7s\u001b[0m 19ms/step - loss: 0.0014 - mean_absolute_error: 0.0265 - val_loss: 0.0035 - val_mean_absolute_error: 0.0444\n",
      "Epoch 100/100\n",
      "\u001b[1m379/379\u001b[0m \u001b[32m━━━━━━━━━━━━━━━━━━━━\u001b[0m\u001b[37m\u001b[0m \u001b[1m7s\u001b[0m 19ms/step - loss: 0.0014 - mean_absolute_error: 0.0269 - val_loss: 0.0034 - val_mean_absolute_error: 0.0447\n"
     ]
    }
   ],
   "source": [
    "EPOCHS = 100\n",
    "BATCH_SIZE = 64\n",
    "\n",
    "history = model.fit(\n",
    "    X_train, y_train_scaled,\n",
    "    epochs=EPOCHS,\n",
    "    batch_size=BATCH_SIZE,\n",
    "    validation_data=(X_val, y_val_scaled),\n",
    ")\n",
    "\n"
   ]
  },
  {
   "cell_type": "markdown",
   "id": "c3040909",
   "metadata": {},
   "source": [
    "#### 4.4. Eğitim Geçmişinin Görselleştirilmesi\n",
    "\n",
    "Eğitim sürecindeki kayıp (loss) ve ortalama mutlak hata (MAE) metriklerinin değişimi, modelin öğrenme eğrisini anlamak için görselleştirilir."
   ]
  },
  {
   "cell_type": "code",
   "execution_count": 15,
   "id": "0fdcd54f",
   "metadata": {},
   "outputs": [
    {
     "data": {
      "image/png": "[encoded data removed]",
      "text/plain": [
       "<Figure size 1800x600 with 2 Axes>"
      ]
     },
     "metadata": {},
     "output_type": "display_data"
    }
   ],
   "source": [
    "\n",
    "def plot_training_history(history):\n",
    "    fig, (ax1, ax2) = plt.subplots(1, 2, figsize=(18, 6))\n",
    "\n",
    "    # Kayıp (Loss) Grafiği\n",
    "    ax1.plot(history.history['loss'], label='Eğitim Kaybı')\n",
    "    ax1.plot(history.history['val_loss'], label='Validasyon Kaybı')\n",
    "    ax1.set_title('Model Kayıp (Loss) Değişimi')\n",
    "    ax1.set_xlabel('Epoch')\n",
    "    ax1.set_ylabel('MSE Loss')\n",
    "    ax1.legend()\n",
    "\n",
    "    # Metrik (MAE) Grafiği\n",
    "    ax2.plot(history.history['mean_absolute_error'], label='Eğitim MAE')\n",
    "    ax2.plot(history.history['val_mean_absolute_error'], label='Validasyon MAE')\n",
    "    ax2.set_title('Model Ortalama Mutlak Hata (MAE) Değişimi')\n",
    "    ax2.set_xlabel('Epoch')\n",
    "    ax2.set_ylabel('MAE')\n",
    "    ax2.legend()\n",
    "\n",
    "    plt.show()\n",
    "\n",
    "plot_training_history(history)\n",
    "    "
   ]
  },
  {
   "cell_type": "markdown",
   "id": "475a142f",
   "metadata": {},
   "source": [
    "#### 4.5. Başlangıç Modelinin Test Performansı\n",
    "\n",
    "Eğitilen başlangıç modelinin performansı, daha önce hiç görmediği test verisi üzerinde ölçülür. Tahminler, `scaler_target_1h` kullanılarak orijinal Euro birimine çevrilir ve metrikler hesaplanır."
   ]
  },
  {
   "cell_type": "code",
   "execution_count": 16,
   "id": "14a6c5d6",
   "metadata": {},
   "outputs": [
    {
     "name": "stderr",
     "output_type": "stream",
     "text": [
      "WARNING:absl:Compiled the loaded model, but the compiled metrics have yet to be built. `model.compile_metrics` will be empty until you train or evaluate the model.\n"
     ]
    },
    {
     "name": "stdout",
     "output_type": "stream",
     "text": [
      "\u001b[1m162/162\u001b[0m \u001b[32m━━━━━━━━━━━━━━━━━━━━\u001b[0m\u001b[37m\u001b[0m \u001b[1m1s\u001b[0m 3ms/step\n",
      "--------------------------------------------------\n",
      "Test Seti Performans Değerlendirmesi (Orijinal Ölçek)\n",
      "Ortalama Mutlak Hata (MAE): 13.58 Euro\n",
      "Kök Ortalama Kare Hata (RMSE): 15.38 Euro\n",
      "--------------------------------------------------\n"
     ]
    }
   ],
   "source": [
    "from tensorflow.keras.models import load_model\n",
    "\n",
    "# Kaydedilen en iyi modeli yükle\n",
    "# Not: Eğer model .h5 olarak kaydedildiyse, özel katmanlar (Attention) için bir uyarı verebilir.\n",
    "# .keras formatı genellikle daha sorunsuzdur.\n",
    "checkpoint_path = os.path.join(MODEL_PATH, 'best_hourly_model.h5')\n",
    "best_model = load_model(checkpoint_path)\n",
    "\n",
    "# Test seti üzerinde tahmin yap\n",
    "y_pred_scaled = best_model.predict(X_test)\n",
    "\n",
    "# Tahminleri ve gerçek değerleri orijinal ölçeğe geri döndür\n",
    "y_pred_original = scaler_target.inverse_transform(y_pred_scaled)\n",
    "y_test_original = scaler_target.inverse_transform(y_test_scaled)\n",
    "\n",
    "# Performans metriklerini hesapla\n",
    "mae_original = mean_absolute_error(y_test_original, y_pred_original)\n",
    "rmse_original = np.sqrt(mean_squared_error(y_test_original, y_pred_original))\n",
    "\n",
    "print(\"-\" * 50)\n",
    "print(\"Test Seti Performans Değerlendirmesi (Orijinal Ölçek)\")\n",
    "print(f\"Ortalama Mutlak Hata (MAE): {mae_original:.2f} Euro\")\n",
    "print(f\"Kök Ortalama Kare Hata (RMSE): {rmse_original:.2f} Euro\")\n",
    "print(\"-\" * 50)"
   ]
  },
  {
   "cell_type": "markdown",
   "id": "02ad8a90",
   "metadata": {},
   "source": [
    "### 5. Hiperparametre Optimizasyonu (Keras Tuner)\n",
    "\n",
    "Başlangıç modelinin performansını daha da ileriye taşımak için `Keras Tuner` ile en uygun hiperparametre setini arıyoruz.\n",
    "\n",
    "- **`build_model(hp)` fonksiyonu**: GRU ve Dense katmanlarındaki ünite sayısı, dropout oranı ve öğrenme oranı gibi parametreler için bir arama uzayı tanımlar.\n",
    "- **`RandomSearch`**: Belirlenen arama uzayında rastgele kombinasyonlar deneyerek en iyi modeli bulmaya çalışan bir arama stratejisidir."
   ]
  },
  {
   "cell_type": "code",
   "execution_count": null,
   "id": "1c7c832c",
   "metadata": {},
   "outputs": [],
   "source": [
    "# Gerekliyse KerasTuner'ı kurun (bu satırı bir kere çalıştırdıktan sonra yorum satırı yapabilirsiniz)\n",
    "!pip install -q -U keras-tuner\n",
    "\n",
    "import keras_tuner as kt\n",
    "from tensorflow.keras.optimizers import Adam\n",
    "\n",
    "def build_model(hp):\n",
    "    \"\"\"\n",
    "    KerasTuner için hiperparametre arama uzayını tanımlayan \n",
    "    ve modeli oluşturan fonksiyon.\n",
    "    \"\"\"\n",
    "    # Model giriş katmanı\n",
    "    input_layer = Input(shape=(SEQUENCE_LENGTH, NUM_FEATURES))\n",
    "\n",
    "    #GRU Ünite Sayısı: 32 ile 256 arasında, 32'lik adımlarla dene\n",
    "    hp_gru_units = hp.Int('gru_units', min_value=32, max_value=256, step=32)\n",
    "    \n",
    "    # Dense Katman-1 Ünite Sayısı: 32 ile 128 arasında, 32'lik adımlarla dene\n",
    "    hp_dense_1_units = hp.Int('dense_1_units', min_value=32, max_value=128, step=32)\n",
    "\n",
    "    # Dense Katman-2 Ünite Sayısı: 16 ile 64 arasında, 16'lık adımlarla dene\n",
    "    hp_dense_2_units = hp.Int('dense_2_units', min_value=16, max_value=64, step=16)\n",
    "\n",
    "    # Dropout Oranı: 0.1 ile 0.5 arasında bir değer dene\n",
    "    hp_dropout = hp.Float('dropout_rate', min_value=0.1, max_value=0.5, step=0.1)\n",
    "\n",
    "    # Öğrenme Oranı: Belirtilen seçeneklerden birini dene\n",
    "    hp_learning_rate = hp.Choice('learning_rate', values=[1e-2, 1e-3, 5e-4])\n",
    "\n",
    "    gru_layer = GRU(units=hp_gru_units, return_sequences=True)(input_layer)\n",
    "    attention_layer = Attention()([gru_layer, gru_layer])\n",
    "    pooling_layer = GlobalAveragePooling1D()(attention_layer)\n",
    "    \n",
    "    dense_1 = Dense(units=hp_dense_1_units, activation='relu')(pooling_layer)\n",
    "    dropout_1 = Dropout(rate=hp_dropout)(dense_1)\n",
    "    dense_2 = Dense(units=hp_dense_2_units, activation='relu')(dropout_1)\n",
    "    dropout_2 = Dropout(rate=hp_dropout)(dense_2)\n",
    "    \n",
    "    output_layer = Dense(1)(dropout_2)\n",
    "\n",
    "    model = Model(inputs=input_layer, outputs=output_layer)\n",
    "\n",
    "    # Modeli derle\n",
    "    optimizer = Adam(learning_rate=hp_learning_rate)\n",
    "    model.compile(optimizer=optimizer, loss='mean_squared_error')\n",
    "    \n",
    "    return model"
   ]
  },
  {
   "cell_type": "markdown",
   "id": "f291da84",
   "metadata": {},
   "source": [
    "#### 5.1. Optimizasyon Sürecinin Başlatılması\n",
    "`tuner.search()` metodu ile arama süreci başlatılır. Her deneme (`trial`), `EarlyStopping` ile desteklenerek verimsiz denemelerin erken sonlandırılması sağlanır.\n",
    "- **Kaydedilen Dosyalar**: Tuner, tüm deneme sonuçlarını **`keras_tuner_dir/hourly_price_tuning/`** klasörüne kaydeder."
   ]
  },
  {
   "cell_type": "code",
   "execution_count": null,
   "id": "b30e5bfa",
   "metadata": {},
   "outputs": [
    {
     "name": "stdout",
     "output_type": "stream",
     "text": [
      "Trial 15 Complete [00h 05m 58s]\n",
      "val_loss: 0.002272792044095695\n",
      "\n",
      "Best val_loss So Far: 0.0018198565230704844\n",
      "Total elapsed time: 02h 22m 47s\n",
      "\n",
      "Arama tamamlandı.\n"
     ]
    }
   ],
   "source": [
    "tuner = kt.RandomSearch(\n",
    "    build_model,\n",
    "    objective='val_loss',\n",
    "    max_trials=15,\n",
    "    executions_per_trial=2,\n",
    "    directory='keras_tuner_dir',\n",
    "    project_name='hourly_price_tuning',\n",
    "    overwrite=True \n",
    ")\n",
    "\n",
    "# Erken durdurma callback'i\n",
    "early_stopping_tuner = EarlyStopping(monitor='val_loss', patience=5, verbose=1)\n",
    "\n",
    "print(\"\\nHiperparametre arama süreci başlıyor...\")\n",
    "tuner.search(\n",
    "    X_train, y_train_scaled,\n",
    "    epochs=50,\n",
    "    validation_data=(X_val, y_val_scaled),\n",
    "    callbacks=[early_stopping_tuner]\n",
    ")\n",
    "\n",
    "print(\"\\nArama tamamlandı.\")"
   ]
  },
  {
   "cell_type": "markdown",
   "id": "26f28bd9",
   "metadata": {},
   "source": [
    "### 6. Final Modelin Değerlendirilmesi ve Kaydedilmesi\n",
    "\n",
    "Optimizasyon tamamlandıktan sonra, en iyi performansı gösteren hiperparametrelerle oluşturulmuş model alınır ve test seti üzerinde nihai performansı ölçülür.\n",
    "\n",
    "- **Kaydedilen Dosya**: Optimize edilmiş en iyi saatlik tahmin modeli, `MODEL_PATH` altında **`best_tuned_hourly_model.keras`** adıyla kaydedilir."
   ]
  },
  {
   "cell_type": "code",
   "execution_count": null,
   "id": "73714b35",
   "metadata": {},
   "outputs": [
    {
     "name": "stdout",
     "output_type": "stream",
     "text": [
      "\n",
      "En İyi Hiperparametreler:\n",
      "- GRU Üniteleri: 224\n",
      "- Dense-1 Üniteleri: 96\n",
      "- Dense-2 Üniteleri: 48\n",
      "- Dropout Oranı: 0.10\n",
      "- Öğrenme Oranı: 0.001\n"
     ]
    },
    {
     "name": "stderr",
     "output_type": "stream",
     "text": [
      "c:\\Users\\90537\\anaconda3\\envs\\tf-env\\lib\\site-packages\\keras\\src\\saving\\saving_lib.py:802: UserWarning: Skipping variable loading for optimizer 'adam', because it has 2 variables whereas the saved optimizer has 20 variables. \n",
      "  saveable.load_own_variables(weights_store.get(inner_path))\n"
     ]
    },
    {
     "name": "stdout",
     "output_type": "stream",
     "text": [
      "\n",
      "--- En İyi Modelin Test Performansı ---\n",
      "\u001b[1m162/162\u001b[0m \u001b[32m━━━━━━━━━━━━━━━━━━━━\u001b[0m\u001b[37m\u001b[0m \u001b[1m2s\u001b[0m 9ms/step\n",
      "--------------------------------------------------\n",
      "Test Seti Performans Değerlendirmesi (Orijinal Ölçek)\n",
      "Ortalama Mutlak Hata (MAE): 2.60 Euro\n",
      "Kök Ortalama Kare Hata (RMSE): 3.21 Euro\n",
      "--------------------------------------------------\n"
     ]
    }
   ],
   "source": [
    "best_hps = tuner.get_best_hyperparameters(num_trials=1)[0]\n",
    "\n",
    "print(\"\\nEn İyi Hiperparametreler:\")\n",
    "print(f\"- GRU Üniteleri: {best_hps.get('gru_units')}\")\n",
    "print(f\"- Dense-1 Üniteleri: {best_hps.get('dense_1_units')}\")\n",
    "print(f\"- Dense-2 Üniteleri: {best_hps.get('dense_2_units')}\")\n",
    "print(f\"- Dropout Oranı: {best_hps.get('dropout_rate'):.2f}\")\n",
    "print(f\"- Öğrenme Oranı: {best_hps.get('learning_rate')}\")\n",
    "\n",
    "best_model = tuner.get_best_models(num_models=1)[0]\n",
    "\n",
    "# En iyi model ile test seti üzerinde performans değerlendirmesi\n",
    "print(\"\\n--- En İyi Modelin Test Performansı ---\")\n",
    "y_pred_scaled_best = best_model.predict(X_test)\n",
    "y_pred_original_best = scaler_target.inverse_transform(y_pred_scaled_best)\n",
    "\n",
    "mae_original_best = mean_absolute_error(y_test_original, y_pred_original_best)\n",
    "rmse_original_best = np.sqrt(mean_squared_error(y_test_original, y_pred_original_best))\n",
    "\n",
    "print(\"-\" * 50)\n",
    "print(\"Test Seti Performans Değerlendirmesi (Orijinal Ölçek)\")\n",
    "print(f\"Ortalama Mutlak Hata (MAE): {mae_original_best:.2f} Euro\")\n",
    "print(f\"Kök Ortalama Kare Hata (RMSE): {rmse_original_best:.2f} Euro\")\n",
    "print(\"-\" * 50)\n",
    "\n",
    "# İsteğe bağlı: En iyi modeli diske kaydet\n",
    "best_model.save(os.path.join(MODEL_PATH, 'best_tuned_hourly_model.keras'))"
   ]
  },
  {
   "cell_type": "code",
   "execution_count": null,
   "id": "e54c0ab5",
   "metadata": {},
   "outputs": [],
   "source": []
  }
 ],
 "metadata": {
  "kernelspec": {
   "display_name": "tf-env",
   "language": "python",
   "name": "python3"
  },
  "language_info": {
   "codemirror_mode": {
    "name": "ipython",
    "version": 3
   },
   "file_extension": ".py",
   "mimetype": "text/x-python",
   "name": "python",
   "nbconvert_exporter": "python",
   "pygments_lexer": "ipython3",
   "version": "3.10.18"
  }
 },
 "nbformat": 4,
 "nbformat_minor": 5
}
