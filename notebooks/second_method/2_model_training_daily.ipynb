{
 "cells": [
  {
   "cell_type": "markdown",
   "id": "0ab16bb6",
   "metadata": {},
   "source": [
    "# Yöntem 2: Günlük Fiyat Tahmini için RNN Model Eğitimi\n",
    "\n",
    "Bu notebook'un amacı, bir önceki `feature_engineering` adımında hazırlanan işlenmiş verileri kullanarak bir sonraki günün ortalama elektrik fiyatını tahmin edecek bir RNN (Tekrarlayan Sinir Ağı) modeli oluşturmak, eğitmek ve optimize etmektir.\n",
    "\n",
    "Süreç aşağıdaki adımları içerecektir:\n",
    "1.  Gerekli kütüphanelerin yüklenmesi ve ortamın hazırlanması.\n",
    "2.  Önceden işlenmiş eğitim, validasyon ve test verilerinin yüklenmesi.\n",
    "3.  Bir başlangıç (baseline) modeli oluşturulup eğitilmesi.\n",
    "4.  Keras Tuner kullanılarak en iyi model mimarisini ve hiperparametreleri bulmak için optimizasyon yapılması.\n",
    "5.  Optimize edilmiş en iyi modelin test verisi üzerindeki nihai performansının değerlendirilmesi ve modelin diske kaydedilmesi.\n",
    "\n",
    "### 1. Kütüphanelerin Yüklenmesi ve Ortam Hazırlığı\n",
    "\n",
    "İlk olarak, modelleme için gerekli olan `TensorFlow`, `Keras`, `scikit-learn` ve diğer yardımcı kütüphaneleri yüklüyoruz. Ayrıca, işlenmiş verilerin ve eğitilecek modellerin kaydedileceği dosya yollarını (`DATA_PATH`, `MODEL_PATH`) tanımlıyoruz."
   ]
  },
  {
   "cell_type": "code",
   "execution_count": null,
   "id": "f9979bfb",
   "metadata": {},
   "outputs": [],
   "source": [
    "import numpy as np\n",
    "import pandas as pd\n",
    "import joblib\n",
    "import os\n",
    "import matplotlib.pyplot as plt\n",
    "import seaborn as sns\n",
    "import warnings\n",
    "from sklearn.preprocessing import MinMaxScaler\n",
    "from sklearn.metrics import mean_absolute_error, mean_squared_error\n",
    "import tensorflow as tf\n",
    "from tensorflow.keras.models import Model, load_model\n",
    "from tensorflow.keras.layers import Input, GRU, Dense, Dropout, Attention, GlobalAveragePooling1D\n",
    "from tensorflow.keras.callbacks import ModelCheckpoint, EarlyStopping\n",
    "import keras_tuner as kt\n",
    "from tensorflow.keras.optimizers import Adam\n",
    "from tensorflow.keras.callbacks import ReduceLROnPlateau\n",
    "from tensorflow.keras.layers import Conv1D \n",
    "\n",
    "\n",
    "sns.set_style('whitegrid')\n",
    "plt.rcParams['figure.figsize'] = (15, 6)\n",
    "\n",
    "DATA_PATH = '../../data/processed/'\n",
    "MODEL_PATH = '../../models/'\n",
    "os.makedirs(MODEL_PATH, exist_ok=True)"
   ]
  },
  {
   "cell_type": "markdown",
   "id": "cca80bce",
   "metadata": {},
   "source": [
    "### 2. İşlenmiş Verilerin ve Ölçekleyicilerin Yüklenmesi\n",
    "\n",
    "Bir önceki notebook'ta oluşturup kaydettiğimiz verileri bu adımda yüklüyoruz.\n",
    "\n",
    "- **`daily_model_data.npz`**: Bu dosya, RNN modelinin beklediği `(örnek_sayısı, dizi_uzunluğu, öznitelik_sayısı)` formatındaki eğitim (`X_train`, `y_train`), validasyon (`X_val`, `y_val`) ve test (`X_test`, `y_test`) dizilerini içerir.\n",
    "- **`scaler_next_day.joblib`**: Öznitelikleri [0, 1] aralığına ölçeklendirmek için kullanılan `MinMaxScaler` nesnesidir.\n",
    "- **`scaler_target_next_day.joblib`**: Hedef değişkeni (`target_price_next_day`) [0, 1] aralığına ölçeklendirmek için kullanılan `MinMaxScaler` nesnesidir. Bu, modelin tahminlerini tekrar orijinal Euro birimine çevirmek için kritik öneme sahiptir."
   ]
  },
  {
   "cell_type": "code",
   "execution_count": null,
   "id": "c78b4a28",
   "metadata": {},
   "outputs": [
    {
     "name": "stdout",
     "output_type": "stream",
     "text": [
      "Veri Seti Boyutları:\n",
      "X_train: (23224, 72, 113), y_train: (23224,)\n",
      "X_val: (4920, 72, 113), y_val: (4920,)\n",
      "X_test: (4920, 72, 113), y_test: (4920,)\n"
     ]
    }
   ],
   "source": [
    "processed_data = np.load(os.path.join(DATA_PATH, 'daily_model_data.npz'))\n",
    "X_train = processed_data['X_train']\n",
    "y_train = processed_data['y_train']\n",
    "X_val = processed_data['X_val']\n",
    "y_val = processed_data['y_val']\n",
    "X_test = processed_data['X_test']\n",
    "y_test = processed_data['y_test']\n",
    "\n",
    "scaler_features = joblib.load(os.path.join(DATA_PATH, 'scaler_next_day.joblib'))\n",
    "scaler_target = joblib.load(os.path.join(DATA_PATH, 'scaler_target_next_day.joblib'))\n",
    "\n",
    "print(\"Veri Seti Boyutları:\")\n",
    "print(f\"X_train: {X_train.shape}, y_train: {y_train.shape}\")\n",
    "print(f\"X_val: {X_val.shape}, y_val: {y_val.shape}\")\n",
    "print(f\"X_test: {X_test.shape}, y_test: {y_test.shape}\")"
   ]
  },
  {
   "cell_type": "markdown",
   "id": "82fe4954",
   "metadata": {},
   "source": [
    "### 3. Model Geliştirme ve Eğitim Süreci\n",
    "\n",
    "Bu bölümde, önce bir başlangıç (baseline) modeli tanımlayıp eğiteceğiz. Bu model, hiperparametre optimizasyonu sonucunda elde edilecek modelin performansını karşılaştırmak için bir referans noktası sağlayacaktır.\n",
    "\n",
    "#### 3.1. Başlangıç Modelinin Mimarisi ve Eğitimi\n",
    "Modelimiz, zaman serisi verilerindeki desenleri yakalamak için tasarlanmış hibrit bir mimariye sahiptir:\n",
    "\n",
    "- **`Input` Katmanı**: `(72, 113)` boyutunda, yani 72 zaman adımından (saat) ve 113 öznitelikten oluşan dizileri kabul eder.\n",
    "- **`GRU` Katmanı**: Zaman içindeki sıralı bağımlılıkları öğrenen temel hafıza katmanıdır.\n",
    "- **`Attention` Katmanı**: GRU katmanının çıktısındaki hangi zaman adımlarının tahmin için daha önemli olduğuna odaklanarak modelin yorumlanabilirliğini ve performansını artırır.\n",
    "- **`Dense` Katmanları**: Attention mekanizmasından gelen özetlenmiş bilgiyi işleyerek nihai tahmini üretir.\n",
    "- **`Dropout`**: Aşırı öğrenmeyi (overfitting) engellemek için kullanılır.\n",
    "\n",
    "Model, eğitim sırasında validasyon kaybını (`val_loss`) izleyen `ModelCheckpoint`, `EarlyStopping` ve `ReduceLROnPlateau` geri çağrıları (callbacks) ile desteklenir.\n",
    "- **Kaydedilen Dosya**: Bu adımdaki en iyi model, optimizasyon öncesi bir referans olarak `MODEL_PATH` altında **`best_daily_model_initial.keras`** adıyla kaydedilir."
   ]
  },
  {
   "cell_type": "code",
   "execution_count": 12,
   "id": "a2e5a260",
   "metadata": {},
   "outputs": [],
   "source": [
    "SEQUENCE_LENGTH = X_train.shape[1]\n",
    "NUM_FEATURES = X_train.shape[2] "
   ]
  },
  {
   "cell_type": "code",
   "execution_count": null,
   "id": "7d008491",
   "metadata": {},
   "outputs": [],
   "source": [
    "def build_model(hp):\n",
    "    input_layer = Input(shape=(SEQUENCE_LENGTH, NUM_FEATURES))\n",
    "\n",
    "    hp_filters = hp.Int('filters', min_value=32, max_value=96, step=32)\n",
    "    hp_kernel_size = hp.Choice('kernel_size', values=[6, 8, 12])\n",
    "    hp_gru_units_1 = hp.Int('gru_units_1', min_value=64, max_value=128, step=32)\n",
    "    hp_gru_units_2 = hp.Int('gru_units_2', min_value=32, max_value=64, step=32)\n",
    "    hp_dense_units = hp.Int('dense_units', min_value=32, max_value=128, step=32)\n",
    "    hp_dropout = hp.Float('dropout_rate', min_value=0.2, max_value=0.5, step=0.1)\n",
    "    hp_learning_rate = hp.Choice('learning_rate', values=[5e-4, 1e-4, 5e-5]) # Öğrenme oranını biraz daha düşürdük\n",
    "\n",
    "\n",
    "    # Desen Tanıma Katmanı\n",
    "    conv_layer = Conv1D(filters=hp_filters, kernel_size=hp_kernel_size, activation='relu')(input_layer)\n",
    "    \n",
    "    # Hiyerarşik Hafıza Katmanları\n",
    "    gru_1 = GRU(units=hp_gru_units_1, return_sequences=True)(conv_layer)\n",
    "    dropout_1 = Dropout(rate=hp_dropout)(gru_1)\n",
    "    gru_2 = GRU(units=hp_gru_units_2, return_sequences=True)(dropout_1)\n",
    "\n",
    "    # Özetleme ve Çıktı\n",
    "    attention_layer = Attention()([gru_2, gru_2])\n",
    "    pooling_layer = GlobalAveragePooling1D()(attention_layer)\n",
    "    \n",
    "    dense_1 = Dense(units=hp_dense_units, activation='relu')(pooling_layer)\n",
    "    dropout_2 = Dropout(rate=hp_dropout)(dense_1)\n",
    "    \n",
    "    output_layer = Dense(1)(dropout_2)\n",
    "    \n",
    "    model = Model(inputs=input_layer, outputs=output_layer)\n",
    "    \n",
    "    optimizer = Adam(learning_rate=hp_learning_rate)\n",
    "    model.compile(optimizer=optimizer, loss='mean_squared_error', metrics=['mean_absolute_error'])\n",
    "    \n",
    "    return model"
   ]
  },
  {
   "cell_type": "code",
   "execution_count": null,
   "id": "00f1208f",
   "metadata": {},
   "outputs": [
    {
     "data": {
      "text/html": [
       "<pre style=\"white-space:pre;overflow-x:auto;line-height:normal;font-family:Menlo,'DejaVu Sans Mono',consolas,'Courier New',monospace\"><span style=\"font-weight: bold\">Model: \"functional_1\"</span>\n",
       "</pre>\n"
      ],
      "text/plain": [
       "\u001b[1mModel: \"functional_1\"\u001b[0m\n"
      ]
     },
     "metadata": {},
     "output_type": "display_data"
    },
    {
     "data": {
      "text/html": [
       "<pre style=\"white-space:pre;overflow-x:auto;line-height:normal;font-family:Menlo,'DejaVu Sans Mono',consolas,'Courier New',monospace\">┏━━━━━━━━━━━━━━━━━━━━━┳━━━━━━━━━━━━━━━━━━━┳━━━━━━━━━━━━┳━━━━━━━━━━━━━━━━━━━┓\n",
       "┃<span style=\"font-weight: bold\"> Layer (type)        </span>┃<span style=\"font-weight: bold\"> Output Shape      </span>┃<span style=\"font-weight: bold\">    Param # </span>┃<span style=\"font-weight: bold\"> Connected to      </span>┃\n",
       "┡━━━━━━━━━━━━━━━━━━━━━╇━━━━━━━━━━━━━━━━━━━╇━━━━━━━━━━━━╇━━━━━━━━━━━━━━━━━━━┩\n",
       "│ input_layer         │ (<span style=\"color: #00d7ff; text-decoration-color: #00d7ff\">None</span>, <span style=\"color: #00af00; text-decoration-color: #00af00\">72</span>, <span style=\"color: #00af00; text-decoration-color: #00af00\">113</span>)   │          <span style=\"color: #00af00; text-decoration-color: #00af00\">0</span> │ -                 │\n",
       "│ (<span style=\"color: #0087ff; text-decoration-color: #0087ff\">InputLayer</span>)        │                   │            │                   │\n",
       "├─────────────────────┼───────────────────┼────────────┼───────────────────┤\n",
       "│ gru_layer (<span style=\"color: #0087ff; text-decoration-color: #0087ff\">GRU</span>)     │ (<span style=\"color: #00d7ff; text-decoration-color: #00d7ff\">None</span>, <span style=\"color: #00af00; text-decoration-color: #00af00\">72</span>, <span style=\"color: #00af00; text-decoration-color: #00af00\">128</span>)   │     <span style=\"color: #00af00; text-decoration-color: #00af00\">93,312</span> │ input_layer[<span style=\"color: #00af00; text-decoration-color: #00af00\">0</span>][<span style=\"color: #00af00; text-decoration-color: #00af00\">0</span>] │\n",
       "├─────────────────────┼───────────────────┼────────────┼───────────────────┤\n",
       "│ attention_layer     │ (<span style=\"color: #00d7ff; text-decoration-color: #00d7ff\">None</span>, <span style=\"color: #00af00; text-decoration-color: #00af00\">72</span>, <span style=\"color: #00af00; text-decoration-color: #00af00\">128</span>)   │          <span style=\"color: #00af00; text-decoration-color: #00af00\">0</span> │ gru_layer[<span style=\"color: #00af00; text-decoration-color: #00af00\">0</span>][<span style=\"color: #00af00; text-decoration-color: #00af00\">0</span>],  │\n",
       "│ (<span style=\"color: #0087ff; text-decoration-color: #0087ff\">Attention</span>)         │                   │            │ gru_layer[<span style=\"color: #00af00; text-decoration-color: #00af00\">0</span>][<span style=\"color: #00af00; text-decoration-color: #00af00\">0</span>]   │\n",
       "├─────────────────────┼───────────────────┼────────────┼───────────────────┤\n",
       "│ pooling_layer       │ (<span style=\"color: #00d7ff; text-decoration-color: #00d7ff\">None</span>, <span style=\"color: #00af00; text-decoration-color: #00af00\">128</span>)       │          <span style=\"color: #00af00; text-decoration-color: #00af00\">0</span> │ attention_layer[<span style=\"color: #00af00; text-decoration-color: #00af00\">…</span> │\n",
       "│ (<span style=\"color: #0087ff; text-decoration-color: #0087ff\">GlobalAveragePool…</span> │                   │            │                   │\n",
       "├─────────────────────┼───────────────────┼────────────┼───────────────────┤\n",
       "│ dense_1 (<span style=\"color: #0087ff; text-decoration-color: #0087ff\">Dense</span>)     │ (<span style=\"color: #00d7ff; text-decoration-color: #00d7ff\">None</span>, <span style=\"color: #00af00; text-decoration-color: #00af00\">64</span>)        │      <span style=\"color: #00af00; text-decoration-color: #00af00\">8,256</span> │ pooling_layer[<span style=\"color: #00af00; text-decoration-color: #00af00\">0</span>]… │\n",
       "├─────────────────────┼───────────────────┼────────────┼───────────────────┤\n",
       "│ dropout_1 (<span style=\"color: #0087ff; text-decoration-color: #0087ff\">Dropout</span>) │ (<span style=\"color: #00d7ff; text-decoration-color: #00d7ff\">None</span>, <span style=\"color: #00af00; text-decoration-color: #00af00\">64</span>)        │          <span style=\"color: #00af00; text-decoration-color: #00af00\">0</span> │ dense_1[<span style=\"color: #00af00; text-decoration-color: #00af00\">0</span>][<span style=\"color: #00af00; text-decoration-color: #00af00\">0</span>]     │\n",
       "├─────────────────────┼───────────────────┼────────────┼───────────────────┤\n",
       "│ dense_2 (<span style=\"color: #0087ff; text-decoration-color: #0087ff\">Dense</span>)     │ (<span style=\"color: #00d7ff; text-decoration-color: #00d7ff\">None</span>, <span style=\"color: #00af00; text-decoration-color: #00af00\">32</span>)        │      <span style=\"color: #00af00; text-decoration-color: #00af00\">2,080</span> │ dropout_1[<span style=\"color: #00af00; text-decoration-color: #00af00\">0</span>][<span style=\"color: #00af00; text-decoration-color: #00af00\">0</span>]   │\n",
       "├─────────────────────┼───────────────────┼────────────┼───────────────────┤\n",
       "│ dropout_2 (<span style=\"color: #0087ff; text-decoration-color: #0087ff\">Dropout</span>) │ (<span style=\"color: #00d7ff; text-decoration-color: #00d7ff\">None</span>, <span style=\"color: #00af00; text-decoration-color: #00af00\">32</span>)        │          <span style=\"color: #00af00; text-decoration-color: #00af00\">0</span> │ dense_2[<span style=\"color: #00af00; text-decoration-color: #00af00\">0</span>][<span style=\"color: #00af00; text-decoration-color: #00af00\">0</span>]     │\n",
       "├─────────────────────┼───────────────────┼────────────┼───────────────────┤\n",
       "│ output_layer        │ (<span style=\"color: #00d7ff; text-decoration-color: #00d7ff\">None</span>, <span style=\"color: #00af00; text-decoration-color: #00af00\">1</span>)         │         <span style=\"color: #00af00; text-decoration-color: #00af00\">33</span> │ dropout_2[<span style=\"color: #00af00; text-decoration-color: #00af00\">0</span>][<span style=\"color: #00af00; text-decoration-color: #00af00\">0</span>]   │\n",
       "│ (<span style=\"color: #0087ff; text-decoration-color: #0087ff\">Dense</span>)             │                   │            │                   │\n",
       "└─────────────────────┴───────────────────┴────────────┴───────────────────┘\n",
       "</pre>\n"
      ],
      "text/plain": [
       "┏━━━━━━━━━━━━━━━━━━━━━┳━━━━━━━━━━━━━━━━━━━┳━━━━━━━━━━━━┳━━━━━━━━━━━━━━━━━━━┓\n",
       "┃\u001b[1m \u001b[0m\u001b[1mLayer (type)       \u001b[0m\u001b[1m \u001b[0m┃\u001b[1m \u001b[0m\u001b[1mOutput Shape     \u001b[0m\u001b[1m \u001b[0m┃\u001b[1m \u001b[0m\u001b[1m   Param #\u001b[0m\u001b[1m \u001b[0m┃\u001b[1m \u001b[0m\u001b[1mConnected to     \u001b[0m\u001b[1m \u001b[0m┃\n",
       "┡━━━━━━━━━━━━━━━━━━━━━╇━━━━━━━━━━━━━━━━━━━╇━━━━━━━━━━━━╇━━━━━━━━━━━━━━━━━━━┩\n",
       "│ input_layer         │ (\u001b[38;5;45mNone\u001b[0m, \u001b[38;5;34m72\u001b[0m, \u001b[38;5;34m113\u001b[0m)   │          \u001b[38;5;34m0\u001b[0m │ -                 │\n",
       "│ (\u001b[38;5;33mInputLayer\u001b[0m)        │                   │            │                   │\n",
       "├─────────────────────┼───────────────────┼────────────┼───────────────────┤\n",
       "│ gru_layer (\u001b[38;5;33mGRU\u001b[0m)     │ (\u001b[38;5;45mNone\u001b[0m, \u001b[38;5;34m72\u001b[0m, \u001b[38;5;34m128\u001b[0m)   │     \u001b[38;5;34m93,312\u001b[0m │ input_layer[\u001b[38;5;34m0\u001b[0m][\u001b[38;5;34m0\u001b[0m] │\n",
       "├─────────────────────┼───────────────────┼────────────┼───────────────────┤\n",
       "│ attention_layer     │ (\u001b[38;5;45mNone\u001b[0m, \u001b[38;5;34m72\u001b[0m, \u001b[38;5;34m128\u001b[0m)   │          \u001b[38;5;34m0\u001b[0m │ gru_layer[\u001b[38;5;34m0\u001b[0m][\u001b[38;5;34m0\u001b[0m],  │\n",
       "│ (\u001b[38;5;33mAttention\u001b[0m)         │                   │            │ gru_layer[\u001b[38;5;34m0\u001b[0m][\u001b[38;5;34m0\u001b[0m]   │\n",
       "├─────────────────────┼───────────────────┼────────────┼───────────────────┤\n",
       "│ pooling_layer       │ (\u001b[38;5;45mNone\u001b[0m, \u001b[38;5;34m128\u001b[0m)       │          \u001b[38;5;34m0\u001b[0m │ attention_layer[\u001b[38;5;34m…\u001b[0m │\n",
       "│ (\u001b[38;5;33mGlobalAveragePool…\u001b[0m │                   │            │                   │\n",
       "├─────────────────────┼───────────────────┼────────────┼───────────────────┤\n",
       "│ dense_1 (\u001b[38;5;33mDense\u001b[0m)     │ (\u001b[38;5;45mNone\u001b[0m, \u001b[38;5;34m64\u001b[0m)        │      \u001b[38;5;34m8,256\u001b[0m │ pooling_layer[\u001b[38;5;34m0\u001b[0m]… │\n",
       "├─────────────────────┼───────────────────┼────────────┼───────────────────┤\n",
       "│ dropout_1 (\u001b[38;5;33mDropout\u001b[0m) │ (\u001b[38;5;45mNone\u001b[0m, \u001b[38;5;34m64\u001b[0m)        │          \u001b[38;5;34m0\u001b[0m │ dense_1[\u001b[38;5;34m0\u001b[0m][\u001b[38;5;34m0\u001b[0m]     │\n",
       "├─────────────────────┼───────────────────┼────────────┼───────────────────┤\n",
       "│ dense_2 (\u001b[38;5;33mDense\u001b[0m)     │ (\u001b[38;5;45mNone\u001b[0m, \u001b[38;5;34m32\u001b[0m)        │      \u001b[38;5;34m2,080\u001b[0m │ dropout_1[\u001b[38;5;34m0\u001b[0m][\u001b[38;5;34m0\u001b[0m]   │\n",
       "├─────────────────────┼───────────────────┼────────────┼───────────────────┤\n",
       "│ dropout_2 (\u001b[38;5;33mDropout\u001b[0m) │ (\u001b[38;5;45mNone\u001b[0m, \u001b[38;5;34m32\u001b[0m)        │          \u001b[38;5;34m0\u001b[0m │ dense_2[\u001b[38;5;34m0\u001b[0m][\u001b[38;5;34m0\u001b[0m]     │\n",
       "├─────────────────────┼───────────────────┼────────────┼───────────────────┤\n",
       "│ output_layer        │ (\u001b[38;5;45mNone\u001b[0m, \u001b[38;5;34m1\u001b[0m)         │         \u001b[38;5;34m33\u001b[0m │ dropout_2[\u001b[38;5;34m0\u001b[0m][\u001b[38;5;34m0\u001b[0m]   │\n",
       "│ (\u001b[38;5;33mDense\u001b[0m)             │                   │            │                   │\n",
       "└─────────────────────┴───────────────────┴────────────┴───────────────────┘\n"
      ]
     },
     "metadata": {},
     "output_type": "display_data"
    },
    {
     "data": {
      "text/html": [
       "<pre style=\"white-space:pre;overflow-x:auto;line-height:normal;font-family:Menlo,'DejaVu Sans Mono',consolas,'Courier New',monospace\"><span style=\"font-weight: bold\"> Total params: </span><span style=\"color: #00af00; text-decoration-color: #00af00\">103,681</span> (405.00 KB)\n",
       "</pre>\n"
      ],
      "text/plain": [
       "\u001b[1m Total params: \u001b[0m\u001b[38;5;34m103,681\u001b[0m (405.00 KB)\n"
      ]
     },
     "metadata": {},
     "output_type": "display_data"
    },
    {
     "data": {
      "text/html": [
       "<pre style=\"white-space:pre;overflow-x:auto;line-height:normal;font-family:Menlo,'DejaVu Sans Mono',consolas,'Courier New',monospace\"><span style=\"font-weight: bold\"> Trainable params: </span><span style=\"color: #00af00; text-decoration-color: #00af00\">103,681</span> (405.00 KB)\n",
       "</pre>\n"
      ],
      "text/plain": [
       "\u001b[1m Trainable params: \u001b[0m\u001b[38;5;34m103,681\u001b[0m (405.00 KB)\n"
      ]
     },
     "metadata": {},
     "output_type": "display_data"
    },
    {
     "data": {
      "text/html": [
       "<pre style=\"white-space:pre;overflow-x:auto;line-height:normal;font-family:Menlo,'DejaVu Sans Mono',consolas,'Courier New',monospace\"><span style=\"font-weight: bold\"> Non-trainable params: </span><span style=\"color: #00af00; text-decoration-color: #00af00\">0</span> (0.00 B)\n",
       "</pre>\n"
      ],
      "text/plain": [
       "\u001b[1m Non-trainable params: \u001b[0m\u001b[38;5;34m0\u001b[0m (0.00 B)\n"
      ]
     },
     "metadata": {},
     "output_type": "display_data"
    },
    {
     "name": "stdout",
     "output_type": "stream",
     "text": [
      "Epoch 1/100\n",
      "\u001b[1m726/726\u001b[0m \u001b[32m━━━━━━━━━━━━━━━━━━━━\u001b[0m\u001b[37m\u001b[0m \u001b[1m0s\u001b[0m 103ms/step - loss: 0.0312 - mean_absolute_error: 0.1279\n",
      "Epoch 1: val_loss improved from inf to 0.01060, saving model to ../../models/best_daily_model_initial.keras\n",
      "\u001b[1m726/726\u001b[0m \u001b[32m━━━━━━━━━━━━━━━━━━━━\u001b[0m\u001b[37m\u001b[0m \u001b[1m84s\u001b[0m 109ms/step - loss: 0.0311 - mean_absolute_error: 0.1278 - val_loss: 0.0106 - val_mean_absolute_error: 0.0803 - learning_rate: 0.0010\n",
      "Epoch 2/100\n",
      "\u001b[1m726/726\u001b[0m \u001b[32m━━━━━━━━━━━━━━━━━━━━\u001b[0m\u001b[37m\u001b[0m \u001b[1m0s\u001b[0m 112ms/step - loss: 0.0079 - mean_absolute_error: 0.0686\n",
      "Epoch 2: val_loss improved from 0.01060 to 0.00791, saving model to ../../models/best_daily_model_initial.keras\n",
      "\u001b[1m726/726\u001b[0m \u001b[32m━━━━━━━━━━━━━━━━━━━━\u001b[0m\u001b[37m\u001b[0m \u001b[1m87s\u001b[0m 120ms/step - loss: 0.0079 - mean_absolute_error: 0.0686 - val_loss: 0.0079 - val_mean_absolute_error: 0.0658 - learning_rate: 0.0010\n",
      "Epoch 3/100\n",
      "\u001b[1m726/726\u001b[0m \u001b[32m━━━━━━━━━━━━━━━━━━━━\u001b[0m\u001b[37m\u001b[0m \u001b[1m0s\u001b[0m 135ms/step - loss: 0.0055 - mean_absolute_error: 0.0566\n",
      "Epoch 3: val_loss did not improve from 0.00791\n",
      "\u001b[1m726/726\u001b[0m \u001b[32m━━━━━━━━━━━━━━━━━━━━\u001b[0m\u001b[37m\u001b[0m \u001b[1m103s\u001b[0m 143ms/step - loss: 0.0055 - mean_absolute_error: 0.0566 - val_loss: 0.0079 - val_mean_absolute_error: 0.0651 - learning_rate: 0.0010\n",
      "Epoch 4/100\n",
      "\u001b[1m726/726\u001b[0m \u001b[32m━━━━━━━━━━━━━━━━━━━━\u001b[0m\u001b[37m\u001b[0m \u001b[1m0s\u001b[0m 113ms/step - loss: 0.0047 - mean_absolute_error: 0.0517\n",
      "Epoch 4: val_loss improved from 0.00791 to 0.00770, saving model to ../../models/best_daily_model_initial.keras\n",
      "\u001b[1m726/726\u001b[0m \u001b[32m━━━━━━━━━━━━━━━━━━━━\u001b[0m\u001b[37m\u001b[0m \u001b[1m87s\u001b[0m 120ms/step - loss: 0.0047 - mean_absolute_error: 0.0517 - val_loss: 0.0077 - val_mean_absolute_error: 0.0658 - learning_rate: 0.0010\n",
      "Epoch 5/100\n",
      "\u001b[1m726/726\u001b[0m \u001b[32m━━━━━━━━━━━━━━━━━━━━\u001b[0m\u001b[37m\u001b[0m \u001b[1m0s\u001b[0m 110ms/step - loss: 0.0040 - mean_absolute_error: 0.0475\n",
      "Epoch 5: val_loss did not improve from 0.00770\n",
      "\u001b[1m726/726\u001b[0m \u001b[32m━━━━━━━━━━━━━━━━━━━━\u001b[0m\u001b[37m\u001b[0m \u001b[1m86s\u001b[0m 118ms/step - loss: 0.0040 - mean_absolute_error: 0.0475 - val_loss: 0.0077 - val_mean_absolute_error: 0.0625 - learning_rate: 0.0010\n",
      "Epoch 6/100\n",
      "\u001b[1m726/726\u001b[0m \u001b[32m━━━━━━━━━━━━━━━━━━━━\u001b[0m\u001b[37m\u001b[0m \u001b[1m0s\u001b[0m 111ms/step - loss: 0.0035 - mean_absolute_error: 0.0444\n",
      "Epoch 6: val_loss improved from 0.00770 to 0.00751, saving model to ../../models/best_daily_model_initial.keras\n",
      "\u001b[1m726/726\u001b[0m \u001b[32m━━━━━━━━━━━━━━━━━━━━\u001b[0m\u001b[37m\u001b[0m \u001b[1m85s\u001b[0m 117ms/step - loss: 0.0035 - mean_absolute_error: 0.0444 - val_loss: 0.0075 - val_mean_absolute_error: 0.0619 - learning_rate: 0.0010\n",
      "Epoch 7/100\n",
      "\u001b[1m726/726\u001b[0m \u001b[32m━━━━━━━━━━━━━━━━━━━━\u001b[0m\u001b[37m\u001b[0m \u001b[1m0s\u001b[0m 92ms/step - loss: 0.0029 - mean_absolute_error: 0.0407\n",
      "Epoch 7: val_loss did not improve from 0.00751\n",
      "\u001b[1m726/726\u001b[0m \u001b[32m━━━━━━━━━━━━━━━━━━━━\u001b[0m\u001b[37m\u001b[0m \u001b[1m71s\u001b[0m 98ms/step - loss: 0.0029 - mean_absolute_error: 0.0407 - val_loss: 0.0085 - val_mean_absolute_error: 0.0659 - learning_rate: 0.0010\n",
      "Epoch 8/100\n",
      "\u001b[1m726/726\u001b[0m \u001b[32m━━━━━━━━━━━━━━━━━━━━\u001b[0m\u001b[37m\u001b[0m \u001b[1m0s\u001b[0m 93ms/step - loss: 0.0028 - mean_absolute_error: 0.0395\n",
      "Epoch 8: val_loss did not improve from 0.00751\n",
      "\u001b[1m726/726\u001b[0m \u001b[32m━━━━━━━━━━━━━━━━━━━━\u001b[0m\u001b[37m\u001b[0m \u001b[1m72s\u001b[0m 99ms/step - loss: 0.0028 - mean_absolute_error: 0.0395 - val_loss: 0.0091 - val_mean_absolute_error: 0.0712 - learning_rate: 0.0010\n",
      "Epoch 9/100\n",
      "\u001b[1m726/726\u001b[0m \u001b[32m━━━━━━━━━━━━━━━━━━━━\u001b[0m\u001b[37m\u001b[0m \u001b[1m0s\u001b[0m 96ms/step - loss: 0.0027 - mean_absolute_error: 0.0382\n",
      "Epoch 9: val_loss did not improve from 0.00751\n",
      "\n",
      "Epoch 9: ReduceLROnPlateau reducing learning rate to 0.00020000000949949026.\n",
      "\u001b[1m726/726\u001b[0m \u001b[32m━━━━━━━━━━━━━━━━━━━━\u001b[0m\u001b[37m\u001b[0m \u001b[1m77s\u001b[0m 106ms/step - loss: 0.0027 - mean_absolute_error: 0.0382 - val_loss: 0.0081 - val_mean_absolute_error: 0.0645 - learning_rate: 0.0010\n",
      "Epoch 10/100\n",
      "\u001b[1m726/726\u001b[0m \u001b[32m━━━━━━━━━━━━━━━━━━━━\u001b[0m\u001b[37m\u001b[0m \u001b[1m0s\u001b[0m 108ms/step - loss: 0.0019 - mean_absolute_error: 0.0325\n",
      "Epoch 10: val_loss did not improve from 0.00751\n",
      "\u001b[1m726/726\u001b[0m \u001b[32m━━━━━━━━━━━━━━━━━━━━\u001b[0m\u001b[37m\u001b[0m \u001b[1m83s\u001b[0m 114ms/step - loss: 0.0019 - mean_absolute_error: 0.0325 - val_loss: 0.0075 - val_mean_absolute_error: 0.0628 - learning_rate: 2.0000e-04\n",
      "Epoch 11/100\n",
      "\u001b[1m726/726\u001b[0m \u001b[32m━━━━━━━━━━━━━━━━━━━━\u001b[0m\u001b[37m\u001b[0m \u001b[1m0s\u001b[0m 106ms/step - loss: 0.0018 - mean_absolute_error: 0.0307\n",
      "Epoch 11: val_loss did not improve from 0.00751\n",
      "\u001b[1m726/726\u001b[0m \u001b[32m━━━━━━━━━━━━━━━━━━━━\u001b[0m\u001b[37m\u001b[0m \u001b[1m82s\u001b[0m 113ms/step - loss: 0.0018 - mean_absolute_error: 0.0307 - val_loss: 0.0077 - val_mean_absolute_error: 0.0624 - learning_rate: 2.0000e-04\n",
      "Epoch 12/100\n",
      "\u001b[1m726/726\u001b[0m \u001b[32m━━━━━━━━━━━━━━━━━━━━\u001b[0m\u001b[37m\u001b[0m \u001b[1m0s\u001b[0m 106ms/step - loss: 0.0018 - mean_absolute_error: 0.0306\n",
      "Epoch 12: val_loss did not improve from 0.00751\n",
      "\n",
      "Epoch 12: ReduceLROnPlateau reducing learning rate to 4.0000001899898055e-05.\n",
      "\u001b[1m726/726\u001b[0m \u001b[32m━━━━━━━━━━━━━━━━━━━━\u001b[0m\u001b[37m\u001b[0m \u001b[1m83s\u001b[0m 114ms/step - loss: 0.0018 - mean_absolute_error: 0.0306 - val_loss: 0.0081 - val_mean_absolute_error: 0.0638 - learning_rate: 2.0000e-04\n",
      "Epoch 13/100\n",
      "\u001b[1m726/726\u001b[0m \u001b[32m━━━━━━━━━━━━━━━━━━━━\u001b[0m\u001b[37m\u001b[0m \u001b[1m0s\u001b[0m 133ms/step - loss: 0.0017 - mean_absolute_error: 0.0295\n",
      "Epoch 13: val_loss did not improve from 0.00751\n",
      "\u001b[1m726/726\u001b[0m \u001b[32m━━━━━━━━━━━━━━━━━━━━\u001b[0m\u001b[37m\u001b[0m \u001b[1m101s\u001b[0m 139ms/step - loss: 0.0017 - mean_absolute_error: 0.0295 - val_loss: 0.0079 - val_mean_absolute_error: 0.0634 - learning_rate: 4.0000e-05\n",
      "Epoch 14/100\n",
      "\u001b[1m726/726\u001b[0m \u001b[32m━━━━━━━━━━━━━━━━━━━━\u001b[0m\u001b[37m\u001b[0m \u001b[1m0s\u001b[0m 98ms/step - loss: 0.0016 - mean_absolute_error: 0.0289\n",
      "Epoch 14: val_loss did not improve from 0.00751\n",
      "\u001b[1m726/726\u001b[0m \u001b[32m━━━━━━━━━━━━━━━━━━━━\u001b[0m\u001b[37m\u001b[0m \u001b[1m76s\u001b[0m 104ms/step - loss: 0.0016 - mean_absolute_error: 0.0289 - val_loss: 0.0078 - val_mean_absolute_error: 0.0634 - learning_rate: 4.0000e-05\n",
      "Epoch 15/100\n",
      "\u001b[1m726/726\u001b[0m \u001b[32m━━━━━━━━━━━━━━━━━━━━\u001b[0m\u001b[37m\u001b[0m \u001b[1m0s\u001b[0m 107ms/step - loss: 0.0016 - mean_absolute_error: 0.0287\n",
      "Epoch 15: val_loss did not improve from 0.00751\n",
      "\n",
      "Epoch 15: ReduceLROnPlateau reducing learning rate to 8.000000525498762e-06.\n",
      "\u001b[1m726/726\u001b[0m \u001b[32m━━━━━━━━━━━━━━━━━━━━\u001b[0m\u001b[37m\u001b[0m \u001b[1m82s\u001b[0m 113ms/step - loss: 0.0016 - mean_absolute_error: 0.0287 - val_loss: 0.0079 - val_mean_absolute_error: 0.0632 - learning_rate: 4.0000e-05\n",
      "Epoch 16/100\n",
      "\u001b[1m726/726\u001b[0m \u001b[32m━━━━━━━━━━━━━━━━━━━━\u001b[0m\u001b[37m\u001b[0m \u001b[1m0s\u001b[0m 95ms/step - loss: 0.0016 - mean_absolute_error: 0.0282\n",
      "Epoch 16: val_loss did not improve from 0.00751\n",
      "\u001b[1m726/726\u001b[0m \u001b[32m━━━━━━━━━━━━━━━━━━━━\u001b[0m\u001b[37m\u001b[0m \u001b[1m76s\u001b[0m 104ms/step - loss: 0.0016 - mean_absolute_error: 0.0282 - val_loss: 0.0078 - val_mean_absolute_error: 0.0632 - learning_rate: 8.0000e-06\n",
      "Epoch 16: early stopping\n",
      "Restoring model weights from the end of the best epoch: 6.\n"
     ]
    }
   ],
   "source": [
    "input_layer = Input(shape=(SEQUENCE_LENGTH, NUM_FEATURES), name='input_layer')\n",
    "\n",
    "gru_layer = GRU(units=128, return_sequences=True, name='gru_layer')(input_layer)\n",
    "attention_layer = Attention(name='attention_layer')([gru_layer, gru_layer])\n",
    "pooling_layer = GlobalAveragePooling1D(name='pooling_layer')(attention_layer)\n",
    "\n",
    "dense_1 = Dense(64, activation='relu', name='dense_1')(pooling_layer)\n",
    "dropout_1 = Dropout(0.3, name='dropout_1')(dense_1)\n",
    "dense_2 = Dense(32, activation='relu', name='dense_2')(dropout_1)\n",
    "dropout_2 = Dropout(0.3, name='dropout_2')(dense_2)\n",
    "\n",
    "output_layer = Dense(1, name='output_layer')(dropout_2)\n",
    "\n",
    "model_daily = Model(inputs=input_layer, outputs=output_layer)\n",
    "\n",
    "model_daily.compile(\n",
    "    optimizer=Adam(learning_rate=0.001),\n",
    "    loss='mean_squared_error',\n",
    "    metrics=['mean_absolute_error']\n",
    ")\n",
    "\n",
    "model_daily.summary()\n",
    "\n",
    "\n",
    "checkpoint_path = os.path.join(MODEL_PATH, 'best_daily_model_initial.keras')\n",
    "model_checkpoint = ModelCheckpoint(\n",
    "    filepath=checkpoint_path,\n",
    "    monitor='val_loss',\n",
    "    save_best_only=True,\n",
    "    verbose=1\n",
    ")\n",
    "\n",
    "early_stopping = EarlyStopping(\n",
    "    monitor='val_loss',\n",
    "    patience=10,\n",
    "    restore_best_weights=True,\n",
    "    verbose=1\n",
    ")\n",
    "\n",
    "reduce_lr = ReduceLROnPlateau(monitor='val_loss', factor=0.2, patience=3, min_lr=1e-6, verbose=1)\n",
    "\n",
    "history = model_daily.fit(\n",
    "    X_train, y_train, \n",
    "    epochs=100,\n",
    "    batch_size=32, \n",
    "    validation_data=(X_val, y_val),\n",
    "    callbacks=[model_checkpoint, early_stopping, reduce_lr]\n",
    ")\n",
    "\n"
   ]
  },
  {
   "cell_type": "markdown",
   "id": "0f8e379f",
   "metadata": {},
   "source": [
    "#### 3.2. Eğitim Geçmişinin Görselleştirilmesi\n",
    "\n",
    "Modelin eğitim sürecindeki performansını daha iyi anlamak için eğitim ve validasyon setleri üzerindeki kayıp (loss) ve ortalama mutlak hata (MAE) değerlerinin her epoch'taki değişimini görselleştiriyoruz. Bu grafikler, modelin ne kadar iyi öğrendiğini ve aşırı öğrenme olup olmadığını anlamamıza yardımcı olur."
   ]
  },
  {
   "cell_type": "code",
   "execution_count": 15,
   "id": "da2edd38",
   "metadata": {},
   "outputs": [
    {
     "data": {
      "image/png": "[encoded data removed]",
      "text/plain": [
       "<Figure size 1800x600 with 2 Axes>"
      ]
     },
     "metadata": {},
     "output_type": "display_data"
    }
   ],
   "source": [
    "def plot_training_history(history):\n",
    "    fig, (ax1, ax2) = plt.subplots(1, 2, figsize=(18, 6))\n",
    "    ax1.plot(history.history['loss'], label='Eğitim Kaybı')\n",
    "    ax1.plot(history.history['val_loss'], label='Validasyon Kaybı')\n",
    "    ax1.set_title('Model Kayıp (Loss) Değişimi')\n",
    "    ax1.set_xlabel('Epoch')\n",
    "    ax1.set_ylabel('MSE Loss')\n",
    "    ax1.legend()\n",
    "    ax2.plot(history.history['mean_absolute_error'], label='Eğitim MAE')\n",
    "    ax2.plot(history.history['val_mean_absolute_error'], label='Validasyon MAE')\n",
    "    ax2.set_title('Model Ortalama Mutlak Hata (MAE) Değişimi')\n",
    "    ax2.set_xlabel('Epoch')\n",
    "    ax2.set_ylabel('MAE')\n",
    "    ax2.legend()\n",
    "    plt.show()\n",
    "\n",
    "plot_training_history(history)\n",
    "\n"
   ]
  },
  {
   "cell_type": "markdown",
   "id": "74a88198",
   "metadata": {},
   "source": [
    "#### 3.3. Başlangıç Modelinin Test Performansı\n",
    "\n",
    "Eğitilen başlangıç modelini, daha önce hiç görmediği test verisi (`X_test`) üzerinde değerlendiriyoruz. Tahmin edilen ölçeklendirilmiş değerler, `scaler_target` kullanılarak orijinal Euro birimine geri çevrilir ve gerçek değerlerle karşılaştırılarak MAE, RMSE ve R² metrikleri hesaplanır."
   ]
  },
  {
   "cell_type": "code",
   "execution_count": null,
   "id": "041308b0",
   "metadata": {},
   "outputs": [
    {
     "name": "stdout",
     "output_type": "stream",
     "text": [
      "\u001b[1m154/154\u001b[0m \u001b[32m━━━━━━━━━━━━━━━━━━━━\u001b[0m\u001b[37m\u001b[0m \u001b[1m10s\u001b[0m 63ms/step\n",
      "--------------------------------------------------\n",
      "İyileştirilmiş Modelin Test Performansı (Optimizasyon Öncesi)\n",
      "Ortalama Mutlak Hata (MAE): 3.79 Euro\n",
      "Kök Ortalama Kare Hata (RMSE): 4.62 Euro\n",
      "R-Kare (R²) Skoru: 0.124\n",
      "--------------------------------------------------\n"
     ]
    }
   ],
   "source": [
    "from sklearn.metrics import mean_absolute_error, mean_squared_error, r2_score\n",
    "import numpy as np\n",
    "\n",
    "y_pred_scaled = model_daily.predict(X_test)\n",
    "\n",
    "y_pred_original = scaler_target.inverse_transform(y_pred_scaled)\n",
    "y_test_original = scaler_target.inverse_transform(y_test.reshape(-1, 1))\n",
    "\n",
    "mae_original = mean_absolute_error(y_test_original, y_pred_original)\n",
    "rmse_original = np.sqrt(mean_squared_error(y_test_original, y_pred_original))\n",
    "r2 = r2_score(y_test_original, y_pred_original)\n",
    "\n",
    "print(\"-\" * 50)\n",
    "print(\"İyileştirilmiş Modelin Test Performansı (Optimizasyon Öncesi)\")\n",
    "print(f\"Ortalama Mutlak Hata (MAE): {mae_original:.2f} Euro\")\n",
    "print(f\"Kök Ortalama Kare Hata (RMSE): {rmse_original:.2f} Euro\")\n",
    "print(f\"R-Kare (R²) Skoru: {r2:.3f}\")\n",
    "print(\"-\" * 50)"
   ]
  },
  {
   "cell_type": "markdown",
   "id": "175fbd8d",
   "metadata": {},
   "source": [
    "### 4. Hiperparametre Optimizasyonu (Keras Tuner)\n",
    "\n",
    "Model performansını daha da iyileştirmek için en iyi hiperparametre kombinasyonunu (katmanlardaki ünite sayısı, filtre sayısı, dropout oranı, öğrenme oranı vb.) otomatik olarak bulmak amacıyla `Keras Tuner` kütüphanesini kullanıyoruz. Optimizasyon için `BayesianOptimization` stratejisi seçilmiştir.\n",
    "\n",
    "- **`build_model(hp)` fonksiyonu (`execution_count: 13`)**: Bu fonksiyon, tuner'ın her denemede farklı parametrelerle yeni bir model oluşturmasını sağlar.\n",
    "- **`tuner.search()`**: Optimizasyon sürecini başlatır. Belirlenen `max_trials` sayısı kadar farklı model deneyerek en iyi sonucu arar.\n",
    "- **Kaydedilen Dosyalar**: Tuner, denemelerin sonuçlarını ve kontrol noktalarını **`keras_tuner_dir_daily/`** klasörüne kaydeder."
   ]
  },
  {
   "cell_type": "code",
   "execution_count": 25,
   "id": "e1d7df32",
   "metadata": {},
   "outputs": [
    {
     "name": "stdout",
     "output_type": "stream",
     "text": [
      "Search space summary\n",
      "Default search space size: 7\n",
      "filters (Int)\n",
      "{'default': None, 'conditions': [], 'min_value': 32, 'max_value': 96, 'step': 32, 'sampling': 'linear'}\n",
      "kernel_size (Choice)\n",
      "{'default': 6, 'conditions': [], 'values': [6, 8, 12], 'ordered': True}\n",
      "gru_units_1 (Int)\n",
      "{'default': None, 'conditions': [], 'min_value': 64, 'max_value': 128, 'step': 32, 'sampling': 'linear'}\n",
      "gru_units_2 (Int)\n",
      "{'default': None, 'conditions': [], 'min_value': 32, 'max_value': 64, 'step': 32, 'sampling': 'linear'}\n",
      "dense_units (Int)\n",
      "{'default': None, 'conditions': [], 'min_value': 32, 'max_value': 128, 'step': 32, 'sampling': 'linear'}\n",
      "dropout_rate (Float)\n",
      "{'default': 0.2, 'conditions': [], 'min_value': 0.2, 'max_value': 0.5, 'step': 0.1, 'sampling': 'linear'}\n",
      "learning_rate (Choice)\n",
      "{'default': 0.0005, 'conditions': [], 'values': [0.0005, 0.0001, 5e-05], 'ordered': True}\n"
     ]
    }
   ],
   "source": [
    "tuner = kt.BayesianOptimization(\n",
    "    build_model,\n",
    "    objective='val_loss',\n",
    "    max_trials=10,\n",
    "    executions_per_trial=1,\n",
    "    directory='keras_tuner_dir_daily',\n",
    "    project_name='daily_price_tuning_final',\n",
    "    overwrite=True\n",
    ")\n",
    "\n",
    "tuner.search_space_summary()\n"
   ]
  },
  {
   "cell_type": "code",
   "execution_count": 26,
   "id": "c7a2f887",
   "metadata": {},
   "outputs": [
    {
     "name": "stdout",
     "output_type": "stream",
     "text": [
      "Trial 10 Complete [00h 13m 00s]\n",
      "val_loss: 0.008202873170375824\n",
      "\n",
      "Best val_loss So Far: 0.007460219785571098\n",
      "Total elapsed time: 01h 56m 05s\n"
     ]
    }
   ],
   "source": [
    "tuner.search(\n",
    "    X_train, y_train,\n",
    "    epochs=50,\n",
    "    batch_size=32,\n",
    "    validation_data=(X_val, y_val),\n",
    "    callbacks=[early_stopping_tuner]\n",
    ")\n",
    "\n",
    "early_stopping_tuner = EarlyStopping(monitor='val_loss', patience=5, verbose=1)\n"
   ]
  },
  {
   "cell_type": "markdown",
   "id": "d3cb493e",
   "metadata": {},
   "source": [
    "### 5. Final Modelin Değerlendirilmesi ve Kaydedilmesi\n",
    "\n",
    "Optimizasyon süreci tamamlandıktan sonra, Keras Tuner tarafından bulunan en iyi hiperparametrelere sahip modeli alıp test verisi üzerinde nihai performansını ölçüyoruz.\n",
    "\n",
    "Bu, projenin en başarılı modelidir ve gelecekteki tahminler için kullanılmak üzere diske kaydedilecektir.\n",
    "\n",
    "- **Kaydedilen Dosya**: Optimize edilmiş en iyi model, `MODEL_PATH` altında **`best_tuned_daily_model.keras`** adıyla kaydedilir."
   ]
  },
  {
   "cell_type": "code",
   "execution_count": 27,
   "id": "cc67182e",
   "metadata": {},
   "outputs": [
    {
     "name": "stdout",
     "output_type": "stream",
     "text": [
      "\n",
      "--- En İyi Hiperparametreler ---\n",
      "- Conv1D Filtre Sayısı: 32\n",
      "- Conv1D Kernel Boyutu: 8\n",
      "- GRU-1 Üniteleri: 128\n",
      "- GRU-2 Üniteleri: 64\n",
      "- Dense Üniteleri: 96\n",
      "- Dropout Oranı: 0.30\n",
      "- Öğrenme Oranı: 5e-05\n",
      "------------------------------\n"
     ]
    }
   ],
   "source": [
    "best_hps = tuner.get_best_hyperparameters(num_trials=1)[0]\n",
    "\n",
    "print(\"\\n--- En İyi Hiperparametreler ---\")\n",
    "print(f\"- Conv1D Filtre Sayısı: {best_hps.get('filters')}\")\n",
    "print(f\"- Conv1D Kernel Boyutu: {best_hps.get('kernel_size')}\")\n",
    "print(f\"- GRU-1 Üniteleri: {best_hps.get('gru_units_1')}\")\n",
    "print(f\"- GRU-2 Üniteleri: {best_hps.get('gru_units_2')}\")\n",
    "print(f\"- Dense Üniteleri: {best_hps.get('dense_units')}\")\n",
    "print(f\"- Dropout Oranı: {best_hps.get('dropout_rate'):.2f}\")\n",
    "print(f\"- Öğrenme Oranı: {best_hps.get('learning_rate')}\")\n",
    "print(\"-\" * 30)\n"
   ]
  },
  {
   "cell_type": "code",
   "execution_count": null,
   "id": "7fcc5444",
   "metadata": {},
   "outputs": [
    {
     "name": "stderr",
     "output_type": "stream",
     "text": [
      "c:\\Users\\90537\\anaconda3\\envs\\tf-env\\lib\\site-packages\\keras\\src\\saving\\saving_lib.py:802: UserWarning: Skipping variable loading for optimizer 'adam', because it has 2 variables whereas the saved optimizer has 26 variables. \n",
      "  saveable.load_own_variables(weights_store.get(inner_path))\n"
     ]
    },
    {
     "name": "stdout",
     "output_type": "stream",
     "text": [
      "En İyi Modelin Test Performansı\n",
      "\u001b[1m154/154\u001b[0m \u001b[32m━━━━━━━━━━━━━━━━━━━━\u001b[0m\u001b[37m\u001b[0m \u001b[1m7s\u001b[0m 46ms/step\n",
      "--------------------------------------------------\n",
      "Test Seti Performans Değerlendirmesi\n",
      "Ortalama Mutlak Hata (MAE): 3.69 Euro\n",
      "Kök Ortalama Kare Hata (RMSE): 4.42 Euro\n",
      "R-Kare (R²) Skoru: 0.199\n",
      "--------------------------------------------------\n",
      "En iyi model '../../models/best_tuned_daily_model.keras' adresine kaydedildi.\n"
     ]
    }
   ],
   "source": [
    "from sklearn.metrics import mean_absolute_error, mean_squared_error, r2_score\n",
    "\n",
    "best_model = tuner.get_best_models(num_models=1)[0]\n",
    "\n",
    "print(\"En İyi Modelin Test Performansı\")\n",
    "y_pred_scaled = best_model.predict(X_test)\n",
    "\n",
    "y_pred_original = scaler_target.inverse_transform(y_pred_scaled)\n",
    "y_test_original = scaler_target.inverse_transform(y_test.reshape(-1, 1))\n",
    "\n",
    "mae_original_best = mean_absolute_error(y_test_original, y_pred_original)\n",
    "rmse_original_best = np.sqrt(mean_squared_error(y_test_original, y_pred_original))\n",
    "r2_best = r2_score(y_test_original, y_pred_original)\n",
    "\n",
    "print(\"-\" * 50)\n",
    "print(\"Test Seti Performans Değerlendirmesi\")\n",
    "print(f\"Ortalama Mutlak Hata (MAE): {mae_original_best:.2f} Euro\")\n",
    "print(f\"Kök Ortalama Kare Hata (RMSE): {rmse_original_best:.2f} Euro\")\n",
    "print(f\"R-Kare (R²) Skoru: {r2_best:.3f}\")\n",
    "print(\"-\" * 50)\n",
    "\n",
    "best_model.save(os.path.join(MODEL_PATH, 'best_tuned_daily_model.keras'))\n",
    "print(f\"En iyi model '{MODEL_PATH}best_tuned_daily_model.keras' adresine kaydedildi.\")"
   ]
  },
  {
   "cell_type": "code",
   "execution_count": null,
   "id": "0d0cc548",
   "metadata": {},
   "outputs": [],
   "source": []
  }
 ],
 "metadata": {
  "kernelspec": {
   "display_name": "tf-env",
   "language": "python",
   "name": "python3"
  },
  "language_info": {
   "codemirror_mode": {
    "name": "ipython",
    "version": 3
   },
   "file_extension": ".py",
   "mimetype": "text/x-python",
   "name": "python",
   "nbconvert_exporter": "python",
   "pygments_lexer": "ipython3",
   "version": "3.10.18"
  }
 },
 "nbformat": 4,
 "nbformat_minor": 5
}
