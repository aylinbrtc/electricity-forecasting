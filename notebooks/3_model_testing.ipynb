{
 "cells": [
  {
   "cell_type": "code",
   "execution_count": 1,
   "id": "3cd28bdf-dcdb-40d9-a1a5-e15502641fd0",
   "metadata": {},
   "outputs": [],
   "source": [
    "import joblib\n",
    "\n",
    "# Örnek: Eğer kaydettiysen bu şekilde yüklenir\n",
    "X_test = joblib.load(\"models/X_test.pkl\")\n",
    "y_test = joblib.load(\"models/y_val.pkl\")\n",
    "y_test = y_test.values if hasattr(y_test, \"values\") else y_test\n"
   ]
  },
  {
   "cell_type": "code",
   "execution_count": 2,
   "id": "a30e9d16-b938-4144-ab70-40d0d4080417",
   "metadata": {},
   "outputs": [],
   "source": [
    "import joblib\n",
    "import numpy as np\n",
    "\n",
    "ensemble_dict = joblib.load(\"models/ensemble_info.pkl\")\n",
    "weights = ensemble_dict[\"weights\"]\n",
    "mlp_preds = ensemble_dict[\"mlp_preds\"]\n",
    "y_scaler = joblib.load(\"models/y_scaler.pkl\")\n",
    "\n",
    "mlp_preds = y_scaler.inverse_transform(mlp_preds.reshape(-1, 1)).flatten()\n",
    "# gerçek değer aralığına göre kırpılır\n",
    "mlp_preds= np.clip(mlp_preds, y_test.min(), y_test.max())\n",
    "\n",
    "lgbm_preds = ensemble_dict[\"lgbm_preds\"]\n",
    "rf_preds = ensemble_dict[\"rf_preds\"]\n",
    "\n",
    "#test gerçek değerleri\n",
    "y_test = joblib.load(\"models/y_val.pkl\")\n"
   ]
  },
  {
   "cell_type": "code",
   "execution_count": 3,
   "id": "9bef6505-fe38-4cbc-9605-12a8dd8937a0",
   "metadata": {},
   "outputs": [
    {
     "name": "stdout",
     "output_type": "stream",
     "text": [
      "MLP preds min/max: 10.66 99.95\n",
      "LGBM preds min/max: 12.166994767665761 99.42620688714403\n",
      "RF preds min/max: 13.910528402795466 98.10999848913471\n",
      "y_test min/max: 10.66 99.95\n"
     ]
    }
   ],
   "source": [
    "print(\"MLP preds min/max:\", mlp_preds.min(), mlp_preds.max())\n",
    "print(\"LGBM preds min/max:\", lgbm_preds.min(), lgbm_preds.max())\n",
    "print(\"RF preds min/max:\", rf_preds.min(), rf_preds.max())\n",
    "print(\"y_test min/max:\", y_test.min(), y_test.max())\n"
   ]
  },
  {
   "cell_type": "code",
   "execution_count": 4,
   "id": "9aefc2eb-2b5f-4639-b793-bbab69100bc5",
   "metadata": {},
   "outputs": [],
   "source": [
    "w1, w2, w3 = weights\n",
    "ensemble_preds = w1 * mlp_preds + w2 * lgbm_preds + w3 * rf_preds\n"
   ]
  },
  {
   "cell_type": "code",
   "execution_count": 5,
   "id": "49d396d4-4013-469b-91ac-15becc8242c3",
   "metadata": {},
   "outputs": [
    {
     "name": "stdout",
     "output_type": "stream",
     "text": [
      "Ensemble Test Sonuçları:\n",
      "MAE: 1.8847\n",
      "RMSE: 2.6989\n",
      "R²: 0.9610\n",
      "MAPE: 3.78%\n",
      "SMAPE: 3.69%\n",
      "Pearson Corr: 0.9803\n"
     ]
    }
   ],
   "source": [
    "from sklearn.metrics import mean_absolute_error, mean_squared_error, r2_score\n",
    "\n",
    "def smape(y_true, y_pred):\n",
    "    return 100 * np.mean(2 * np.abs(y_pred - y_true) / (np.abs(y_pred) + np.abs(y_true)))\n",
    "\n",
    "mae = mean_absolute_error(y_test, ensemble_preds)\n",
    "rmse = np.sqrt(mean_squared_error(y_test, ensemble_preds))\n",
    "r2 = r2_score(y_test, ensemble_preds)\n",
    "mape = np.mean(np.abs((y_test - ensemble_preds) / y_test)) * 100\n",
    "smape_val = smape(y_test, ensemble_preds)\n",
    "corr = np.corrcoef(y_test, ensemble_preds)[0, 1]\n",
    "\n",
    "print(f\"Ensemble Test Sonuçları:\\n\"\n",
    "      f\"MAE: {mae:.4f}\\n\"\n",
    "      f\"RMSE: {rmse:.4f}\\n\"\n",
    "      f\"R²: {r2:.4f}\\n\"\n",
    "      f\"MAPE: {mape:.2f}%\\n\"\n",
    "      f\"SMAPE: {smape_val:.2f}%\\n\"\n",
    "      f\"Pearson Corr: {corr:.4f}\")\n"
   ]
  },
  {
   "cell_type": "code",
   "execution_count": 6,
   "id": "399b99ca-c251-48ad-a8f5-e5e6b9929994",
   "metadata": {},
   "outputs": [
    {
     "name": "stdout",
     "output_type": "stream",
     "text": [
      "İlk 10 tahmin: [64.59 64.04 66.73 66.83 68.45 76.17 80.79 75.89 71.46 63.74]\n",
      "İlk 10 gerçek: 25386    65.06\n",
      "25387    66.30\n",
      "25388    66.59\n",
      "25389    66.94\n",
      "25390    72.32\n",
      "25391    79.92\n",
      "25392    79.24\n",
      "25393    77.07\n",
      "25394    69.33\n",
      "25395    62.12\n",
      "Name: target_price, dtype: float64\n"
     ]
    }
   ],
   "source": [
    "print(\"İlk 10 tahmin:\", ensemble_preds[:10].round(2))\n",
    "print(\"İlk 10 gerçek:\", y_test[:10].round(2))\n"
   ]
  },
  {
   "cell_type": "markdown",
   "id": "ba30095c-4f9e-4259-a146-92ebce52c1ed",
   "metadata": {},
   "source": [
    "### Test Sonuçları Üzerine Değerlendirme\n",
    "\n",
    "Modeli test seti üzerinde çalıştırdım ve sonuçlar genel olarak oldukça iyi çıktı. Farklı algoritmalardan (MLP, LightGBM, Random Forest) oluşan ensemble model, bu test verisinde hem düşük hata verdi hem de yüksek korelasyon gösterdi.\n",
    "\n",
    "Aldığım metrikler:\n",
    "\n",
    "- **MAE:** 1.88\n",
    "- **RMSE:** 2.70\n",
    "- **R²:** 0.961\n",
    "- **MAPE:** %3.78\n",
    "- **SMAPE:** %3.69\n",
    "- **Pearson Korelasyonu:** 0.980\n",
    "\n",
    "Bu sonuçlara göre model gerçek değerlerle oldukça uyumlu tahminler yapmış. RMSE ve MAE değerleri düşük, ayrıca R² ve korelasyon gibi ölçütler 0.96–0.98 civarında. Bu da modelin hem hatasının az olduğunu hem de fiyat hareketlerini iyi takip ettiğini gösteriyor.\n",
    "\n",
    "MAPE ve SMAPE değerlerinin de %4’ün altında olması, fiyat tahmini gibi zor bir problem için gayet başarılı sayılabilir. Tabii ki bazı uç noktalar veya ani fiyat değişimlerinde model hala zorlanabilir, ama genel olarak sonuçlar tatmin edici.\n",
    "\n",
    "Kısacası: ensemble yaklaşımı işe yaramış görünüyor ve model sadece eğitime değil, gerçek test verisine de iyi genelleyebiliyor.\n"
   ]
  },
  {
   "cell_type": "code",
   "execution_count": null,
   "id": "0722f115-3e9a-4d47-a191-194a5ea0191d",
   "metadata": {},
   "outputs": [],
   "source": []
  }
 ],
 "metadata": {
  "kernelspec": {
   "display_name": "Python (tf-env)",
   "language": "python",
   "name": "tf-env"
  },
  "language_info": {
   "codemirror_mode": {
    "name": "ipython",
    "version": 3
   },
   "file_extension": ".py",
   "mimetype": "text/x-python",
   "name": "python",
   "nbconvert_exporter": "python",
   "pygments_lexer": "ipython3",
   "version": "3.10.18"
  }
 },
 "nbformat": 4,
 "nbformat_minor": 5
}
