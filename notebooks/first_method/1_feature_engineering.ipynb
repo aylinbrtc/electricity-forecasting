{
 "cells": [
  {
   "cell_type": "markdown",
   "id": "92eb0078-965d-4eb4-be94-e8b72bacdc27",
   "metadata": {},
   "source": [
    "### 1. Feature Engineering\n",
    "\n",
    "Bu bölümde, zaman serisi enerji ve hava durumu verilerinden elektrik fiyatını (`price actual`) tahmin edebilmek için yeni öznitelikler oluşturuyorum.\n",
    "\n",
    "#### Oluşturulan öznitelik türleri:\n",
    "- Zaman bilgisine dayalı: saat, gün, ay, sin/cos dönüşümleri\n",
    "- Gecikmeli değerler: önceki saat(ler)e ait fiyat ve tüketim bilgileri\n",
    "- Rolling istatistikler: ortalama, standart sapma, çarpıklık, basıklık\n",
    "- Frekans bileşenleri (FFT): periyodik desenleri yakalamak için\n",
    "- Hedef değişkenin kaydırılmış versiyonu (`target_price`)\n",
    "- Hava durumu verilerinin eşletirilmesi\n"
   ]
  },
  {
   "cell_type": "code",
   "execution_count": 1,
   "id": "a6cf8b64-1794-4667-b009-d315544e9934",
   "metadata": {},
   "outputs": [],
   "source": [
    "import pandas as pd\n",
    "import numpy as np\n",
    "import matplotlib.pyplot as plt\n",
    "import seaborn as sns\n",
    "import warnings\n",
    "warnings.filterwarnings('ignore')\n",
    "\n",
    "\n",
    "energy = pd.read_csv('../../data/raw/energy_dataset.csv')\n",
    "weather = pd.read_csv('../../data/raw/weather_features.csv')"
   ]
  },
  {
   "cell_type": "markdown",
   "id": "5c29799f-d83d-42a5-bf4c-9719624e4cfa",
   "metadata": {},
   "source": [
    "Tahmin edilmek istenen değişken olarak bir saat sonrasının fiyatı (`target_price`) tanımlandı. Bu sayede model geçmiş verilerle bir sonraki fiyatı öngörecek şekilde eğitilecek."
   ]
  },
  {
   "cell_type": "code",
   "execution_count": 2,
   "id": "1624002f-d16e-4e71-8a4c-e6d170420441",
   "metadata": {},
   "outputs": [],
   "source": [
    "#zaman sırasına göre sıralama ve hedef değişken tanımı\n",
    "energy = energy.sort_values('time').reset_index(drop=True)\n",
    "energy['target_price'] = energy['price actual'].shift(-1)#\n",
    "energy = energy.dropna(subset=['target_price'])\n",
    "\n",
    "energy['time'] = pd.to_datetime(energy['time'], utc=True)"
   ]
  },
  {
   "cell_type": "code",
   "execution_count": 3,
   "id": "aba3d6d4-f676-4d08-96cb-6a703a6b13e7",
   "metadata": {},
   "outputs": [],
   "source": [
    "#zaman bileşenleri\n",
    "energy['hour'] = energy['time'].dt.hour\n",
    "energy['day'] = energy['time'].dt.day\n",
    "energy['weekday'] = energy['time'].dt.weekday\n",
    "energy['month'] = energy['time'].dt.month\n",
    "\n",
    "# saat bilgisinin döngüsel kodlaması\n",
    "energy['hour_sin'] = np.sin(2 * np.pi * energy['hour'] / 24)\n",
    "energy['hour_cos'] = np.cos(2 * np.pi * energy['hour'] / 24)\n",
    "\n",
    "# hafta sonu bilgisi\n",
    "energy['is_weekend'] = energy['weekday'].isin([5, 6]).astype(int)\n",
    "\n",
    "# mevsim bilgisi (1: kış, 2: ilkbahar, 3: yaz, 4: sonbahar)\n",
    "def get_season(month):\n",
    "    return (month % 12 + 3) // 3\n",
    "energy['season'] = energy['month'].apply(get_season)"
   ]
  },
  {
   "cell_type": "markdown",
   "id": "2d3579e8-e0bb-427e-b2b8-1eb933e310dd",
   "metadata": {},
   "source": [
    "ACF/PACF analizlerinde anlamlı olduğu görülen gecikmelere (örneğin 1, 2, 24, 168 saat) göre fiyat ve yük için gecikmeli öznitelikler üretildi."
   ]
  },
  {
   "cell_type": "code",
   "execution_count": 4,
   "id": "b85ad83a-c54a-435d-846b-adcb99f50169",
   "metadata": {},
   "outputs": [],
   "source": [
    "# EDA'da anlamlı bulunan lag'lar yani 1, 2, 24, 168 saat\n",
    "for lag in [1, 2, 24, 168]:\n",
    "    energy[f'price_lag_{lag}'] = energy['price actual'].shift(lag)\n",
    "    energy[f'load_lag_{lag}'] = energy['total load actual'].shift(lag)"
   ]
  },
  {
   "cell_type": "markdown",
   "id": "001f453f-fcca-4eb8-88ab-495666e3edbf",
   "metadata": {},
   "source": [
    "Rolling ortalama ve benzeri işlemlerde yalnızca geçmiş verinin kullanılması sağlandı (`shift(1)` ile), böylece geleceğe ait bilgi modele sızmamış oldu. Bu, veri sızıntısını (data leakage) önlemek için kritik bir adımdır.\n"
   ]
  },
  {
   "cell_type": "code",
   "execution_count": 5,
   "id": "060bdb50-c4cf-41c8-aa41-7dc513861b5f",
   "metadata": {},
   "outputs": [],
   "source": [
    "for window in [3, 6, 12, 24]:\n",
    "    energy[f'price_roll_mean_{window}'] = energy['price actual'].shift(1).rolling(window=window).mean()\n",
    "    energy[f'price_roll_std_{window}'] = energy['price actual'].shift(1).rolling(window=window).std()\n",
    "    energy[f'load_roll_mean_{window}'] = energy['total load actual'].shift(1).rolling(window=window).mean()\n",
    "    energy[f'load_roll_std_{window}'] = energy['total load actual'].shift(1).rolling(window=window).std()"
   ]
  },
  {
   "cell_type": "code",
   "execution_count": 6,
   "id": "a2c80d95-bcbd-4085-89a9-19c21af25705",
   "metadata": {},
   "outputs": [],
   "source": [
    "#fiyat ve yük değişimleri\n",
    "energy['price_diff_1'] = energy['price actual'] - energy['price_lag_1']\n",
    "energy['load_diff_1'] = energy['total load actual'] - energy['load_lag_1']"
   ]
  },
  {
   "cell_type": "markdown",
   "id": "5dac86c9-3e4e-4b68-97b8-cbecd3a2f8ea",
   "metadata": {},
   "source": [
    "Fiyat serisinin uç değerlerini azaltmak için log dönüşümü uygulandı. Ayrıca IQR yöntemiyle aykırı değer sınırları hesaplandı."
   ]
  },
  {
   "cell_type": "code",
   "execution_count": 7,
   "id": "02cb61d2-489e-43bc-8b51-854632bf15ce",
   "metadata": {},
   "outputs": [],
   "source": [
    "energy['log_price'] = np.log1p(energy['price actual'])\n",
    "\n",
    "q1 = energy['price actual'].shift(1).rolling(24).quantile(0.25)\n",
    "q3 = energy['price actual'].shift(1).rolling(24).quantile(0.75)\n",
    "iqr = q3 - q1\n",
    "lower = q1 - 1.5 * iqr\n",
    "upper = q3 + 1.5 * iqr\n",
    "energy['is_price_outlier'] = ((energy['price actual'] < lower) | (energy['price actual'] > upper)).astype(int)"
   ]
  },
  {
   "cell_type": "code",
   "execution_count": 8,
   "id": "9fa5c754-ecd2-4b76-a905-da18c2802cb8",
   "metadata": {},
   "outputs": [],
   "source": [
    "def compute_rolling_fft(series, window):\n",
    "    result = {'fft_mean': [], 'fft_std': [], 'fft_max': []}\n",
    "    for i in range(len(series)):\n",
    "        if i < window:\n",
    "            result['fft_mean'].append(np.nan)\n",
    "            result['fft_std'].append(np.nan)\n",
    "            result['fft_max'].append(np.nan)\n",
    "        else:\n",
    "            window_data = series.iloc[i - window:i]\n",
    "            fft_vals = np.fft.fft(window_data.fillna(0).values)\n",
    "            fft_mag = np.abs(fft_vals)\n",
    "            result['fft_mean'].append(fft_mag.mean())\n",
    "            result['fft_std'].append(fft_mag.std())\n",
    "            result['fft_max'].append(fft_mag.max())\n",
    "    return result\n",
    "\n",
    "fft_hourly = compute_rolling_fft(energy['price actual'], window=24)\n",
    "energy['fft_mean'] = fft_hourly['fft_mean']\n",
    "energy['fft_std'] = fft_hourly['fft_std']\n",
    "energy['fft_max'] = fft_hourly['fft_max']\n"
   ]
  },
  {
   "cell_type": "code",
   "execution_count": 9,
   "id": "5732982d-7f6b-44ba-90cc-6e7e4f98a3b6",
   "metadata": {},
   "outputs": [],
   "source": [
    "fossil_cols = [\n",
    "    'generation fossil gas',\n",
    "    'generation fossil hard coal',\n",
    "    'generation fossil brown coal/lignite',\n",
    "    'generation fossil oil',\n",
    "    'generation fossil oil shale',\n",
    "    'generation fossil coal-derived gas',\n",
    "    'generation fossil peat'\n",
    "]\n",
    "\n",
    "renewable_cols = [\n",
    "    'generation hydro water reservoir',\n",
    "    'generation hydro run-of-river and poundage',\n",
    "    'generation hydro pumped storage consumption',\n",
    "    'generation wind onshore',\n",
    "    'generation wind offshore',\n",
    "    'generation solar',\n",
    "    'generation biomass',\n",
    "    'generation geothermal',\n",
    "    'generation marine',\n",
    "    'generation other renewable'\n",
    "]\n",
    "\n",
    "other_cols = ['generation nuclear', 'generation waste', 'generation other']\n",
    "\n",
    "energy['generation_total'] = energy[fossil_cols + renewable_cols + other_cols].sum(axis=1)\n",
    "\n",
    "#alt gruplar\n",
    "energy['fossil_total'] = energy[fossil_cols].sum(axis=1)\n",
    "energy['renewable_total'] = energy[renewable_cols].sum(axis=1)\n",
    "\n",
    "#oran\n",
    "energy['fossil_ratio'] = energy['fossil_total'] / (energy['generation_total'] + 1e-6)\n",
    "energy['renewable_ratio'] = energy['renewable_total'] / (energy['generation_total'] + 1e-6)\n",
    "\n",
    "def entropy(row):\n",
    "    p = row / (row.sum() + 1e-6)\n",
    "    return -(p * np.log(p + 1e-6)).sum()\n",
    "energy['generation_entropy'] = energy[fossil_cols + renewable_cols + other_cols].apply(entropy, axis=1)"
   ]
  },
  {
   "cell_type": "code",
   "execution_count": 10,
   "id": "a56b5ec6-3c28-4b34-84a0-7cf94d001fca",
   "metadata": {},
   "outputs": [
    {
     "name": "stdout",
     "output_type": "stream",
     "text": [
      "Temizlenmiş korelasyon (en anlamlı 40 değişken):\n"
     ]
    },
    {
     "data": {
      "text/plain": [
       "target_price                            1.000000\n",
       "price actual                            0.966788\n",
       "log_price                               0.940289\n",
       "price_lag_1                             0.900488\n",
       "price_roll_mean_3                       0.837791\n",
       "price_lag_2                             0.821567\n",
       "price_roll_mean_24                      0.803087\n",
       "fft_max                                 0.803087\n",
       "fft_std                                 0.802839\n",
       "price_lag_24                            0.802259\n",
       "price_roll_mean_12                      0.778579\n",
       "price_roll_mean_6                       0.776908\n",
       "price_lag_168                           0.766502\n",
       "price day ahead                         0.709791\n",
       "fft_mean                                0.683677\n",
       "fossil_total                            0.512998\n",
       "generation fossil hard coal             0.457324\n",
       "generation fossil gas                   0.451169\n",
       "fossil_ratio                            0.435525\n",
       "total load actual                       0.404124\n",
       "total load forecast                     0.403568\n",
       "load_lag_168                            0.370009\n",
       "generation fossil brown coal/lignite    0.360278\n",
       "load_lag_1                              0.337997\n",
       "load_lag_24                             0.332877\n",
       "month                                   0.281228\n",
       "generation_total                        0.271625\n",
       "generation fossil oil                   0.268241\n",
       "load_roll_mean_3                        0.263631\n",
       "price_diff_1                            0.257271\n",
       "load_lag_2                              0.256356\n",
       "generation other renewable              0.246505\n",
       "load_diff_1                             0.212049\n",
       "load_roll_mean_24                       0.184466\n",
       "load_roll_std_24                        0.177774\n",
       "load_roll_mean_6                        0.174153\n",
       "generation waste                        0.166484\n",
       "hour                                    0.162756\n",
       "generation biomass                      0.140177\n",
       "season                                  0.136304\n",
       "Name: target_price, dtype: float64"
      ]
     },
     "metadata": {},
     "output_type": "display_data"
    }
   ],
   "source": [
    "#sabit sütunlar + elle belirlenen gereksiz sütunlar\n",
    "constant_cols = [col for col in energy.columns if energy[col].nunique() <= 1]\n",
    "manual_exclude_cols = [\n",
    "    'generation fossil coal-derived gas',\n",
    "    'generation fossil oil shale',\n",
    "    'generation fossil peat',\n",
    "    'generation geothermal',\n",
    "    'generation hydro pumped storage aggregated',\n",
    "    'generation marine',\n",
    "    'generation wind offshore',\n",
    "    'forecast wind offshore eday ahead'\n",
    "]\n",
    "columns_to_exclude = list(set(constant_cols + manual_exclude_cols))\n",
    "\n",
    "#sadece sayısal sütunlar içinden korelasyon analizi\n",
    "numeric_cols = energy.drop(columns=columns_to_exclude, errors='ignore').select_dtypes(include=[np.number])\n",
    "correlations = numeric_cols.corr()\n",
    "target_corr = correlations['target_price'].sort_values(ascending=False)\n",
    "\n",
    "print(\"Temizlenmiş korelasyon (en anlamlı 40 değişken):\")\n",
    "display(target_corr.head(40))"
   ]
  },
  {
   "cell_type": "markdown",
   "id": "e4f252b4-6743-40b4-992d-dcaa234ff76a",
   "metadata": {},
   "source": [
    "## Rolling Window Korelasyon Analizi\n",
    "\n",
    "Bu aşamada, farklı uzunluktaki geçmiş ortalamaların hedef değişken ile olan korelasyonları incelenmiştir. Hangi pencere genişliğinin (`window size`) öznitelik oluşturmak için daha anlamlı olduğunu belirlemek amaçlanmıştır.\n"
   ]
  },
  {
   "cell_type": "code",
   "execution_count": 11,
   "id": "82d68513-4663-4fa6-b278-85cdf6115119",
   "metadata": {},
   "outputs": [
    {
     "name": "stdout",
     "output_type": "stream",
     "text": [
      "Rolling window korelasyonları en yüksek 5:\n",
      "Pencere: 2 saat → Korelasyon: 0.3756\n",
      "Pencere: 3 saat → Korelasyon: 0.3430\n",
      "Pencere: 4 saat → Korelasyon: 0.3087\n",
      "Pencere: 5 saat → Korelasyon: 0.2755\n",
      "Pencere: 6 saat → Korelasyon: 0.2456\n"
     ]
    }
   ],
   "source": [
    "#kKorelasyon analizi için farklı rolling pencereler test edilir\n",
    "candidate_windows = range(2, 73)\n",
    "col = 'total load actual'\n",
    "window_corrs = []\n",
    "\n",
    "for w in candidate_windows:\n",
    "    roll_mean = energy[col].rolling(window=w).mean()\n",
    "    corr = roll_mean.corr(energy['target_price'])\n",
    "    window_corrs.append((w, corr))\n",
    "\n",
    "# En yüksek korelasyonlu 5 pencere gösterilir\n",
    "top_windows = sorted(window_corrs, key=lambda x: abs(x[1]), reverse=True)[:5]\n",
    "print(\"Rolling window korelasyonları en yüksek 5:\")\n",
    "for w, c in top_windows:\n",
    "    print(f\"Pencere: {w} saat → Korelasyon: {c:.4f}\")"
   ]
  },
  {
   "cell_type": "code",
   "execution_count": 12,
   "id": "74583360-d132-4ad4-9523-0fa8d6bbe99b",
   "metadata": {},
   "outputs": [
    {
     "data": {
      "image/png": "[encoded data removed]",
      "text/plain": [
       "<Figure size 1000x400 with 1 Axes>"
      ]
     },
     "metadata": {},
     "output_type": "display_data"
    }
   ],
   "source": [
    "plt.figure(figsize=(10, 4))\n",
    "plt.plot([w for w, _ in window_corrs], [c for _, c in window_corrs], marker='o')\n",
    "plt.title(\"Window Size'e Göre Korelasyon Değişimi\")\n",
    "plt.xlabel(\"Pencere (Saat)\")\n",
    "plt.ylabel(\"Korelasyon\")\n",
    "plt.grid(True)\n",
    "plt.tight_layout()\n",
    "plt.show()"
   ]
  },
  {
   "cell_type": "code",
   "execution_count": 13,
   "id": "d9149a5c-7b74-46ef-b2d3-81b87a99da4f",
   "metadata": {},
   "outputs": [],
   "source": [
    "# # En anlamlı ilk 3 pencere kullanılarak rolling mean ve std hesaplanır\n",
    "# rolling_windows = [2, 3, 4, 24, 27]\n",
    "\n",
    "\n",
    "# # Hedefe etkili olabilecek kolonlar seçilir\n",
    "# rolling_targets = [\n",
    "#     'price actual',              # Ana değişken, fiyat trendi\n",
    "#     'total load actual',         # Tüketim trendi\n",
    "#     'fossil_total',              # Fosil üretim baskısı\n",
    "#     'renewable_total',           # Yenilenebilir üretim baskısı\n",
    "#     'generation fossil gas',     # Kritik maliyetli üretim\n",
    "#     'generation fossil hard coal',  # Önemli bir baz üretim tipi\n",
    "#     'generation wind onshore',      # Yenilenebilir artışı → fiyat düşürücü etki\n",
    "#     'price_diff_1',     # Fiyatın ani değişimi → Volatiliteyi rolling ile analiz et\n",
    "#     'load_diff_1',     # Talep değişiminin penceresel davranışı\n",
    "\n",
    "# ]\n",
    "\n",
    "\n",
    "# for col in rolling_targets:\n",
    "#     for w in rolling_windows:\n",
    "#         energy[f'{col}_roll{w}_mean'] = energy[col].shift(1).rolling(window=w).mean()\n",
    "#         energy[f'{col}_roll{w}_std'] = energy[col].shift(1).rolling(window=w).std()\n",
    "#         energy[f'{col}_roll{w}_min'] = energy[col].shift(1).rolling(window=w).min()\n",
    "#         energy[f'{col}_roll{w}_max'] = energy[col].shift(1).rolling(window=w).max()"
   ]
  },
  {
   "cell_type": "markdown",
   "id": "7ba2398b-4d2d-4099-a5b3-a82fe498d77e",
   "metadata": {},
   "source": [
    "## 2. Weather Verisinin Entegrasyonu (Madrid Örneği)\n",
    "\n",
    "Bu bölümde, `weather_features.csv` veri setinden EDA'daki analizler sonucunda sadece Madrid şehrine ait veriler alınarak, enerji fiyatlarıyla aynı zaman ekseninde birleştirilecektir.\n",
    "\n",
    "Madrid seçildi çünküapılan korelasyon analizinde en yüksek ortalama korelasyonu gösteren şehir olmasıdır. Bu şehir üzerinden örnekleme yapılarak model girdi alanı zenginleştirilecektir.\n"
   ]
  },
  {
   "cell_type": "code",
   "execution_count": 14,
   "id": "e8b6fac8-1cff-4d54-a9f3-5b25699b035e",
   "metadata": {},
   "outputs": [],
   "source": [
    "weather['dt_iso'] = pd.to_datetime(weather['dt_iso'], utc=True)"
   ]
  },
  {
   "cell_type": "code",
   "execution_count": 15,
   "id": "bcf3aa13-33e2-47c9-8a62-8772f65d2e13",
   "metadata": {},
   "outputs": [],
   "source": [
    "madrid_weather = weather[weather['city_name'] == 'Madrid'].copy()\n",
    "madrid_weather['dt_iso'] = pd.to_datetime(madrid_weather['dt_iso'], utc=True)\n",
    "\n",
    "#prefix\n",
    "madrid_weather = madrid_weather.add_prefix('madrid_')\n",
    "madrid_weather = madrid_weather.rename(columns={'madrid_dt_iso': 'time'})\n",
    "\n",
    "#zaman üzerinden birleştir\n",
    "merged_data= pd.merge(\n",
    "    energy,\n",
    "    madrid_weather,\n",
    "    on='time',\n",
    "    how='left'\n",
    ")\n"
   ]
  },
  {
   "cell_type": "code",
   "execution_count": 16,
   "id": "250bbb77-06c6-4d47-8d0b-d44af8d80fc9",
   "metadata": {},
   "outputs": [
    {
     "name": "stdout",
     "output_type": "stream",
     "text": [
      "Yeni shape: (35063, 75)\n",
      "Eklenen weather sütunları:\n",
      "{'madrid_clouds_all', 'madrid_temp_max', 'madrid_temp_min', 'madrid_pressure', 'madrid_rain_1h', 'madrid_wind_deg', 'madrid_city_name', 'time', 'madrid_snow_3h', 'madrid_weather_id', 'madrid_wind_speed', 'madrid_weather_description', 'madrid_temp', 'madrid_rain_3h', 'madrid_weather_main', 'madrid_humidity', 'madrid_weather_icon'}\n"
     ]
    }
   ],
   "source": [
    "print(\"Yeni shape:\", energy.shape)\n",
    "print(\"Eklenen weather sütunları:\")\n",
    "print(set(madrid_weather.columns) - {'dt_iso', 'city_name'})"
   ]
  },
  {
   "cell_type": "code",
   "execution_count": 17,
   "id": "c998d98e-4850-4bea-8ae1-93f433260774",
   "metadata": {},
   "outputs": [],
   "source": [
    "# 3 saatlik sıcaklık farkı\n",
    "merged_data['madrid_temp_diff_3h'] = merged_data['madrid_temp'] - merged_data['madrid_temp'].shift(3)\n",
    "\n",
    "#yağmur ve kar var mı\n",
    "merged_data['madrid_is_rainy'] = (merged_data['madrid_rain_3h'] > 0).astype(int)\n",
    "merged_data['madrid_is_snowy'] = (merged_data['madrid_snow_3h'] > 0).astype(int)\n",
    "\n",
    "#rüzgar gücü yaklaşık tahmini\n",
    "merged_data['madrid_wind_power_proxy'] = (merged_data['madrid_wind_speed'] ** 3).fillna(0)\n",
    "\n",
    "#bulutluluk oranı\n",
    "merged_data['madrid_cloud_ratio'] = merged_data['madrid_clouds_all'] / 100.0\n",
    "\n",
    "#rolling öznitelikler (trend ve volatilite göstergesi)\n",
    "merged_data['madrid_temp_roll3_mean'] = merged_data['madrid_temp'].shift(1).rolling(window=3).mean()\n",
    "merged_data['madrid_humidity_roll3_std'] = merged_data['madrid_humidity'].shift(1).rolling(window=3).std()"
   ]
  },
  {
   "cell_type": "code",
   "execution_count": 18,
   "id": "3cc90561-bb6d-4c21-bc72-a2f6b76514a9",
   "metadata": {},
   "outputs": [
    {
     "data": {
      "text/plain": [
       "madrid_wind_speed            0.245752\n",
       "madrid_wind_power_proxy      0.202800\n",
       "madrid_temp_diff_3h          0.108674\n",
       "madrid_wind_deg              0.084786\n",
       "madrid_temp_max              0.077963\n",
       "madrid_temp                  0.068884\n",
       "madrid_cloud_ratio           0.052271\n",
       "madrid_clouds_all            0.052271\n",
       "madrid_temp_min              0.047301\n",
       "madrid_temp_roll3_mean       0.044075\n",
       "madrid_humidity              0.042200\n",
       "madrid_is_rainy              0.033056\n",
       "madrid_rain_3h               0.026750\n",
       "madrid_pressure              0.020311\n",
       "madrid_rain_1h               0.011597\n",
       "madrid_humidity_roll3_std    0.009149\n",
       "madrid_snow_3h               0.007970\n",
       "madrid_is_snowy              0.007970\n",
       "madrid_weather_id            0.001094\n",
       "dtype: float64"
      ]
     },
     "metadata": {},
     "output_type": "display_data"
    },
    {
     "data": {
      "text/plain": [
       "madrid_wind_speed            0.245752\n",
       "madrid_wind_power_proxy      0.202800\n",
       "madrid_temp_diff_3h          0.108674\n",
       "madrid_wind_deg              0.084786\n",
       "madrid_temp_max              0.077963\n",
       "madrid_temp                  0.068884\n",
       "madrid_cloud_ratio           0.052271\n",
       "madrid_clouds_all            0.052271\n",
       "madrid_temp_min              0.047301\n",
       "madrid_temp_roll3_mean       0.044075\n",
       "madrid_humidity              0.042200\n",
       "madrid_is_rainy              0.033056\n",
       "madrid_rain_3h               0.026750\n",
       "madrid_pressure              0.020311\n",
       "madrid_rain_1h               0.011597\n",
       "madrid_humidity_roll3_std    0.009149\n",
       "madrid_snow_3h               0.007970\n",
       "madrid_is_snowy              0.007970\n",
       "madrid_weather_id            0.001094\n",
       "dtype: float64"
      ]
     },
     "metadata": {},
     "output_type": "display_data"
    }
   ],
   "source": [
    "#korelasyon analizi\n",
    "\n",
    "weather_cols = [\n",
    "    col for col in merged_data.columns \n",
    "    if col.startswith('madrid_') and np.issubdtype(merged_data[col].dtype, np.number)\n",
    "]\n",
    "\n",
    "corrs = merged_data[weather_cols].corrwith(merged_data['target_price']).abs().sort_values(ascending=False)\n",
    "display(corrs)\n",
    "# Sadece madrid_ ile başlayan ve sayısal olan sütunları al\n",
    "weather_cols = [\n",
    "    col for col in merged_data.columns \n",
    "    if col.startswith('madrid_') and np.issubdtype(merged_data[col].dtype, np.number)\n",
    "]\n",
    "\n",
    "corrs = merged_data[weather_cols].corrwith(merged_data['target_price']).abs().sort_values(ascending=False)\n",
    "display(corrs)"
   ]
  },
  {
   "cell_type": "code",
   "execution_count": 19,
   "id": "d34893fc-0d95-46be-9fd6-64cbc405f06f",
   "metadata": {},
   "outputs": [],
   "source": [
    "#hedefe etkili olabilecek kolonlar seçilir\n",
    "target_columns = [\n",
    "    'price actual',            \n",
    "    'total load actual',         # Tüketim trendi\n",
    "    'fossil_total',              \n",
    "    'renewable_total',           # Yenilenebilir üretim baskısı\n",
    "    'generation fossil gas',     \n",
    "    'generation fossil hard coal',  # Önemli bir baz üretim tipi\n",
    "    'generation wind onshore',      # Yenilenebilir artışı\n",
    "    'price_diff_1',     # Fiyatın ani değişimi\n",
    "    'load_diff_1',       \n",
    "    'madrid_wind_speed',       \n",
    "    'madrid_temp',             \n",
    "]\n",
    "\n",
    "candidate_windows = range(2, 73)\n",
    "rolling_corr_results = {}\n",
    "\n",
    "for col in target_columns:\n",
    "    correlations = []\n",
    "    for w in candidate_windows:\n",
    "        rolling_series = merged_data[col].shift(1).rolling(window=w).mean()\n",
    "        corr = rolling_series.corr(merged_data['target_price'].shift(1))\n",
    "        correlations.append((w, corr))\n",
    "    rolling_corr_results[col] = sorted(correlations, key=lambda x: abs(x[1]), reverse=True)[:5]\n"
   ]
  },
  {
   "cell_type": "code",
   "execution_count": 20,
   "id": "234391ed-e5d8-479b-87b1-e768f6c90933",
   "metadata": {},
   "outputs": [
    {
     "name": "stdout",
     "output_type": "stream",
     "text": [
      "Rolling pencere korelasyon sonuçları (ilk 5 pencere):\n",
      "\n",
      "price actual:\n",
      "  Pencere: 2 saat → Korelasyon: 0.9423\n",
      "  Pencere: 3 saat → Korelasyon: 0.9150\n",
      "  Pencere: 4 saat → Korelasyon: 0.8877\n",
      "  Pencere: 5 saat → Korelasyon: 0.8627\n",
      "  Pencere: 6 saat → Korelasyon: 0.8417\n",
      "----------------------------------------\n",
      "total load actual:\n",
      "  Pencere: 2 saat → Korelasyon: 0.3799\n",
      "  Pencere: 3 saat → Korelasyon: 0.3485\n",
      "  Pencere: 4 saat → Korelasyon: 0.3154\n",
      "  Pencere: 5 saat → Korelasyon: 0.2833\n",
      "  Pencere: 6 saat → Korelasyon: 0.2541\n",
      "----------------------------------------\n",
      "fossil_total:\n",
      "  Pencere: 2 saat → Korelasyon: 0.5003\n",
      "  Pencere: 3 saat → Korelasyon: 0.4866\n",
      "  Pencere: 4 saat → Korelasyon: 0.4716\n",
      "  Pencere: 5 saat → Korelasyon: 0.4565\n",
      "  Pencere: 6 saat → Korelasyon: 0.4425\n",
      "----------------------------------------\n",
      "renewable_total:\n",
      "  Pencere: 18 saat → Korelasyon: -0.3148\n",
      "  Pencere: 19 saat → Korelasyon: -0.3142\n",
      "  Pencere: 17 saat → Korelasyon: -0.3135\n",
      "  Pencere: 20 saat → Korelasyon: -0.3120\n",
      "  Pencere: 16 saat → Korelasyon: -0.3102\n",
      "----------------------------------------\n",
      "generation fossil gas:\n",
      "  Pencere: 2 saat → Korelasyon: 0.4402\n",
      "  Pencere: 3 saat → Korelasyon: 0.4246\n",
      "  Pencere: 4 saat → Korelasyon: 0.4072\n",
      "  Pencere: 5 saat → Korelasyon: 0.3895\n",
      "  Pencere: 6 saat → Korelasyon: 0.3725\n",
      "----------------------------------------\n",
      "generation fossil hard coal:\n",
      "  Pencere: 2 saat → Korelasyon: 0.4457\n",
      "  Pencere: 3 saat → Korelasyon: 0.4369\n",
      "  Pencere: 4 saat → Korelasyon: 0.4277\n",
      "  Pencere: 5 saat → Korelasyon: 0.4189\n",
      "  Pencere: 6 saat → Korelasyon: 0.4112\n",
      "----------------------------------------\n",
      "generation wind onshore:\n",
      "  Pencere: 9 saat → Korelasyon: -0.2291\n",
      "  Pencere: 8 saat → Korelasyon: -0.2289\n",
      "  Pencere: 10 saat → Korelasyon: -0.2285\n",
      "  Pencere: 7 saat → Korelasyon: -0.2282\n",
      "  Pencere: 11 saat → Korelasyon: -0.2273\n",
      "----------------------------------------\n",
      "price_diff_1:\n",
      "  Pencere: 40 saat → Korelasyon: 0.4527\n",
      "  Pencere: 54 saat → Korelasyon: 0.4518\n",
      "  Pencere: 39 saat → Korelasyon: 0.4504\n",
      "  Pencere: 53 saat → Korelasyon: 0.4503\n",
      "  Pencere: 64 saat → Korelasyon: 0.4484\n",
      "----------------------------------------\n",
      "load_diff_1:\n",
      "  Pencere: 39 saat → Korelasyon: 0.3203\n",
      "  Pencere: 40 saat → Korelasyon: 0.3199\n",
      "  Pencere: 15 saat → Korelasyon: 0.3177\n",
      "  Pencere: 16 saat → Korelasyon: 0.3153\n",
      "  Pencere: 38 saat → Korelasyon: 0.3121\n",
      "----------------------------------------\n",
      "madrid_wind_speed:\n",
      "  Pencere: 15 saat → Korelasyon: -0.3504\n",
      "  Pencere: 14 saat → Korelasyon: -0.3501\n",
      "  Pencere: 16 saat → Korelasyon: -0.3490\n",
      "  Pencere: 13 saat → Korelasyon: -0.3478\n",
      "  Pencere: 17 saat → Korelasyon: -0.3463\n",
      "----------------------------------------\n",
      "madrid_temp:\n",
      "  Pencere: 2 saat → Korelasyon: 0.0638\n",
      "  Pencere: 3 saat → Korelasyon: 0.0577\n",
      "  Pencere: 4 saat → Korelasyon: 0.0507\n",
      "  Pencere: 5 saat → Korelasyon: 0.0427\n",
      "  Pencere: 6 saat → Korelasyon: 0.0340\n",
      "----------------------------------------\n"
     ]
    }
   ],
   "source": [
    "print(\"Rolling pencere korelasyon sonuçları (ilk 5 pencere):\\n\")\n",
    "for col, top_corrs in rolling_corr_results.items():\n",
    "    print(f\"{col}:\")\n",
    "    for w, c in top_corrs:\n",
    "        print(f\"  Pencere: {w} saat → Korelasyon: {c:.4f}\")\n",
    "    print(\"-\" * 40)\n"
   ]
  },
  {
   "cell_type": "code",
   "execution_count": 21,
   "id": "241347b9-e468-4c31-950a-3d00a777e527",
   "metadata": {},
   "outputs": [],
   "source": [
    "rolling_config = {\n",
    "    'price actual': [2, 3, 4],\n",
    "    'total load actual': [2, 3],\n",
    "    'fossil_total': [2, 3, 4],\n",
    "    'renewable_total': [16, 17, 18],\n",
    "    'price_diff_1': [52, 53],\n",
    "    'generation fossil gas': [2, 3],\n",
    "    'generation fossil hard coal': [2, 3],\n",
    "    'generation wind onshore': [6, 7],\n",
    "    'madrid_wind_speed': [14, 15],\n",
    "}\n",
    "for col, window_list in rolling_config.items():\n",
    "    for w in window_list:\n",
    "        merged_data[f'{col}_roll{w}_mean'] = merged_data[col].shift(1).rolling(window=w).mean()\n",
    "        merged_data[f'{col}_roll{w}_std'] = merged_data[col].shift(1).rolling(window=w).std()\n"
   ]
  },
  {
   "cell_type": "code",
   "execution_count": 22,
   "id": "8cc515d4-5e34-475c-83cc-1d3951b01206",
   "metadata": {},
   "outputs": [],
   "source": [
    "merged_data['price_load_interaction'] = merged_data['price_lag_1'] * merged_data['total load actual']\n",
    "merged_data['load_ratio_fossil'] = merged_data['total load actual'] / (merged_data['fossil_total'] + 1e-6)\n",
    "\n",
    "merged_data['fossil_vs_renewable'] = merged_data['fossil_total'] - merged_data['renewable_total']\n",
    "merged_data['fossil_renewable_ratio'] = merged_data['fossil_total'] / (merged_data['renewable_total'] + 1e-6)\n",
    "\n",
    "merged_data['wind_effect'] = merged_data['madrid_wind_speed'] * merged_data['generation wind onshore']\n",
    "merged_data['rain_demand_interaction'] = merged_data['madrid_is_rainy'] * merged_data['total load actual']\n",
    "\n",
    "merged_data['price_volatility_fossil'] = merged_data['price_diff_1'] * merged_data['fossil_ratio']\n",
    "\n",
    "merged_data['snow_load_effect'] = merged_data['madrid_is_snowy'] * merged_data['total load actual']"
   ]
  },
  {
   "cell_type": "code",
   "execution_count": 23,
   "id": "81b3fd53-f7d8-49ff-b540-a3803ece5176",
   "metadata": {},
   "outputs": [],
   "source": [
    "#FFT ile frekans bileşenleri çıkarımı\n",
    "\n",
    "from scipy.fftpack import fft\n",
    "import numpy as np\n",
    "\n",
    "def compute_fft_features(series, n_freq=5):\n",
    "    fft_vals = np.abs(fft(series.values))\n",
    "    fft_energy = np.sum(fft_vals**2)\n",
    "    top_freqs = np.sort(fft_vals)[-n_freq:]\n",
    "    return list(top_freqs) + [fft_energy]\n",
    "\n",
    "fft_features = []\n",
    "window_size = 24\n",
    "\n",
    "for i in range(window_size, len(merged_data)):\n",
    "    window = merged_data['price actual'].iloc[i - window_size:i]\n",
    "    features = compute_fft_features(window)\n",
    "    fft_features.append(features)\n",
    "\n",
    "fft_cols = [f'fft_peak_{i+1}' for i in range(5)] + ['fft_energy']\n",
    "fft_df = pd.DataFrame(fft_features, columns=fft_cols, index=merged_data.index[window_size:])\n",
    "merged_data = merged_data.join(fft_df)"
   ]
  },
  {
   "cell_type": "code",
   "execution_count": 24,
   "id": "58f709fc-4e66-43fd-a58b-540df7cea242",
   "metadata": {},
   "outputs": [],
   "source": [
    "# Haar benzeri manuel wavelet dönüşümü\n",
    "\n",
    "def haar_transform(series):\n",
    "    n = len(series) // 2 * 2\n",
    "    series = series[:n]\n",
    "    approx = [(series[i] + series[i+1]) / 2 for i in range(0, n, 2)]\n",
    "    detail = [(series[i] - series[i+1]) / 2 for i in range(0, n, 2)]\n",
    "    return np.mean(approx), np.std(approx), np.mean(detail), np.std(detail)\n",
    "\n",
    "haar_features = []\n",
    "\n",
    "for i in range(window_size, len(merged_data)):\n",
    "    window = merged_data['price actual'].iloc[i - window_size:i].values\n",
    "    features = haar_transform(window)\n",
    "    haar_features.append(features)\n",
    "\n",
    "haar_cols = ['dwt_approx_mean', 'dwt_approx_std', 'dwt_detail_mean', 'dwt_detail_std']\n",
    "haar_df = pd.DataFrame(haar_features, columns=haar_cols, index=merged_data.index[window_size:])\n",
    "merged_data = merged_data.join(haar_df)\n"
   ]
  },
  {
   "cell_type": "code",
   "execution_count": 25,
   "id": "b6fef122-81f8-4468-8521-752664406377",
   "metadata": {},
   "outputs": [],
   "source": [
    "# 1. %100 eksik sütunları çıkarılır\n",
    "merged_data = merged_data.drop(columns=[\n",
    "    'generation hydro pumped storage aggregated',\n",
    "    'forecast wind offshore eday ahead'\n",
    "])\n",
    "\n",
    "# 2. Üretimle ilgili eksik sütunları 0 ile doldurulur\n",
    "fill_zero_cols = [col for col in merged_data.columns if 'generation' in col and merged_data[col].isnull().sum() > 0]\n",
    "merged_data[fill_zero_cols] = merged_data[fill_zero_cols].fillna(0)\n",
    "\n",
    "# 3. Geri kalan eksik veriyi modelleme sırasında dropna() ile temizleyeceğiz\n"
   ]
  },
  {
   "cell_type": "markdown",
   "id": "9c0decf4-3966-4889-941d-3552042e075a",
   "metadata": {},
   "source": [
    "Modelleme öncesinde, hedef değişken (`target_price`) ve doğrudan onunla ilişkili sütunlar (`price actual`, `time` gibi) eğitim verisinden çıkarıldı. Bu, modelin gelecek bilgiye erişmesini (data leakage) engellemek için çıkarıldı."
   ]
  },
  {
   "cell_type": "code",
   "execution_count": 26,
   "id": "acee4668-e431-4a01-a294-276e73900c66",
   "metadata": {},
   "outputs": [],
   "source": [
    "exclude_cols = [\n",
    "    'target_price', 'time', 'dt_iso',\n",
    "    'price actual',\n",
    "]\n",
    "features = [\n",
    "    col for col in merged_data.columns\n",
    "    if col not in exclude_cols and np.issubdtype(merged_data[col].dtype, np.number)\n",
    "]"
   ]
  },
  {
   "cell_type": "code",
   "execution_count": 27,
   "id": "841a1a69-eedc-4df5-83d5-9cfd884b3b84",
   "metadata": {},
   "outputs": [],
   "source": [
    "merged_data.to_csv(\"../../data/processed/merged_with_weather.csv\", index=False)"
   ]
  },
  {
   "cell_type": "code",
   "execution_count": 28,
   "id": "35585045-f127-4633-a104-e921931b3138",
   "metadata": {},
   "outputs": [
    {
     "name": "stdout",
     "output_type": "stream",
     "text": [
      "Veri Özeti:\n",
      "Satır Sayısı: 36266\n",
      "Zaman Aralığı: 2014-12-31 23:00:00+00:00 → 2018-12-31 21:00:00+00:00\n",
      "Toplam Eksik Değer Sayısı: 3841\n",
      "\n",
      "Hedef Değişken (target_price) Özet İstatistikleri:\n",
      "count    36266.000000\n",
      "mean        58.036392\n",
      "std         14.196357\n",
      "min          9.330000\n",
      "25%         49.522500\n",
      "50%         58.190000\n",
      "75%         68.190000\n",
      "max        116.800000\n",
      "Name: target_price, dtype: float64\n",
      "\n",
      "TRAIN (25386 satır)\n",
      "Zaman Aralığı: 2014-12-31 23:00:00+00:00 → 2017-11-02 10:00:00+00:00\n",
      "target_price min: 9.33, max: 116.80\n",
      "\n",
      "VALIDATION (5439 satır)\n",
      "Zaman Aralığı: 2017-11-02 11:00:00+00:00 → 2018-05-30 14:00:00+00:00\n",
      "target_price min: 10.66, max: 99.95\n",
      "\n",
      "TEST (5441 satır)\n",
      "Zaman Aralığı: 2018-05-30 14:00:00+00:00 → 2018-12-31 21:00:00+00:00\n",
      "target_price min: 37.76, max: 91.93\n"
     ]
    }
   ],
   "source": [
    "import pandas as pd\n",
    "import numpy as np\n",
    "\n",
    "# Veriyi oku\n",
    "df = pd.read_csv(\"../../data/processed/merged_with_weather.csv\", parse_dates=[\"time\"])\n",
    "df = df.sort_values(\"time\").reset_index(drop=True)\n",
    "\n",
    "# Temel bilgi analizi\n",
    "print(\"Veri Özeti:\")\n",
    "print(f\"Satır Sayısı: {len(df)}\")\n",
    "print(f\"Zaman Aralığı: {df['time'].min()} → {df['time'].max()}\")\n",
    "print(f\"Toplam Eksik Değer Sayısı: {df.isnull().sum().sum()}\")\n",
    "\n",
    "# Hedef değişken kontrolü\n",
    "if \"target_price\" not in df.columns:\n",
    "    raise ValueError(\"target_price sütunu bulunamadı!\")\n",
    "print(\"\\nHedef Değişken (target_price) Özet İstatistikleri:\")\n",
    "print(df[\"target_price\"].describe())\n",
    "\n",
    "# Train/Val/Test oranları\n",
    "train_ratio = 0.7\n",
    "val_ratio = 0.15\n",
    "test_ratio = 0.15\n",
    "\n",
    "n_total = len(df)\n",
    "n_train = int(n_total * train_ratio)\n",
    "n_val = int(n_total * val_ratio)\n",
    "\n",
    "# Bölme işlemi\n",
    "df_train = df.iloc[:n_train].copy()\n",
    "df_val   = df.iloc[n_train:n_train + n_val].copy()\n",
    "df_test  = df.iloc[n_train + n_val:].copy()\n",
    "\n",
    "# Her parça için bilgi verelim\n",
    "def summarize_part(part, name):\n",
    "    print(f\"\\n{name.upper()} ({len(part)} satır)\")\n",
    "    print(f\"Zaman Aralığı: {part['time'].min()} → {part['time'].max()}\")\n",
    "    print(f\"target_price min: {part['target_price'].min():.2f}, max: {part['target_price'].max():.2f}\")\n",
    "\n",
    "summarize_part(df_train, \"Train\")\n",
    "summarize_part(df_val, \"Validation\")\n",
    "summarize_part(df_test, \"Test\")\n"
   ]
  },
  {
   "cell_type": "code",
   "execution_count": 29,
   "id": "00212d51-e64c-4986-b3c2-1101568b1e34",
   "metadata": {},
   "outputs": [
    {
     "name": "stdout",
     "output_type": "stream",
     "text": [
      "Toplam 136 adet öznitelik kullanılacak.\n",
      "\n",
      "Girdi ve hedef ayrımı tamamlandı.\n"
     ]
    }
   ],
   "source": [
    "target_col = \"target_price\"\n",
    "\n",
    "# Modelde kullanmayacağımız sızıntı riski olduğu düşünülen sütunlar çıkartılır\n",
    "drop_cols = [\n",
    "    \"time\",                            # zaman bilgisi (ID gibi düşünülebilir)\n",
    "    \"price actual\",                    # hedef değişkenle birebir ilişkili, leakage riski\n",
    "    \"forecast price day ahead\",       # geleceğe ait dışsal bilgi, tahmine dahil edilmemeli\n",
    "    \"target_price\",                   # zaten tahmin edilen hedef\n",
    "    \"log_target_price\",               # hedefin logaritması, doğrudan bilgi içeriyor\n",
    "    \"price actual_roll2_mean\",        # hedefle çok yakın zamanlı ve orijinal fiyat üzerinden\n",
    "    \"price actual_roll2_std\",\n",
    "    \"price actual_roll3_mean\",\n",
    "    \"price actual_roll3_std\",\n",
    "    \"price actual_roll4_mean\",\n",
    "    \"price actual_roll4_std\",\n",
    "    \"is_price_outlier\",               # doğrudan hedefe dayalı olarak belirlenmiş (IQR yöntemiyle)\n",
    "    \"fft_mean\",                       # hedefin FFT dönüşümünden gelen, modelin tahmin edeceği bilgi olabilir\n",
    "    \"fft_std\",\n",
    "    \"fft_max\",\n",
    "    \"fft_peak_1\", \"fft_peak_2\", \"fft_peak_3\", \"fft_peak_4\", \"fft_peak_5\",\n",
    "    \"fft_energy\",\n",
    "    \"log_price\",                      # `price actual` üzerinden gelen türev bilgi (tartışmalı ama dikkatli olunmalı)\n",
    "    \"price_day_ahead\"\n",
    "]\n",
    "\n",
    "\n",
    "feature_cols = [col for col in df_train.columns if col not in drop_cols]\n",
    "\n",
    "print(f\"Toplam {len(feature_cols)} adet öznitelik kullanılacak.\")\n",
    "\n",
    "\n",
    "# girdi ve hedef setlerini oluşturulur\n",
    "X_train = df_train[feature_cols].copy()\n",
    "X_val   = df_val[feature_cols].copy()\n",
    "X_test  = df_test[feature_cols].copy()\n",
    "\n",
    "y_train = df_train[target_col].copy()\n",
    "y_val   = df_val[target_col].copy()\n",
    "y_test  = df_test[target_col].copy()\n",
    "\n",
    "print(\"\\nGirdi ve hedef ayrımı tamamlandı.\")\n",
    "\n"
   ]
  },
  {
   "cell_type": "code",
   "execution_count": 30,
   "id": "5bea058f-e6ee-4f85-a5a6-3379b66ec5f3",
   "metadata": {},
   "outputs": [
    {
     "name": "stdout",
     "output_type": "stream",
     "text": [
      "Train eksik veri durumu:\n",
      "load_roll_std_24           406\n",
      "load_roll_mean_24          406\n",
      "load_roll_mean_12          214\n",
      "load_roll_std_12           214\n",
      "load_lag_168               200\n",
      "                          ... \n",
      "fossil_total_roll2_mean      2\n",
      "fossil_total_roll2_std       2\n",
      "price_lag_1                  1\n",
      "price_diff_1                 1\n",
      "price_volatility_fossil      1\n",
      "Length: 64, dtype: int64\n",
      "Validation eksik veri durumu:\n",
      "load_roll_mean_24               31\n",
      "load_roll_std_24                31\n",
      "load_roll_std_12                19\n",
      "load_roll_mean_12               19\n",
      "load_roll_std_6                 12\n",
      "load_roll_mean_6                12\n",
      "total load actual_roll3_mean     6\n",
      "load_roll_mean_3                 6\n",
      "load_roll_std_3                  6\n",
      "total load actual_roll3_std      6\n",
      "total load actual_roll2_std      4\n",
      "load_diff_1                      4\n",
      "total load actual_roll2_mean     4\n",
      "total load actual                2\n",
      "load_lag_168                     2\n",
      "load_lag_24                      2\n",
      "load_lag_2                       2\n",
      "load_lag_1                       2\n",
      "price_load_interaction           2\n",
      "load_ratio_fossil                2\n",
      "rain_demand_interaction          2\n",
      "snow_load_effect                 2\n",
      "dtype: int64\n",
      "Test eksik veri durumu:\n",
      "load_roll_std_24                49\n",
      "load_roll_mean_24               49\n",
      "load_roll_std_12                25\n",
      "load_roll_mean_12               25\n",
      "load_roll_mean_6                13\n",
      "load_roll_std_6                 13\n",
      "load_roll_std_3                  7\n",
      "load_roll_mean_3                 7\n",
      "total load actual_roll3_std      6\n",
      "total load actual_roll3_mean     6\n",
      "load_diff_1                      5\n",
      "total load actual_roll2_std      4\n",
      "total load actual_roll2_mean     4\n",
      "load_lag_1                       3\n",
      "load_lag_2                       2\n",
      "load_lag_24                      2\n",
      "load_lag_168                     2\n",
      "total load actual                2\n",
      "price_load_interaction           2\n",
      "load_ratio_fossil                2\n",
      "rain_demand_interaction          2\n",
      "snow_load_effect                 2\n",
      "wind_effect                      1\n",
      "dtype: int64\n",
      "\n",
      "Sayısal sütun sayısı: 132\n",
      "Kategorik (sayısal olmayan) sütun sayısı: 4\n",
      "Kategorik sütunlar: ['madrid_city_name', 'madrid_weather_description', 'madrid_weather_icon', 'madrid_weather_main']\n"
     ]
    }
   ],
   "source": [
    "#eksik veri analizi\n",
    "def missing_report(df, name):\n",
    "    null_counts = df[feature_cols].isnull().sum()\n",
    "    missing = null_counts[null_counts > 0].sort_values(ascending=False)\n",
    "    if len(missing) == 0:\n",
    "        print(f\"{name}: Eksik veri yok.\")\n",
    "    else:\n",
    "        print(f\"{name} eksik veri durumu:\\n{missing}\")\n",
    "\n",
    "missing_report(df_train, \"Train\")\n",
    "missing_report(df_val, \"Validation\")\n",
    "missing_report(df_test, \"Test\")\n",
    "\n",
    "#sayısal ve kategorik ayrımı\n",
    "numeric_cols = df_train[feature_cols].select_dtypes(include=[\"float64\", \"int64\"]).columns.tolist()\n",
    "categorical_cols = list(set(feature_cols) - set(numeric_cols))\n",
    "\n",
    "print(f\"\\nSayısal sütun sayısı: {len(numeric_cols)}\")\n",
    "print(f\"Kategorik (sayısal olmayan) sütun sayısı: {len(categorical_cols)}\")\n",
    "\n",
    "\n",
    "if categorical_cols:\n",
    "    print(f\"Kategorik sütunlar: {categorical_cols}\")\n"
   ]
  },
  {
   "cell_type": "markdown",
   "id": "51b140d5-ac61-4bba-ac03-2375d4a53b50",
   "metadata": {},
   "source": [
    "Eksik değerler sadece eğitim verisinin ortalamalarıyla dolduruldu. Bu sayede doğrulama ve test setlerinin içeriğine dair bilgi modele sızmamış oldu."
   ]
  },
  {
   "cell_type": "code",
   "execution_count": 31,
   "id": "67b84c90-a898-4b20-afa9-bd5a5b3f1393",
   "metadata": {},
   "outputs": [
    {
     "name": "stdout",
     "output_type": "stream",
     "text": [
      "Eksik veri temizliği tamamlandı.\n",
      "X_train null? 0\n",
      "X_val null?   0\n",
      "X_test null?  0\n"
     ]
    }
   ],
   "source": [
    "# Kategorik sütunları çıkar\n",
    "X_train = X_train.drop(columns=categorical_cols)\n",
    "X_val   = X_val.drop(columns=categorical_cols)\n",
    "X_test  = X_test.drop(columns=categorical_cols)\n",
    "\n",
    "# Ortalamaları sadece TRAIN setinden al\n",
    "fill_values = X_train.mean()\n",
    "\n",
    "# Eksik değerleri doldur\n",
    "X_train = X_train.fillna(fill_values)\n",
    "X_val   = X_val.fillna(fill_values)\n",
    "X_test  = X_test.fillna(fill_values)\n",
    "\n",
    "print(\"Eksik veri temizliği tamamlandı.\")\n",
    "print(f\"X_train null? {X_train.isnull().sum().sum()}\")\n",
    "print(f\"X_val null?   {X_val.isnull().sum().sum()}\")\n",
    "print(f\"X_test null?  {X_test.isnull().sum().sum()}\")"
   ]
  },
  {
   "cell_type": "code",
   "execution_count": 32,
   "id": "815a9dc8-c261-4383-96d2-cc215d3ce893",
   "metadata": {},
   "outputs": [
    {
     "name": "stdout",
     "output_type": "stream",
     "text": [
      "Normalizasyon tamamlandı.\n",
      "Ortalama (train): -0.0000\n",
      "Std (train): 0.9770\n"
     ]
    }
   ],
   "source": [
    "from sklearn.preprocessing import StandardScaler\n",
    "\n",
    "#StandardScaler\n",
    "scaler = StandardScaler()\n",
    "X_train_scaled = scaler.fit_transform(X_train)\n",
    "X_val_scaled   = scaler.transform(X_val)\n",
    "X_test_scaled  = scaler.transform(X_test)\n",
    "\n",
    "print(\"Normalizasyon tamamlandı.\")\n",
    "print(f\"Ortalama (train): {X_train_scaled.mean():.4f}\")\n",
    "print(f\"Std (train): {X_train_scaled.std():.4f}\")\n"
   ]
  },
  {
   "cell_type": "markdown",
   "id": "bf44916b-7276-454c-98fe-ac0ff172347d",
   "metadata": {},
   "source": [
    "Veri, doğrusal ve derin öğrenme modelleri için normalize edildi. Sadece eğitim verisiyle `fit` edilerek doğrulama ve test setlerine uygulandı."
   ]
  },
  {
   "cell_type": "code",
   "execution_count": 33,
   "id": "8a6be2e3-cd9f-4714-85cb-e0564de7896b",
   "metadata": {},
   "outputs": [
    {
     "name": "stdout",
     "output_type": "stream",
     "text": [
      "X_train (ölçeklenmemiş) son boyutu: (25386, 132)\n",
      "X_train_scaled (ölçeklenmiş) son boyutu: (25386, 132)\n",
      "--------------------------------------------------\n",
      "132 adet eğitim sütunu 'models/train_columns.pkl' dosyasına kaydedildi.\n",
      "\n",
      "Tüm veri nesneleri models/ klasörüne yeniden ve doğru sırayla kaydedildi.\n"
     ]
    }
   ],
   "source": [
    "import joblib\n",
    "import os\n",
    "import pandas as pd # Gerekirse diye ekleyelim\n",
    "\n",
    "\n",
    "# Kategorik sütunları çıkar \n",
    "categorical_cols = X_train.select_dtypes(include=['object', 'category']).columns\n",
    "X_train = X_train.drop(columns=categorical_cols)\n",
    "X_val   = X_val.drop(columns=categorical_cols)\n",
    "X_test  = X_test.drop(columns=categorical_cols)\n",
    "\n",
    "# Eksik değerleri doldur\n",
    "fill_values = X_train.mean()\n",
    "X_train = X_train.fillna(fill_values)\n",
    "X_val   = X_val.fillna(fill_values)\n",
    "X_test  = X_test.fillna(fill_values)\n",
    "\n",
    "\n",
    "from sklearn.preprocessing import StandardScaler\n",
    "scaler = StandardScaler()\n",
    "X_train_scaled = scaler.fit_transform(X_train)\n",
    "X_val_scaled   = scaler.transform(X_val)\n",
    "X_test_scaled  = scaler.transform(X_test)\n",
    "\n",
    "\n",
    "print(f\"X_train (ölçeklenmemiş) son boyutu: {X_train.shape}\")\n",
    "print(f\"X_train_scaled (ölçeklenmiş) son boyutu: {X_train_scaled.shape}\")\n",
    "print(\"-\" * 50)\n",
    "\n",
    "\n",
    "os.makedirs(\"models\", exist_ok=True)\n",
    "\n",
    "train_columns = X_train.columns.tolist()\n",
    "joblib.dump(train_columns, \"models/train_columns.pkl\")\n",
    "print(f\"{len(train_columns)} adet eğitim sütunu 'models/train_columns.pkl' dosyasına kaydedildi.\")\n",
    "\n",
    "# Scaled (MLP için)\n",
    "joblib.dump(X_train_scaled, \"models/X_train_scaled.pkl\")\n",
    "joblib.dump(X_val_scaled,   \"models/X_val_scaled.pkl\")\n",
    "joblib.dump(X_test_scaled,  \"models/X_test_scaled.pkl\")\n",
    "\n",
    "# Unscaled (Tree modeller için) - Artık sütun listesiyle senkronize\n",
    "joblib.dump(X_train, \"models/X_train.pkl\")\n",
    "joblib.dump(X_val,   \"models/X_val.pkl\")\n",
    "joblib.dump(X_test,  \"models/X_test.pkl\")\n",
    "\n",
    "# Hedef değişkenler\n",
    "joblib.dump(y_train, \"models/y_train.pkl\")\n",
    "joblib.dump(y_val,   \"models/y_val.pkl\")\n",
    "joblib.dump(y_test,  \"models/y_test.pkl\")\n",
    "\n",
    "# Scaler\n",
    "joblib.dump(scaler, \"models/scaler.pkl\")\n",
    "\n",
    "print(\"\\nTüm veri nesneleri models/ klasörüne yeniden ve doğru sırayla kaydedildi.\")"
   ]
  },
  {
   "cell_type": "markdown",
   "id": "ea55460e-b0f9-4070-b916-c37d0d9f9866",
   "metadata": {},
   "source": [
    "Genel Değerlendirme\n",
    "\n",
    "Bu bölümde yaptığım öznitelik mühendisliği sayesinde zaman serisi verisinden pek çok anlamlı bilgi çıkarmış oldum. Zaman, tüketim ve geçmiş fiyat bilgilerini kullanarak modelin tahmin gücünü artırabilecek özellikler üretildi.\n",
    "\n",
    "Özellikle:\n",
    "- Gecikmeli değerler (lag) ile kısa ve uzun vadeli bağımlılıklar yakalandı,\n",
    "- Rolling istatistikler ile fiyat ve tüketimdeki lokal desenler ortaya kondu,\n",
    "- Saat bilgisi sin/cos dönüşümüyle döngüsel olarak temsil edildi,\n",
    "- Log dönüşümü ve IQR ile aykırı değerler kontrol altına alındı,\n",
    "- FFT ile zaman serisindeki gizli periyodik yapılar tanımlandı.\n",
    "\n",
    "Bu öznitelikler, sonraki aşamada modelin hem daha doğru hem de daha kararlı tahminler yapmasına katkı sağlayacaktır."
   ]
  },
  {
   "cell_type": "code",
   "execution_count": null,
   "id": "886fc279-bf85-41d9-867f-e018758c923c",
   "metadata": {},
   "outputs": [],
   "source": []
  }
 ],
 "metadata": {
  "kernelspec": {
   "display_name": "tf-env",
   "language": "python",
   "name": "python3"
  },
  "language_info": {
   "codemirror_mode": {
    "name": "ipython",
    "version": 3
   },
   "file_extension": ".py",
   "mimetype": "text/x-python",
   "name": "python",
   "nbconvert_exporter": "python",
   "pygments_lexer": "ipython3",
   "version": "3.10.18"
  }
 },
 "nbformat": 4,
 "nbformat_minor": 5
}
